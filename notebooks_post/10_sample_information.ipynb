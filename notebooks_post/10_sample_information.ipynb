{
 "cells": [
  {
   "cell_type": "markdown",
   "id": "ab509756-3a64-4d76-9310-30084ae9d78b",
   "metadata": {},
   "source": [
    "# Pre-processed data\n",
    "\n",
    "Pre-processed data including the protein abundance and the features extracted from the deep learning model are standardized."
   ]
  },
  {
   "cell_type": "code",
   "execution_count": 1,
   "id": "9f94f4bf-e5eb-40ed-8401-9d3668ce06b3",
   "metadata": {},
   "outputs": [],
   "source": [
    "## logging functions\n",
    "import logging\n",
    "## data functions\n",
    "import numpy as np\n",
    "## data functions from roux\n",
    "from roux.lib.dict import merge_dicts\n",
    "## system functions\n",
    "from os.path import dirname\n",
    "import sys\n",
    "## system functions from roux\n",
    "from IPython.display import Markdown as info_nb\n",
    "from roux.lib.sys import read_ps\n",
    "from roux.lib.io import read_table\n",
    "import roux.lib.dfs as rd # attributes\n",
    "sys.path.append('../')"
   ]
  },
  {
   "cell_type": "code",
   "execution_count": 2,
   "id": "ec0c4f3a-347a-4937-b9b1-14662c0b6ad7",
   "metadata": {},
   "outputs": [],
   "source": [
    "## input parameters\n",
    "metadata_path='../config/metadata.yaml'\n",
    "force=False\n",
    "test=True"
   ]
  },
  {
   "cell_type": "code",
   "execution_count": 3,
   "id": "d831080d-b292-4f7d-a5da-79f14bd3008a",
   "metadata": {},
   "outputs": [],
   "source": [
    "## inferred parameters\n",
    "metadata=read_metadata(\n",
    "    metadata_path,\n",
    "    inputs=None if not test else {'version':{'number':'test'}},)\n",
    "metadata['dataset']=read_metadata(\n",
    "    metadata['dataset_config_path'],\n",
    "    config_base=dict(species_name=metadata['species_name'],\n",
    "    path=metadata['dataset_path'],),)\n",
    "### output\n",
    "output_dir_path=metadata['processed']['ids']\n",
    "logging.info(f\"Output directory: {output_dir_path}\")\n",
    "## backup old files if overwriting (force is True)\n",
    "if force: backup(output_dir_path,dirname(output_dir_path),test=not force,)"
   ]
  },
  {
   "cell_type": "markdown",
   "id": "8685db1d-eb57-4bb5-95bd-973f9e6bc594",
   "metadata": {
    "tags": []
   },
   "source": [
    "## Metainfo\n",
    "### Paralogs\n",
    "#### Loading the metainfo"
   ]
  },
  {
   "cell_type": "code",
   "execution_count": 4,
   "id": "f59d7de4-48fb-471d-bb41-362eaeed8377",
   "metadata": {},
   "outputs": [],
   "source": [
    "df00=read_table(\n",
    "    read_ps(f\"{metadata['pre_processed']['metainfo']['path']}/*.csv\"),\n",
    "    )\n",
    "df00.head(1)"
   ]
  },
  {
   "cell_type": "code",
   "execution_count": 5,
   "id": "3a961d0c-8bf5-45cd-b91e-566898441c95",
   "metadata": {},
   "outputs": [],
   "source": [
    "## for merging the features\n",
    "df00=(df00\n",
    ".assign(**{'cell id per subset':range(len(df00))})\n",
    ")"
   ]
  },
  {
   "cell_type": "code",
   "execution_count": 6,
   "id": "f0386257-9fff-48d1-98f7-2f61bc5cdda9",
   "metadata": {},
   "outputs": [],
   "source": [
    "to_table(df00,metadata['metainfo']['raw']['paralogs'])"
   ]
  },
  {
   "cell_type": "markdown",
   "id": "445c4aa1-4cc3-48f1-b608-38b62cde5b74",
   "metadata": {},
   "source": [
    "#### Standardizing columns"
   ]
  },
  {
   "cell_type": "code",
   "execution_count": 7,
   "id": "39593acc-6f35-47f3-82a6-e3ca7a5a3de9",
   "metadata": {
    "scrolled": true,
    "tags": []
   },
   "outputs": [],
   "source": [
    "from modules.tools.io import read_pre_processed\n",
    "df0=read_pre_processed(\n",
    "    df00,\n",
    "    excludes=metadata['data']['exclude'], # remove controls\n",
    "    rename=True,\n",
    "    clean=True,\n",
    "    )\n",
    "df0.head(1)"
   ]
  },
  {
   "cell_type": "code",
   "execution_count": 8,
   "id": "e60c0369-d422-403f-8d2d-71b3dbb19710",
   "metadata": {},
   "outputs": [],
   "source": [
    "to_table(df0,metadata['metainfo']['combined']['paralogs'])"
   ]
  },
  {
   "cell_type": "markdown",
   "id": "4155dbcc-16e8-4e6c-827d-d2925842fc7f",
   "metadata": {},
   "source": [
    "#### Mapping gene symbols to gene IDs"
   ]
  },
  {
   "cell_type": "code",
   "execution_count": 9,
   "id": "14101384-a388-4a9e-8c3a-df341382629a",
   "metadata": {},
   "outputs": [],
   "source": [
    "## ensembl\n",
    "df01=read_table(metadata['dataset']['ids']['genes'])\n",
    "df01.head(1)"
   ]
  },
  {
   "cell_type": "code",
   "execution_count": 10,
   "id": "e6f52e95-8740-40b5-8349-47336ee24db4",
   "metadata": {},
   "outputs": [],
   "source": [
    "df1=df0['pairs'].str.split('-',expand=True).melt()['value'].drop_duplicates().replace('control',np.nan).dropna().to_frame('gene symbol').reset_index(drop=True).log()\n",
    "df1.head(1)"
   ]
  },
  {
   "cell_type": "code",
   "execution_count": 11,
   "id": "994688cf-f083-4921-b6d3-065d847836da",
   "metadata": {},
   "outputs": [],
   "source": [
    "from roux.workflow.io import import_from_file\n",
    "ids=import_from_file(metadata['dataset']['path']+'/modules/lib/ids.py')\n",
    "df2=ids.gene_symbol_to_id(\n",
    "    df1, # input\n",
    "    df01, # reference table containing the gene ids/symbols/synonyms\n",
    "    clean=True,\n",
    "    )\n",
    "df2.head(1)"
   ]
  },
  {
   "cell_type": "code",
   "execution_count": 12,
   "id": "cfc1eebd-5107-4c1a-9382-d3bfa7f1bb46",
   "metadata": {},
   "outputs": [],
   "source": [
    "logging.info('non-verified genes in the dataset:')\n",
    "df01.log.query(expr=f\"`gene id` in {df2['gene id'].tolist()} and `gene qualifier` != 'Verified'\")"
   ]
  },
  {
   "cell_type": "code",
   "execution_count": 13,
   "id": "456b077f-6640-4b31-9d10-ba0685f04469",
   "metadata": {},
   "outputs": [],
   "source": [
    "to_table(df2,metadata['ids']['genes'])"
   ]
  },
  {
   "cell_type": "markdown",
   "id": "23431308-3e39-40cb-bc3f-90e605dfb534",
   "metadata": {},
   "source": [
    "#### Creating pair IDs based on the gene IDs\n",
    "\n",
    "Usage: for mapping the external paralog features."
   ]
  },
  {
   "cell_type": "code",
   "execution_count": 14,
   "id": "be430172-8c07-4349-99fc-63eca60748eb",
   "metadata": {},
   "outputs": [],
   "source": [
    "df_=(df0\n",
    "    .loc[:,['pairs']].log.drop_duplicates()\n",
    "    .rd.split_ids(col='pairs',sep='-',prefix='gene symbol gene')\n",
    "    )\n",
    "df_.head(1)"
   ]
  },
  {
   "cell_type": "code",
   "execution_count": 15,
   "id": "18751584-db45-4f9f-939c-4a6680361dfe",
   "metadata": {},
   "outputs": [],
   "source": [
    "df3=df_.rd.merge_paired(\n",
    "    df2=df2,\n",
    "    left_ons=['gene symbol gene1','gene symbol gene2'],\n",
    "    right_on=['gene symbol'],\n",
    "    how = 'inner',\n",
    "    validates = ['1:1', '1:1'],\n",
    ").assign(\n",
    "**{'genes id': lambda df:df.rd.make_ids_sorted(cols=['gene id gene1','gene id gene2'],ids_have_equal_length=False,sep='--'),\n",
    "  }\n",
    ")\n",
    "df3.head(1)"
   ]
  },
  {
   "cell_type": "code",
   "execution_count": 17,
   "id": "0cee5653-f8f6-48a6-beb5-782a5646c741",
   "metadata": {},
   "outputs": [],
   "source": [
    "to_table(df3,metadata['ids']['pairs'])"
   ]
  },
  {
   "cell_type": "markdown",
   "id": "39e05748-5383-44ec-b39e-f60b80612db5",
   "metadata": {},
   "source": [
    "### Controls"
   ]
  },
  {
   "cell_type": "markdown",
   "id": "4618f2ab-efd5-4116-af7f-f12b1d23e4d9",
   "metadata": {},
   "source": [
    "#### Metainfo"
   ]
  },
  {
   "cell_type": "code",
   "execution_count": 21,
   "id": "5f43d01d-722e-43e6-8cc4-232fa2f3eb81",
   "metadata": {},
   "outputs": [],
   "source": [
    "%reset_selective -f \"^df.*\""
   ]
  },
  {
   "cell_type": "code",
   "execution_count": 22,
   "id": "8a4ee9dd-371a-414f-b325-56841ac599d3",
   "metadata": {},
   "outputs": [],
   "source": [
    "df01=read_table([f\"{metadata['pre_processed']['metainfo']['path']}/{s}.csv\" for s in  sorted(metadata['data']['subsets']['controls from']['pairs'])])\n",
    "df01.head(1)"
   ]
  },
  {
   "cell_type": "markdown",
   "id": "f261557c-74ba-4f8e-8e16-a70bbf47c9ed",
   "metadata": {},
   "source": [
    "#### Filtering"
   ]
  },
  {
   "cell_type": "code",
   "execution_count": 23,
   "id": "97ebda64-27d4-48ff-a053-69a3089de7b7",
   "metadata": {},
   "outputs": [],
   "source": [
    "df1=(df01\n",
    "     .assign(**{'cell id per subset':range(len(df01))})\n",
    "    .log.query(expr=\"`pairs` == 'control' or `natMX4`.isna()\")\n",
    ")\n",
    "df1.head(1)"
   ]
  },
  {
   "cell_type": "code",
   "execution_count": 24,
   "id": "e0405a50-cacb-4427-97d7-8cfe8fb6449a",
   "metadata": {},
   "outputs": [],
   "source": [
    "df1.loc[:,['pairs','GFP','natMX4']].drop_duplicates().sort_values('GFP')"
   ]
  },
  {
   "cell_type": "code",
   "execution_count": 25,
   "id": "bafb3e8e-bbe4-4d61-8c1f-2b6282cfe7ee",
   "metadata": {},
   "outputs": [],
   "source": [
    "rename_partner=merge_dicts(\n",
    "    [dict([s.split('-')       for s in metadata['data']['subsets']['controls']['pairs']]),\n",
    "     dict([s.split('-')[::-1] for s in metadata['data']['subsets']['controls']['pairs']]),\n",
    "            ])\n",
    "assert rename_partner==df1.loc[:,['pairs','GFP','natMX4']].drop_duplicates().dropna().set_index('GFP')['natMX4'].to_dict()\n",
    "info_nb(f'The partner gene is renamed as: {rename_partner}')"
   ]
  },
  {
   "cell_type": "markdown",
   "id": "2bd53bc5-331b-4b78-bb4e-359414fa3c3d",
   "metadata": {},
   "source": [
    "#### Assigning partner genes "
   ]
  },
  {
   "cell_type": "code",
   "execution_count": 26,
   "id": "780145d9-d174-4d20-96ac-30ede9fc5ba2",
   "metadata": {},
   "outputs": [],
   "source": [
    "#filter\n",
    "df2=(df1\n",
    "    .assign(**{\n",
    "        'gene symbol partner':lambda x: x['GFP'].map(rename_partner),\n",
    "        'pairs':lambda x: x.apply(lambda y: '-'.join(sorted([y['GFP'],y['gene symbol partner']])) ,axis=1),\n",
    "        'label':lambda x: x.apply(lambda y: f\"{y['GFP']}-GFP {y['gene symbol partner']}-{'WT' if pd.isnull(y['natMX4']) else 'DELTA'}\" ,axis=1),\n",
    "        'cell id per pair': lambda df: df.groupby('pairs')['URL'].transform(lambda df: range(len(df)))\n",
    "              }\n",
    "          )\n",
    "    )\n",
    "df2.head(1)"
   ]
  },
  {
   "cell_type": "code",
   "execution_count": 27,
   "id": "42f08a33-3ef6-471f-b1ae-6414ba6bcb0e",
   "metadata": {},
   "outputs": [],
   "source": [
    "df2['pairs'].unique()"
   ]
  },
  {
   "cell_type": "code",
   "execution_count": 28,
   "id": "c7807111-060b-4ff7-b2d0-a4fc0dd204ec",
   "metadata": {},
   "outputs": [],
   "source": [
    "assert all(df2.groupby('pairs')['label'].nunique()==4), df2.groupby('pairs')['label'].unique()"
   ]
  },
  {
   "cell_type": "code",
   "execution_count": 29,
   "id": "66971aa0-4966-478e-a47b-4504c75186eb",
   "metadata": {},
   "outputs": [],
   "source": [
    "to_table(df2,metadata['metainfo']['raw']['controls'])"
   ]
  },
  {
   "cell_type": "markdown",
   "id": "4d3a09b4-ec2a-44e9-b41a-783b6a4d90a5",
   "metadata": {},
   "source": [
    "#### Standardizing the columns"
   ]
  },
  {
   "cell_type": "code",
   "execution_count": 30,
   "id": "d20d3337-9999-44e1-b5e5-6940179bbbea",
   "metadata": {},
   "outputs": [],
   "source": [
    "### map the annotations\n",
    "from modules.tools.io import read_pre_processed\n",
    "df3=read_pre_processed(\n",
    "    p=df2,\n",
    "    rename=True,\n",
    "    clean=True,\n",
    "    )\n",
    "df3.head(1)"
   ]
  },
  {
   "cell_type": "code",
   "execution_count": 31,
   "id": "68b2d0ec-bce6-4c3e-9ec8-c995edb52c51",
   "metadata": {},
   "outputs": [],
   "source": [
    "assert all(df3.groupby('pairs')['status partner'].nunique()==2), df3.groupby('pairs')['status partner'].unique()"
   ]
  },
  {
   "cell_type": "code",
   "execution_count": 33,
   "id": "cedb2314-3e3a-40b8-8e36-344124a27e40",
   "metadata": {},
   "outputs": [],
   "source": [
    "to_table(df3,metadata['metainfo']['combined']['controls'])"
   ]
  }
 ],
 "metadata": {
  "kernelspec": {
   "display_name": "yeast",
   "language": "python",
   "name": "yeast"
  },
  "language_info": {
   "codemirror_mode": {
    "name": "ipython",
    "version": 3
   },
   "file_extension": ".py",
   "mimetype": "text/x-python",
   "name": "python",
   "nbconvert_exporter": "python",
   "pygments_lexer": "ipython3",
   "version": "3.7.13"
  }
 },
 "nbformat": 4,
 "nbformat_minor": 5
}
