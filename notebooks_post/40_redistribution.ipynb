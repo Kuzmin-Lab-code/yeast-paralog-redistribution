{
 "cells": [
  {
   "cell_type": "markdown",
   "id": "0e66d735-78df-46f3-b854-8bc24394dc58",
   "metadata": {},
   "source": [
    "# Redistribution\n",
    "\n",
    "Redistribution scores and classification."
   ]
  },
  {
   "cell_type": "code",
   "execution_count": 1,
   "id": "e4a42a77-9e41-4535-9e04-cea993f213e9",
   "metadata": {},
   "outputs": [],
   "source": [
    "## data functions\n",
    "import numpy as np\n",
    "import pandas as pd\n",
    "## system functions\n",
    "from os.path import dirname\n",
    "## system functions from roux\n",
    "from roux.lib.io import backup\n",
    "from roux.lib.io import read_dict\n",
    "from roux.lib.io import read_table\n",
    "## workflow functions from roux\n",
    "from roux.workflow.io import read_metadata\n",
    "## visualization functions\n",
    "import matplotlib.pyplot as plt\n",
    "## visualization functions from roux\n",
    "from roux.viz.io import begin_plot\n",
    "from roux.viz.colors import get_colors_default\n",
    "from roux.viz.io import to_plot\n",
    "## data functions from roux\n",
    "import roux.lib.dfs as rd # attributes\n",
    "sys.path.append('..')"
   ]
  },
  {
   "cell_type": "code",
   "execution_count": 2,
   "id": "230e9710-7439-431a-bba9-03c3942a1512",
   "metadata": {},
   "outputs": [],
   "source": [
    "## parameters\n",
    "metadata_path='../config/metadata.yaml'\n",
    "kernel=None\n",
    "force=False\n",
    "test=True"
   ]
  },
  {
   "cell_type": "code",
   "execution_count": 3,
   "id": "273470f2-a516-43cb-a4cb-a341707a361a",
   "metadata": {},
   "outputs": [],
   "source": [
    "## inferred parameters\n",
    "metadata=read_metadata(metadata_path,inputs=None if not test else {'version':{'number':'test'}},)\n",
    "metadata['dataset']=read_metadata(metadata['dataset_config_path'],config_base=dict(species_name=metadata['species_name'],path=metadata['dataset_path'],),)\n",
    "### output\n",
    "output_dir_path=metadata['processed']['redistribution']\n",
    "logging.info(f\"Output directory: {output_dir_path}\")\n",
    "## backup old files if overwriting (force is True)\n",
    "if force: backup(output_dir_path,dirname(output_dir_path),test=not force,)\n",
    "## misc.\n",
    "if kernel is None:\n",
    "    kernel=metadata['kernels']['default']"
   ]
  },
  {
   "cell_type": "markdown",
   "id": "6501a1ee-5e6b-4bbf-825d-196ac71499ea",
   "metadata": {
    "tags": []
   },
   "source": [
    "## Redistribution"
   ]
  },
  {
   "cell_type": "markdown",
   "id": "46228fc5-9233-4a28-9112-5b854edf992e",
   "metadata": {},
   "source": [
    "## Distances"
   ]
  },
  {
   "cell_type": "code",
   "execution_count": 12,
   "id": "a92b6ee8-9a72-49bd-ad7c-4b68e7247015",
   "metadata": {},
   "outputs": [],
   "source": [
    "parameters_list=[]\n",
    "for input_path_key in ['paralogs','controls']:\n",
    "    for unit in ['replicates','genes']:\n",
    "        parameters_list.append(\n",
    "            dict(    \n",
    "                ## parameters\n",
    "                input_path=metadata['features']['zscore'][input_path_key],\n",
    "                output_path=metadata['redistribution']['distances'][unit][input_path_key],\n",
    "                input_type='features',\n",
    "                unit=unit,\n",
    "                method_distance=\"euclidean\", # \"euclidean\" # cosine\n",
    "                pcs=None, # number of pcs to use\n",
    "                test=False,\n",
    "            )\n",
    "            )\n",
    "len(parameters_list)"
   ]
  },
  {
   "cell_type": "code",
   "execution_count": 29,
   "id": "3980cda5-b296-40a1-a742-991e5f592fb0",
   "metadata": {},
   "outputs": [],
   "source": [
    "from roux.workflow.task import run_tasks\n",
    "_=run_tasks(\n",
    "    input_notebook_path='41_script_redistribution_scores.ipynb',\n",
    "    kernel=kernel,\n",
    "    parameters_list = parameters_list,\n",
    "    fast = False,\n",
    ")"
   ]
  },
  {
   "cell_type": "markdown",
   "id": "890a46b7-5eca-4e36-b7ca-a9189d056963",
   "metadata": {},
   "source": [
    "## Redistribution scores"
   ]
  },
  {
   "cell_type": "markdown",
   "id": "da638487-783a-4dbf-9975-df3f51e8e7d6",
   "metadata": {},
   "source": [
    "### Combine the paralogs with controls"
   ]
  },
  {
   "cell_type": "code",
   "execution_count": 30,
   "id": "83a282b2-644b-4398-b619-73b50986d1e9",
   "metadata": {},
   "outputs": [],
   "source": [
    "%reset_selective -f \"^df.*\""
   ]
  },
  {
   "cell_type": "code",
   "execution_count": 42,
   "id": "03abed0a-5b4e-442a-8d74-47c37f38b168",
   "metadata": {},
   "outputs": [],
   "source": [
    "df0=pd.DataFrame(list(read_dict(f\"{metadata['processed']['redistribution']}/01_scores/*/*/*_reports/parameters.yaml\").values()))\n",
    "df0"
   ]
  },
  {
   "cell_type": "code",
   "execution_count": 43,
   "id": "1039655c-1095-48f8-bd05-042aaf3ecf58",
   "metadata": {
    "tags": [
     "checks"
    ]
   },
   "outputs": [],
   "source": [
    "## metadata\n",
    "d0=(df0\n",
    "    .assign(**{\n",
    "        'by': lambda df: df['input_path'].apply(lambda x: 'paralogs' if not 'controls' in x else 'controls'),\n",
    "        })\n",
    "    .groupby('unit').apply(lambda df: df.rd.to_dict(['by','output_path']) )\n",
    "    .to_dict()\n",
    ")\n",
    "import yaml;\n",
    "print(yaml.dump(d0).replace(metadata['processed']['redistribution'],\"${processed.redistribution}\"))"
   ]
  },
  {
   "cell_type": "code",
   "execution_count": 56,
   "id": "1ac40cd1-99bd-4044-8c8a-7b55775ebb09",
   "metadata": {},
   "outputs": [],
   "source": [
    "df01=read_table(\n",
    "    [\n",
    "        metadata['redistribution']['distances']['genes']['paralogs'],\n",
    "        metadata['redistribution']['distances']['genes']['controls'],\n",
    "    ]\n",
    ")\n",
    "df01.head(1)"
   ]
  },
  {
   "cell_type": "code",
   "execution_count": 57,
   "id": "12522951-e84a-4abf-b9c9-60f336cc901d",
   "metadata": {},
   "outputs": [],
   "source": [
    "positive_genes=read_dict(metadata['pre_processed']['visual_inspections']['redistribution'])['positive']\n",
    "negative_pairs=metadata['data']['subsets']['controls']['pairs']\n",
    "info(positive_genes,len(positive_genes))\n",
    "info(negative_pairs,len(negative_pairs))\n",
    "column_distance='euclidean distance'"
   ]
  },
  {
   "cell_type": "markdown",
   "id": "329785d0-6574-4f5d-a190-44a4dafe8364",
   "metadata": {},
   "source": [
    "### Separate redistribution distances"
   ]
  },
  {
   "cell_type": "code",
   "execution_count": 60,
   "id": "7aea3d6f-aa52-41a2-a8c4-97c410a811d1",
   "metadata": {},
   "outputs": [],
   "source": [
    "df1=df01.log.query(expr=f\"`distance between` in {metadata['redistribution']['merged']['distance between']}\")\n",
    "assert df1['distance between'].nunique()==2\n",
    "assert all(df1['gene symbol query construct1']==df1['gene symbol query construct2'])"
   ]
  },
  {
   "cell_type": "code",
   "execution_count": 61,
   "id": "7c887fe1-5f86-406b-8bbb-6ee42e7b8cba",
   "metadata": {},
   "outputs": [],
   "source": [
    "df2=(df1\n",
    "    .rename(columns={'gene symbol query construct1':'gene symbol query'},errors='raise')\n",
    "    .drop(['gene symbol for merging','gene symbol query construct2'],axis=1)\n",
    "    .assign(\n",
    "        **{\n",
    "            'control':lambda df: df.apply(lambda x: False if x['pairs'] in negative_pairs else True if x['gene symbol query'] in positive_genes else np.nan,\n",
    "                                          axis=1),\n",
    "        }\n",
    "        )\n",
    "     .log('gene symbol query','control')\n",
    "     \n",
    "    )\n",
    "df2.head(1)"
   ]
  },
  {
   "cell_type": "code",
   "execution_count": 62,
   "id": "b36bcd48-f878-4478-9b62-b312ce6e8968",
   "metadata": {},
   "outputs": [],
   "source": [
    "to_table(df2,f\"{metadata['processed']['redistribution']}/02_merged/01_filtered.tsv\")"
   ]
  },
  {
   "cell_type": "markdown",
   "id": "f4d1c222-065d-4eb1-b62d-ba67f655048b",
   "metadata": {},
   "source": [
    "#### Save table"
   ]
  },
  {
   "cell_type": "code",
   "execution_count": 63,
   "id": "65d98113-9844-4550-a9b4-e123829fa490",
   "metadata": {},
   "outputs": [],
   "source": [
    "df3=(df2\n",
    "    .rename(columns={column_distance:'redistribution score'},errors='raise')\n",
    "    .drop(['label common construct1','label common construct2','distance between',\n",
    "          \"gene symbol partner construct1\",\"gene symbol partner construct2\"],\n",
    "          axis=1)\n",
    "     .rd.assert_no_dups(subset=['gene symbol query','pairs'])\n",
    ")\n",
    "df3.head(1)"
   ]
  },
  {
   "cell_type": "code",
   "execution_count": 64,
   "id": "44436590-3b1e-4532-beaf-5003c3e321ad",
   "metadata": {},
   "outputs": [],
   "source": [
    "to_table(df3,f\"{metadata['processed']['redistribution']}/02_merged/02_small.tsv\")"
   ]
  },
  {
   "cell_type": "markdown",
   "id": "998a516b-8a13-4a35-92a0-d6b6d7546695",
   "metadata": {},
   "source": [
    "## Classify the redistribution"
   ]
  },
  {
   "cell_type": "markdown",
   "id": "5d4d8099-dfcd-4606-b953-3ebfc0f029b0",
   "metadata": {},
   "source": [
    "### Get the threshold"
   ]
  },
  {
   "cell_type": "code",
   "execution_count": 4,
   "id": "f726ec46-610c-4741-8eb0-4dc67a058d9b",
   "metadata": {},
   "outputs": [],
   "source": [
    "%reset_selective -f \"^df.*\""
   ]
  },
  {
   "cell_type": "code",
   "execution_count": 5,
   "id": "09b5e351-dd41-406c-929b-5184e866d27c",
   "metadata": {},
   "outputs": [],
   "source": [
    "from roux.workflow.task import run_tasks\n",
    "_=run_tasks(\n",
    "    input_notebook_path='42_script_redistribution_classification.ipynb',\n",
    "    kernel=kernel,\n",
    "    parameters_list= [\n",
    "        {\n",
    "            'input_path':metadata['redistribution']['merged']['genes'],\n",
    "            'output_path':metadata['redistribution']['classified']['genes'],\n",
    "            \"method_cutoff\":metadata['redistribution']['classified']['method'],\n",
    "        },\n",
    "    ],#: list = None,\n",
    ")"
   ]
  },
  {
   "cell_type": "markdown",
   "id": "c69e1f76-f067-4ca6-be0e-fb51707edc99",
   "metadata": {
    "tags": []
   },
   "source": [
    "### Plots  "
   ]
  },
  {
   "cell_type": "markdown",
   "id": "87eb281f-9883-46ca-b9d3-9f181824ad30",
   "metadata": {},
   "source": [
    "#### ROC plot"
   ]
  },
  {
   "cell_type": "code",
   "execution_count": 4,
   "id": "02dc6178-f70b-4be0-b054-61b2f41c43b7",
   "metadata": {},
   "outputs": [],
   "source": [
    "data=read_table(metadata['redistribution']['merged']['genes'])\n",
    "# read_table(metadata['redistribution']['distances']['genes'].replace('02_mapped_genes_reponsiveness','02_mapped_genes_reponsiveness_with_controls'))\n",
    "data=data.log.dropna(subset=['control'])\n",
    "data.head(1)"
   ]
  },
  {
   "cell_type": "code",
   "execution_count": 8,
   "id": "13ce1aa8-4f7f-49ea-b153-19e820dd079f",
   "metadata": {},
   "outputs": [],
   "source": [
    "kws_plot=dict(\n",
    "    method='roc',\n",
    "    show_cutoff=dict(maximize='specificity',),\n",
    "    returns=['data','ax','cutoff'],\n",
    "    plot_pr=False,\n",
    "    kws_area={\"facecolor\":metadata['colors']['default'],\n",
    "             },\n",
    ")\n",
    "\n",
    "begin_plot()\n",
    "fig,ax=plt.subplots(figsize=[2,2])\n",
    "from roux.stat.binary import get_cutoff\n",
    "d1=get_cutoff(\n",
    "    y_true=data['control'].values,\n",
    "    y_score=data['redistribution score'].values,\n",
    "    ax=ax,\n",
    "    **kws_plot,\n",
    "    )\n",
    "ax.set(\n",
    "    xlim=[ax.get_xlim()[0],1],\n",
    "    ylim=[ax.get_xlim()[0],1],\n",
    "      )\n",
    "from roux.viz.ax_ import set_equallim\n",
    "set_equallim(ax=ax)\n",
    "sns.despine(\n",
    "    trim=False,\n",
    "    ax=ax,\n",
    "    )\n",
    "to_plot(\n",
    "    f\"{metadata['redistribution']['merged']['checks']}/{kws_plot['method']}.png\",\n",
    "    data=data,\n",
    "    kws_plot=kws_plot,\n",
    "    )"
   ]
  },
  {
   "cell_type": "markdown",
   "id": "65d328f3-dc08-4aed-9f7b-ccfab9340805",
   "metadata": {
    "tags": []
   },
   "source": [
    "#### Redistribution histogram with the threshold"
   ]
  },
  {
   "cell_type": "code",
   "execution_count": 4,
   "id": "ba94d8f3-91af-484d-b1fa-49ba7bf6f02c",
   "metadata": {},
   "outputs": [],
   "source": [
    "%reset_selective -f \"^df.*\""
   ]
  },
  {
   "cell_type": "code",
   "execution_count": 5,
   "id": "7c97a2f8-403f-4e57-9e57-1541c2c044a2",
   "metadata": {},
   "outputs": [],
   "source": [
    "_input_path=metadata['redistribution']['merged']['genes']\n",
    "_output_dir_path=Path(_input_path).with_suffix('').as_posix()+'_plots/'"
   ]
  },
  {
   "cell_type": "code",
   "execution_count": 6,
   "id": "689f4839-9883-4b7a-944a-37519ec69fd8",
   "metadata": {},
   "outputs": [],
   "source": [
    "data=read_table(metadata['redistribution']['merged']['genes'])\n",
    "data.head(1)"
   ]
  },
  {
   "cell_type": "code",
   "execution_count": 7,
   "id": "5eadaeac-4cd2-4c2c-884c-8523ebdac4e9",
   "metadata": {},
   "outputs": [],
   "source": [
    "kws_plot=dict(\n",
    "    dist=dict(\n",
    "        color_line=get_colors_default()[0],\n",
    "        method_threshold=metadata['redistribution']['classified']['method'],\n",
    "        color_text=metadata['colors']['redistribution'],\n",
    "        show_threshold=read_dict(metadata['redistribution']['classified']['stats'])['threshold'],\n",
    "        bins=40,\n",
    "        ),\n",
    ")"
   ]
  },
  {
   "cell_type": "code",
   "execution_count": 8,
   "id": "3ebe91af-de2d-40f9-a94d-e842c9c2fa9c",
   "metadata": {},
   "outputs": [],
   "source": [
    "begin_plot()\n",
    "fig,ax=plt.subplots(figsize=[4,3])\n",
    "from modules.tools.plot import plot_redistribution\n",
    "ax=plot_redistribution(\n",
    "    data,\n",
    "    ax=ax,\n",
    "    **kws_plot['dist'],\n",
    "    )\n",
    "to_plot(\n",
    "    f\"{_output_dir_path}/hist_redistribution\",\n",
    "    kws_plot=kws_plot,\n",
    "    data=data,\n",
    "    validate=test,\n",
    "    )"
   ]
  }
 ],
 "metadata": {
  "kernelspec": {
   "display_name": "yeast",
   "language": "python",
   "name": "yeast"
  },
  "language_info": {
   "codemirror_mode": {
    "name": "ipython",
    "version": 3
   },
   "file_extension": ".py",
   "mimetype": "text/x-python",
   "name": "python",
   "nbconvert_exporter": "python",
   "pygments_lexer": "ipython3",
   "version": "3.7.13"
  }
 },
 "nbformat": 4,
 "nbformat_minor": 5
}
