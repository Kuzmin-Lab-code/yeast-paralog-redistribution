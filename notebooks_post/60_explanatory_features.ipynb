{
 "cells": [
  {
   "cell_type": "markdown",
   "id": "0f59527a-7da3-485c-b86d-53d30ba88062",
   "metadata": {},
   "source": [
    "# Explanatory features\n",
    "\n",
    "Analysis of the explanatory features including network features."
   ]
  },
  {
   "cell_type": "code",
   "execution_count": 1,
   "id": "d4c35137-584a-4da0-8781-8501a6321b10",
   "metadata": {},
   "outputs": [],
   "source": [
    "## logging functions\n",
    "from icecream import ic as info\n",
    "import logging\n",
    "## system functions\n",
    "from os.path import dirname\n",
    "from os.path import splitext\n",
    "import sys\n",
    "## visualization functions\n",
    "import matplotlib.pyplot as plt\n",
    "import seaborn as sns\n",
    "## visualization functions from roux\n",
    "from roux.viz.io import begin_plot\n",
    "## data functions from roux\n",
    "import roux.lib.dfs as rd # attributes\n",
    "sys.path.append('..')"
   ]
  },
  {
   "cell_type": "code",
   "execution_count": 2,
   "id": "fe4fdb71-1df8-4c38-9db6-f7486f2e9256",
   "metadata": {},
   "outputs": [],
   "source": [
    "## parameters\n",
    "metadata_path='../config/metadata.yaml'\n",
    "force=False\n",
    "test=True"
   ]
  },
  {
   "cell_type": "code",
   "execution_count": 3,
   "id": "473b2263-8d46-491e-8aa5-5507f3ea5027",
   "metadata": {},
   "outputs": [],
   "source": [
    "## inferred parameters\n",
    "metadata=read_metadata(metadata_path,inputs=None if not test else {'version':{'number':'test'}},)\n",
    "metadata['dataset']=read_metadata(metadata['dataset_config_path'],config_base=dict(species_name=metadata['species_name'],path=metadata['dataset_path'],),)\n",
    "### output\n",
    "output_dir_path=metadata['processed']['predictors']\n",
    "logging.info(f\"Output directory: {output_dir_path}\")\n",
    "## backup old files if overwriting (force is True)\n",
    "if force: backup(output_dir_path,dirname(output_dir_path),test=not force,)"
   ]
  },
  {
   "cell_type": "markdown",
   "id": "57bf03d7-5042-4987-bdad-c6aefb46a71b",
   "metadata": {},
   "source": [
    "## Paired features"
   ]
  },
  {
   "cell_type": "code",
   "execution_count": 7,
   "id": "51ac8f3d-9c76-4c33-b8ef-97a0c630260c",
   "metadata": {},
   "outputs": [],
   "source": [
    "%reset_selective -f \"^df.*\"\n",
    "id_type='pairs'\n",
    "df01=(\n",
    "    read_table(metadata['merged'][id_type])\n",
    "    .merge(\n",
    "        right=read_table(metadata['predictors']['mapped']['predictors'][id_type]),\n",
    "        how='left',\n",
    "        on='pairs',\n",
    "        validate=\"1:1\",\n",
    "    )\n",
    "    )\n",
    "df01.head(1)"
   ]
  },
  {
   "cell_type": "code",
   "execution_count": 8,
   "id": "2f825925-f186-4003-8fd7-8d7c0c95d27d",
   "metadata": {},
   "outputs": [],
   "source": [
    "_output_plots_dir_path=splitext(metadata['predictors']['processed']['predictors'][id_type])[0]+'_plots/'\n",
    "_output_plots_dir_path"
   ]
  },
  {
   "cell_type": "markdown",
   "id": "df1ae2f4-1399-46b3-a237-29e7f69b530c",
   "metadata": {},
   "source": [
    "### Functional similarity"
   ]
  },
  {
   "cell_type": "markdown",
   "id": "b788033b-d172-4c1d-83f4-acc7a6fe3d2b",
   "metadata": {},
   "source": [
    "#### Shortest path length"
   ]
  },
  {
   "cell_type": "code",
   "execution_count": 13,
   "id": "75764338-527c-4295-acc2-9e60a5e7ec02",
   "metadata": {},
   "outputs": [],
   "source": [
    "df01.filter(like='shortest path ').columns.tolist()"
   ]
  },
  {
   "cell_type": "code",
   "execution_count": 14,
   "id": "cdbcb8bc-f54c-4110-95f3-4b46e2e398ee",
   "metadata": {},
   "outputs": [],
   "source": [
    "for col,xlabel in zip(\n",
    "    ['GIs shortest path length','PPIs shortest path length'],\n",
    "    ['Genetic\\ninteractions','Protein-protein\\ninteractions'],\n",
    "    ):\n",
    "    kws_plot=dict(\n",
    "        dists=dict(\n",
    "            x= col,\n",
    "            y= 'redistribution score min',\n",
    "            order=['1','>1'],\n",
    "            colindex= 'genes id',\n",
    "            ),\n",
    "        ax_set=dict(\n",
    "            title='Shortest path length',\n",
    "            xlabel=xlabel,\n",
    "            ylabel='redistribution score',            \n",
    "                   ),\n",
    "        )\n",
    "    \n",
    "    data=(df01\n",
    "        .log.dropna(subset=[kws_plot['dists']['x']],)\n",
    "        \n",
    "        )\n",
    "    ## plot\n",
    "    begin_plot()\n",
    "    fig, ax=plt.subplots(1,1)\n",
    "    from roux.viz.dist import plot_dists\n",
    "    ax=plot_dists(\n",
    "        data,\n",
    "        kind=['box','strip'],\n",
    "        ax=ax,\n",
    "        **kws_plot['dists'],\n",
    "    )\n",
    "    ## formatting\n",
    "    ax.set(**kws_plot['ax_set'])\n",
    "    \n",
    "    to_plot(\n",
    "       ax,\n",
    "       prefix=_output_plots_dir_path,# filename\n",
    "       data=data, #source data\n",
    "       kws_plot=kws_plot,# plotting parameters\n",
    "       )    "
   ]
  },
  {
   "cell_type": "markdown",
   "id": "173c126b-2e56-418d-b79a-1d47daa6a6f3",
   "metadata": {},
   "source": [
    "#### Shared interactors, applicable to PPIs"
   ]
  },
  {
   "cell_type": "code",
   "execution_count": 15,
   "id": "6aebef06-d4b2-4871-bbd1-8c20f5489b12",
   "metadata": {},
   "outputs": [],
   "source": [
    "for col,xlabel in zip(\n",
    "    [\n",
    "        \"PPIs interactors intersection\",\n",
    "        ],\n",
    "    [\n",
    "        'Protein-protein\\ninteractions'\n",
    "    ],\n",
    "    ):\n",
    "    kws_plot=dict(\n",
    "        dists=dict(\n",
    "            x= col,\n",
    "            y= 'redistribution score min',\n",
    "            order=['low','high'],\n",
    "            colindex= 'genes id',\n",
    "            ),\n",
    "        ax_set=dict(\n",
    "            title='interactors sharing',\n",
    "            xlabel=xlabel,\n",
    "            ylabel='redistribution score',            \n",
    "                   ),\n",
    "        )\n",
    "    \n",
    "    data=(df01\n",
    "        .log.dropna(subset=[kws_plot['dists']['x']],)                \n",
    "        )\n",
    "    ## plot\n",
    "    begin_plot()\n",
    "    fig, ax=plt.subplots(1,1)\n",
    "    from roux.viz.dist import plot_dists\n",
    "    ax=plot_dists(\n",
    "        data,\n",
    "        kind=['box','strip'],\n",
    "        ax=ax,\n",
    "        **kws_plot['dists'],\n",
    "    )\n",
    "    ## formatting\n",
    "    ax.set(**kws_plot['ax_set'])\n",
    "    to_plot(\n",
    "       ax,\n",
    "       prefix=_output_plots_dir_path,# filename\n",
    "       data=data, #source data\n",
    "       kws_plot=kws_plot,# plotting parameters\n",
    "        validate=test,\n",
    "       )    "
   ]
  },
  {
   "cell_type": "markdown",
   "id": "446c00de-2799-4f25-b9f0-8edea6eeeb37",
   "metadata": {},
   "source": [
    "## Gene features"
   ]
  },
  {
   "cell_type": "code",
   "execution_count": 4,
   "id": "e92b515a-5706-4d46-83dd-5450062c213e",
   "metadata": {},
   "outputs": [],
   "source": [
    "%reset_selective -f \"^df.*\"\n",
    "id_type='genes'\n",
    "df01=(\n",
    "    read_table(metadata['merged'][id_type])\n",
    "    .merge(\n",
    "        right=read_table(metadata['predictors']['mapped']['predictors'][id_type]).drop(['gene symbol'],axis=1),\n",
    "        how='left',\n",
    "        on=['gene id'],\n",
    "        validate=\"1:1\",\n",
    "    )\n",
    "    )\n",
    "df01.head(1)"
   ]
  },
  {
   "cell_type": "code",
   "execution_count": 5,
   "id": "46b284ca-53f9-4992-85f7-caa0b2d13d79",
   "metadata": {},
   "outputs": [],
   "source": [
    "assert any((df01['gene symbol']=='CUE1') & (df01['gene id']=='YMR264W')), df01.query(expr=\"`gene id`=='YMR264W'\").filter(like='gene')"
   ]
  },
  {
   "cell_type": "code",
   "execution_count": 6,
   "id": "38953f56-56c7-46d2-bd36-d9aabf19d5db",
   "metadata": {},
   "outputs": [],
   "source": [
    "_output_plots_dir_path=splitext(metadata['predictors']['processed']['predictors'][id_type])[0]+'_plots/'\n",
    "_output_plots_dir_path"
   ]
  },
  {
   "cell_type": "markdown",
   "id": "e7963952-3c7a-4be9-91a7-bfb84374b61b",
   "metadata": {},
   "source": [
    "#### Functional redundancy: Negative GIs"
   ]
  },
  {
   "cell_type": "code",
   "execution_count": 19,
   "id": "e2875e91-4e15-4f1a-b36b-743b2b38b58d",
   "metadata": {},
   "outputs": [],
   "source": [
    "data=df01.copy()\n",
    "info(data['negative interactions'].value_counts())\n",
    "kws_plot=dict(\n",
    "    dists=dict(\n",
    "        x='negative interactions',\n",
    "        y= 'redistribution score',\n",
    "        order=['no','yes'],\n",
    "        colindex= 'gene id',\n",
    "    ),\n",
    "    ax_set=dict(\n",
    "    )\n",
    "    )\n",
    "\n",
    "## plot\n",
    "begin_plot()\n",
    "fig, ax=plt.subplots(1,1)\n",
    "from roux.viz.dist import plot_dists\n",
    "ax=plot_dists(\n",
    "    data,\n",
    "    kind=['box','strip'],\n",
    "    ax=ax,\n",
    "    **kws_plot['dists'],\n",
    ")\n",
    "## formatting\n",
    "ax.set(**kws_plot['ax_set'])\n",
    "\n",
    "to_plot(\n",
    "   ax,\n",
    "   prefix=_output_plots_dir_path,\n",
    "   data=data, #source data\n",
    "   kws_plot=kws_plot,# plotting parameters\n",
    "    validate=test,\n",
    "   )"
   ]
  },
  {
   "cell_type": "markdown",
   "id": "829eb353-95d3-4983-aed7-850948cc5add",
   "metadata": {},
   "source": [
    "#### Trigenic interaction fraction class"
   ]
  },
  {
   "cell_type": "code",
   "execution_count": 20,
   "id": "af335b6a-9fc7-4575-b76e-cc033499f2d9",
   "metadata": {},
   "outputs": [],
   "source": [
    "for x,order in zip(['Trigenic interaction\\nfraction'],\n",
    "                  [['Low','High']]):\n",
    "    kws_plot=dict(\n",
    "        dists=dict(\n",
    "            x=x,\n",
    "            y= 'redistribution score',\n",
    "            order=order,\n",
    "            colindex= 'gene id',\n",
    "        ),\n",
    "        ax_set=dict(\n",
    "            xlabel=x,#None,\n",
    "        )\n",
    "        )\n",
    "    data=df01.dropna(subset=[x]).copy()\n",
    "    \n",
    "    ## plot\n",
    "    begin_plot()\n",
    "    fig, ax=plt.subplots(1,1)\n",
    "    from roux.viz.dist import plot_dists\n",
    "    ax=plot_dists(\n",
    "        data,\n",
    "        kind=['box','strip'],\n",
    "        ax=ax,\n",
    "        **kws_plot['dists'],\n",
    "    )\n",
    "    ## formatting\n",
    "    ax.set(**kws_plot['ax_set'])\n",
    "\n",
    "    to_plot(\n",
    "       ax,\n",
    "       prefix=_output_plots_dir_path,# filename\n",
    "       data=data, #source data\n",
    "       kws_plot=kws_plot,# plotting parameters\n",
    "        validate=test,\n",
    "       )"
   ]
  },
  {
   "cell_type": "markdown",
   "id": "69d4a2c9-93a5-4ca5-b99b-c064e0ec6bf0",
   "metadata": {},
   "source": [
    "### Co-localization of private interactors with the partner"
   ]
  },
  {
   "cell_type": "code",
   "execution_count": 10,
   "id": "6ce4ff5b-dc42-4940-a128-368086b18119",
   "metadata": {},
   "outputs": [],
   "source": [
    "for k in ['GIs','PPIs']:\n",
    "    kws_plot=dict(\n",
    "        crosstab=dict(\n",
    "            cols=[\n",
    "                'redistribution',\n",
    "                f'locations shared with private {k} interactors(>=50%)',\n",
    "            ],\n",
    "            ),\n",
    "        ax_set=dict(\n",
    "            title=k.split('\\n')[0],\n",
    "        ),\n",
    "        ax_legend=dict(\n",
    "            title='Co-localization with private interactors',\n",
    "        ),\n",
    "    )\n",
    "    data=(\n",
    "        df01\n",
    "        .loc[:,\n",
    "             [\n",
    "            'gene id',\n",
    "            'gene symbol',\n",
    "        ]+kws_plot['crosstab']['cols']]\n",
    "        .dropna()\n",
    "        )\n",
    "    ## plot\n",
    "    begin_plot()\n",
    "    fig, ax=plt.subplots(1,1)\n",
    "    from roux.viz.sets import plot_intersection_counts\n",
    "    plot_intersection_counts(data,**kws_plot['crosstab'],kind='bar',\n",
    "                             order_x=[True,False],\n",
    "                             ax=ax)\n",
    "    ax.set(xlabel='paralogs',ylim=ax.get_ylim()[::-1])\n",
    "    ax.legend(\n",
    "        ncol=2,\n",
    "        loc='upper center',\n",
    "        bbox_to_anchor=[0.5,-0.2],\n",
    "        **kws_plot['ax_legend'],\n",
    "        )\n",
    "    sns.despine(trim=False,ax=ax)    \n",
    "    to_plot(\n",
    "       ax,\n",
    "       prefix=f'{_output_plots_dir_path}',# filename\n",
    "       data=data, #source data\n",
    "       kws_plot=kws_plot,# plotting parameters\n",
    "       validate=test,\n",
    "       )"
   ]
  }
 ],
 "metadata": {
  "kernelspec": {
   "display_name": "yeast",
   "language": "python",
   "name": "yeast"
  },
  "language_info": {
   "codemirror_mode": {
    "name": "ipython",
    "version": 3
   },
   "file_extension": ".py",
   "mimetype": "text/x-python",
   "name": "python",
   "nbconvert_exporter": "python",
   "pygments_lexer": "ipython3",
   "version": "3.7.13"
  }
 },
 "nbformat": 4,
 "nbformat_minor": 5
}
