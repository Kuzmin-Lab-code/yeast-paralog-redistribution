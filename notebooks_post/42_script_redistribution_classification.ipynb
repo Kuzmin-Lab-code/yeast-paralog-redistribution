{
 "cells": [
  {
   "cell_type": "markdown",
   "id": "2fd7d517-b0f5-4076-b844-3621d0eb5ae3",
   "metadata": {},
   "source": [
    "# Classification of redistribution\n",
    "\n",
    "AUC-ROC analysis to obtain the threshold which provided minimal False Positive Rate."
   ]
  },
  {
   "cell_type": "code",
   "execution_count": null,
   "id": "be75dfcc-8f6b-4a6c-aaba-ffc44b701384",
   "metadata": {},
   "outputs": [],
   "source": [
    "## logging functions\n",
    "from icecream import ic as info\n",
    "import logging\n",
    "## system functions\n",
    "from os.path import dirname\n",
    "import sys\n",
    "## system functions from roux\n",
    "from roux.lib.io import read_table\n",
    "from roux.lib.io import to_dict\n",
    "from roux.lib.io import to_table\n",
    "## data functions from roux\n",
    "import roux.lib.dfs as rd # attributes\n",
    "sys.path.append('../')"
   ]
  },
  {
   "cell_type": "code",
   "execution_count": 2,
   "id": "eb80eb13-7317-4cf1-9ee5-aa5635cc75ac",
   "metadata": {
    "tags": [
     "parameters"
    ]
   },
   "outputs": [],
   "source": [
    "## parameters\n",
    "input_path=None\n",
    "output_path=None # f'{output_dir_path}/01_classified.tsv'\n",
    "method_cutoff=None"
   ]
  },
  {
   "cell_type": "code",
   "execution_count": 4,
   "id": "4e665ba8-eb00-4fa5-a7c6-ecb07699cb43",
   "metadata": {},
   "outputs": [],
   "source": [
    "output_dir_path=dirname(output_path)\n",
    "logging.info(output_dir_path)"
   ]
  },
  {
   "cell_type": "markdown",
   "id": "4ce22f39-5665-4bad-be7c-7cda445cd4be",
   "metadata": {},
   "source": [
    "## Scores"
   ]
  },
  {
   "cell_type": "code",
   "execution_count": null,
   "id": "044d82be-54fe-4f3e-acdb-c6e4bed4df11",
   "metadata": {},
   "outputs": [],
   "source": [
    "## redistribution score\n",
    "df01=read_table(input_path,drop_index=True,)\n",
    "## validate no missing values\n",
    "assert not df01['redistribution score'].isnull().any()\n",
    "df01.head(1)"
   ]
  },
  {
   "cell_type": "markdown",
   "id": "0c6eb648-a047-477c-b032-8dcd7d495e13",
   "metadata": {},
   "source": [
    "## Binarisation"
   ]
  },
  {
   "cell_type": "code",
   "execution_count": 7,
   "id": "572fbe63-43bd-4615-87b4-012bf83678d6",
   "metadata": {},
   "outputs": [],
   "source": [
    "if method_cutoff.lower()=='gmm':\n",
    "    from roux.stat.cluster import cluster_1d\n",
    "    cutoff=cluster_1d(\n",
    "        df01.log.query(expr='`control` != False')['redistribution score'].astype(float),\n",
    "        n_clusters=2,\n",
    "        random_state=1,\n",
    "        returns=['coff'],\n",
    "        test=True)['coff']\n",
    "    info(cutoff)\n",
    "elif method_cutoff.lower() in ['roc','pr']:\n",
    "    ## redistribution score with the controls\n",
    "    df1=df01.log.dropna(subset=['control'])\n",
    "    from roux.stat.binary import get_cutoff\n",
    "    d1=get_cutoff(\n",
    "        y_true=df1['control'].values,\n",
    "        y_score=df1['redistribution score'].values,\n",
    "        method=method_cutoff.lower(),\n",
    "        show_cutoff=dict(maximize='specificity',),\n",
    "        returns=['data','ax','cutoff'],\n",
    "        )\n",
    "    d1['data']=d1['data'].melt(id_vars=['threshold'])    \n",
    "    to_table(d1['data'],\n",
    "        f\"{output_dir_path}/01_classified/curve.tsv\",\n",
    "           )\n",
    "    to_dict(\n",
    "        d1['cutoff'].to_dict(),\n",
    "        f\"{output_dir_path}/stats.yaml\",\n",
    "    )\n",
    "    cutoff=d1['cutoff']['threshold']\n",
    "info(cutoff)"
   ]
  },
  {
   "cell_type": "markdown",
   "id": "657a3cd5-1238-459a-b9b5-23c7222e1000",
   "metadata": {},
   "source": [
    "### Apply threshold"
   ]
  },
  {
   "cell_type": "code",
   "execution_count": null,
   "id": "6e674ff8-201c-4785-b08f-f75c5eed652c",
   "metadata": {},
   "outputs": [],
   "source": [
    "df01=(df01\n",
    "    .assign(\n",
    "    **{\n",
    "        'redistribution': lambda df : df['redistribution score']>=cutoff,\n",
    "    })\n",
    ")\n",
    "df01['redistribution'].value_counts()"
   ]
  },
  {
   "cell_type": "markdown",
   "id": "cded2981-8af6-4643-8e70-ae092484b5d6",
   "metadata": {},
   "source": [
    "### Save Table"
   ]
  },
  {
   "cell_type": "code",
   "execution_count": null,
   "id": "b7866653-42f6-44c1-b44a-a0461b237cf2",
   "metadata": {},
   "outputs": [],
   "source": [
    "to_table(df01,\n",
    "         output_path,\n",
    "        )\n",
    "to_dict(\n",
    "    {'cutoff':cutoff},\n",
    "    f'{output_dir_path}/01_classified/stats.json',\n",
    ")"
   ]
  }
 ],
 "metadata": {
  "kernelspec": {
   "display_name": "yeast",
   "language": "python",
   "name": "yeast"
  },
  "language_info": {
   "codemirror_mode": {
    "name": "ipython",
    "version": 3
   },
   "file_extension": ".py",
   "mimetype": "text/x-python",
   "name": "python",
   "nbconvert_exporter": "python",
   "pygments_lexer": "ipython3",
   "version": "3.7.13"
  }
 },
 "nbformat": 4,
 "nbformat_minor": 5
}
