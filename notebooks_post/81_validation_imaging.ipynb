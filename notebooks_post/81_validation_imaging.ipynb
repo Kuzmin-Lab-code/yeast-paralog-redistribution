{
 "cells": [
  {
   "cell_type": "markdown",
   "id": "8350c862-5760-410e-a311-2d98ae5b5668",
   "metadata": {},
   "source": [
    "# Validation of Cue4 relocalization by imaging\n",
    "\n",
    "Comparison of the proten abundances at the marker between the WT and the deletion backgrounds. "
   ]
  },
  {
   "cell_type": "code",
   "execution_count": 1,
   "id": "67891c22-1f39-4587-8c20-dbbc246d6c62",
   "metadata": {
    "tags": []
   },
   "outputs": [],
   "source": [
    "## logging functions\n",
    "import logging\n",
    "## system functions\n",
    "from os.path import dirname\n",
    "## system functions from roux\n",
    "from roux.lib.io import backup\n",
    "from IPython.display import Markdown as info_nb\n",
    "from roux.lib.io import read_dict\n",
    "from roux.lib.sys import read_ps\n",
    "## workflow functions from roux\n",
    "from roux.workflow.io import read_metadata\n",
    "## visualization functions\n",
    "import matplotlib.pyplot as plt\n",
    "## visualization functions from roux\n",
    "from roux.viz.io import begin_plot\n",
    "## data functions from roux\n",
    "import roux.lib.dfs as rd # attributes\n",
    "import sys\n",
    "sys.path.append('..')"
   ]
  },
  {
   "cell_type": "code",
   "execution_count": 15,
   "id": "046fccd3-65fe-4e8e-a3c9-64ea96e73e94",
   "metadata": {
    "tags": [
     "parameters"
    ]
   },
   "outputs": [],
   "source": [
    "## parameters\n",
    "run_ids=[\n",
    "    '20231011',\n",
    "    '20231012',\n",
    "    '20231013',\n",
    "    ]\n",
    "metadata_path='../config/metadata.yaml'\n",
    "force=False\n",
    "test=True\n"
   ]
  },
  {
   "cell_type": "code",
   "execution_count": 19,
   "id": "d0a8b16b",
   "metadata": {},
   "outputs": [],
   "source": [
    "## inferred parameters\n",
    "metadata=read_metadata(metadata_path,inputs=None if not test else {'version':{'number':'test'}},)\n",
    "metadata['dataset']=read_metadata(metadata['dataset_config_path'],config_base=dict(species_name=metadata['species_name'],path=metadata['dataset_path'],),)\n",
    "### output\n",
    "output_dir_path=metadata['validations']['CUE1_CUE4']['GFP_intensity']['path']\n",
    "logging.info(f\"Output directory: {output_dir_path}\")\n",
    "## backup old files if overwriting (force is True)\n",
    "if force: backup(output_dir_path,dirname(output_dir_path),test=not force,)"
   ]
  },
  {
   "cell_type": "code",
   "execution_count": 20,
   "id": "0dc70ca7",
   "metadata": {},
   "outputs": [],
   "source": [
    "input_dir_path=metadata['data']['validation']['images']\n",
    "pre_processed_dir_path=metadata['pre_processed']['validation']['images']"
   ]
  },
  {
   "cell_type": "markdown",
   "id": "65d58595-2aa1-4535-b142-3c8ecead0fa6",
   "metadata": {},
   "source": [
    "## Pre-processsing"
   ]
  },
  {
   "cell_type": "code",
   "execution_count": 25,
   "id": "e7cd731a-2225-4db8-a17c-f8c4839ce351",
   "metadata": {
    "tags": []
   },
   "outputs": [],
   "source": [
    "## setting parameters\n",
    "parameters_list=[]\n",
    "for run_id in run_ids:\n",
    "    parameters_list.append(\n",
    "        dict(\n",
    "            input_path=f'{input_dir_path}/{run_id}',\n",
    "            output_path=f'{pre_processed_dir_path}/{run_id}/segmentation.json',\n",
    "            separate_channels_nb_path=metadata['scripts']['io_read_nd2'],\n",
    "            segmentation_nb_path='8100_segmentation.ipynb',\n",
    "        )\n",
    "    )\n",
    "len(parameters_list)"
   ]
  },
  {
   "cell_type": "code",
   "execution_count": 22,
   "id": "474f160c-9960-431f-ab9f-d480f922a79f",
   "metadata": {},
   "outputs": [],
   "source": [
    "from roux.workflow.task import run_tasks\n",
    "_outputs=run_tasks(\n",
    "    input_notebook_path='811_pre_processing.ipynb',\n",
    "    parameters_list=parameters_list,\n",
    "    kernel='parlocred',\n",
    ")"
   ]
  },
  {
   "cell_type": "markdown",
   "id": "f0f812be-f979-4d9c-a168-aa5791ba4172",
   "metadata": {},
   "source": [
    "## Post-processing"
   ]
  },
  {
   "cell_type": "code",
   "execution_count": 4,
   "id": "e3251746-16cd-4ae8-8c48-aa1d67e5fe50",
   "metadata": {
    "tags": []
   },
   "outputs": [],
   "source": [
    "parameters_list=[]\n",
    "for run_id in run_ids:\n",
    "    parameters_list.append(\n",
    "        dict(\n",
    "            input_path=f'{pre_processed_dir_path}/{run_id}/00_paths.tsv',\n",
    "            output_path=f'{output_dir_path}/{run_id}//relocalization/01_combined.tsv',\n",
    "            \n",
    "            channel_segmentation='epi_gfp',\n",
    "            channel_intensity='epi_gfp',\n",
    "            \n",
    "            script_protein_abundance_by_single_cell_path=metadata['scripts']['protein_abundance_and_normalization'],\n",
    "            script_protein_abundance_by_marker_location_path=metadata['scripts']['protein_abundance_by_marker_location'],\n",
    "            force=force,\n",
    "        ))\n",
    "len(parameters_list)"
   ]
  },
  {
   "cell_type": "code",
   "execution_count": 6,
   "id": "0f07dd78-431d-4117-9d39-e900cccb9930",
   "metadata": {
    "scrolled": true,
    "tags": []
   },
   "outputs": [],
   "source": [
    "from roux.workflow.task import run_tasks\n",
    "_outputs=run_tasks(\n",
    "    input_notebook_path='811_abundance.ipynb',\n",
    "    parameters_list = parameters_list,\n",
    "    kernel='parlocred',\n",
    ")    "
   ]
  },
  {
   "cell_type": "markdown",
   "id": "b4623794-ff03-4783-9a7f-6cf059d2db1d",
   "metadata": {},
   "source": [
    "## Sample information combined"
   ]
  },
  {
   "cell_type": "code",
   "execution_count": 4,
   "id": "6cad0e25-e26e-4817-9b9d-61bf87e75243",
   "metadata": {
    "tags": []
   },
   "outputs": [],
   "source": [
    "%reset_selective -f \"^df.*\""
   ]
  },
  {
   "cell_type": "code",
   "execution_count": 5,
   "id": "bdd5e1d7-debc-41f8-9fec-074efccd1dbc",
   "metadata": {
    "tags": []
   },
   "outputs": [],
   "source": [
    "df00=pd.concat(\n",
    "    {Path(p).parent.stem: read_table(p) for p in read_ps(f'{output_dir_path}/2023101*/00_paths.tsv')},\n",
    "    axis=0,\n",
    "    names=['replicate'],\n",
    "    ).reset_index(0).iloc[:,:6]\n",
    "df00.head()"
   ]
  },
  {
   "cell_type": "markdown",
   "id": "772d8cc8-5b3f-4b06-ab84-63a748174e3e",
   "metadata": {},
   "source": [
    "## Combined plots"
   ]
  },
  {
   "cell_type": "markdown",
   "id": "f2da0577-34f0-4ed7-a2cf-e24d1f63cb83",
   "metadata": {},
   "source": [
    "### Filter by background intensity variation"
   ]
  },
  {
   "cell_type": "code",
   "execution_count": 10,
   "id": "87b191ce-3d46-47b2-84e7-ae78b9df4674",
   "metadata": {
    "tags": []
   },
   "outputs": [],
   "source": [
    "## calculation of the mean and std. of the background intensity by replicate\n",
    "df0=(df00\n",
    "        .log.query(expr=f\"`construct` == ['CUE4-GFP CUE1-WT','CUE4-GFP CUE1-DELTA']\")\n",
    "        .log.query(expr=f\"`red_channel` != 'cytoplasm'\")\n",
    "    .assign(\n",
    "    **{\n",
    "        'background_intensity':lambda df: df.apply(lambda x: read_dict(f\"{output_dir_path}/{x['replicate']}/{x['image id']}_channels/01_gfpby_cell_stats.json\")['background_intensity'],axis=1),\n",
    "        'mean': lambda df: df.groupby(['replicate'])['background_intensity'].transform('mean'),\n",
    "        'std': lambda df: df.groupby(['replicate'])['background_intensity'].transform('std'),\n",
    "        'mean+std': lambda df: df['mean']+df['std'],\n",
    "        'mean-std': lambda df: df['mean']-df['std'],\n",
    "        'outlier': lambda df: df.apply(lambda x: x['background_intensity']>(x['mean+std']) or x['background_intensity']<(x['mean-std']),axis=1),\n",
    "        }\n",
    "        \n",
    "    )\n",
    "    .astype({'replicate':str})\n",
    "    )\n",
    "df0.head()"
   ]
  },
  {
   "cell_type": "markdown",
   "id": "dc05f79e",
   "metadata": {},
   "source": [
    "#### Plot of the variation and outliers"
   ]
  },
  {
   "cell_type": "code",
   "execution_count": 10,
   "id": "af6db8fc-f51d-4043-ab0d-071b5a0798fd",
   "metadata": {
    "tags": []
   },
   "outputs": [],
   "source": [
    "data=df0.copy()\n",
    "hue_order=data['construct'].unique()[::-1]\n",
    "fig,ax=plt.subplots(figsize=[2.5,2.5])\n",
    "ax=sns.swarmplot(\n",
    "    data=data,\n",
    "    y='replicate',\n",
    "    x='background_intensity',\n",
    "    hue='construct',\n",
    "    dodge=True,\n",
    "    hue_order=hue_order,\n",
    "    ax=ax\n",
    ")\n",
    "ax.legend(bbox_to_anchor=[1,1],title='Construct')\n",
    "for k in ['+','-']:\n",
    "    sns.pointplot(\n",
    "        data=data.loc[:,['replicate',f'mean{k}std']].drop_duplicates(),\n",
    "        x=f'mean{k}std',\n",
    "        y='replicate',\n",
    "        join=False,\n",
    "        markers=['|'],\n",
    "        color='r',\n",
    "        ax=ax,\n",
    "    )\n",
    "ax.set(xlabel='background intensity')\n",
    "ax1=ax.twinx()\n",
    "from roux.viz.ax_ import set_legend_custom\n",
    "set_legend_custom(\n",
    "    ax=ax1,\n",
    "    legend2param={'mu+/-sigma\\nby replicate':'r'},\n",
    "    marker='|',\n",
    "    loc=0,\n",
    "    bbox_to_anchor=[1.9,0.5],\n",
    "    title=\"Threshold\"\n",
    "    )\n",
    "ax1.axis(False)\n",
    "to_plot(f'{output_dir_path}/plots/dists_filtering_by_backkground_intensity.png')"
   ]
  },
  {
   "cell_type": "code",
   "execution_count": 11,
   "id": "08165435-ac6b-46c6-af59-ddff460cb39f",
   "metadata": {
    "tags": []
   },
   "outputs": [],
   "source": [
    "perc_label(data['outlier'])"
   ]
  },
  {
   "cell_type": "markdown",
   "id": "bbcda8b7-de95-4bb9-a7f2-a2a6146c4cef",
   "metadata": {},
   "source": [
    "### Abundance at the marker"
   ]
  },
  {
   "cell_type": "code",
   "execution_count": 26,
   "id": "20e9ce6f-e333-4da2-89aa-0ad3c987b45c",
   "metadata": {},
   "outputs": [],
   "source": [
    "## input data\n",
    "df03=read_table(\n",
    "    f\"{output_dir_path}/*/relocalization/01_combined.tsv\",\n",
    "    drop_index=False,\n",
    "    colindex='replicate',\n",
    "    replaces_index=lambda x: Path(x).parent.parent.stem,\n",
    "    )\n",
    "df03.head(1)"
   ]
  },
  {
   "cell_type": "code",
   "execution_count": 15,
   "id": "d5e6a96e-dfb9-4f1a-9bf8-3bfcd81c2f64",
   "metadata": {
    "tags": []
   },
   "outputs": [],
   "source": [
    "df3=df03.log.merge(\n",
    "    right=df0.log.query(expr=\"`outlier` == False\").loc[:,['replicate','image id']],\n",
    "    how='inner',\n",
    "    on=['replicate','image id'],\n",
    "    ).replace({'marker location':{False:'non-ER',True:'ER'}})\n",
    "df3.head(1)"
   ]
  },
  {
   "cell_type": "code",
   "execution_count": 52,
   "id": "292334c0-369d-4e2b-b4f7-bab6b24bfdf6",
   "metadata": {
    "tags": []
   },
   "outputs": [],
   "source": [
    "kws_plot=dict(\n",
    "    x='Abundance',\n",
    "    hue=\"Construct\",\n",
    "    y=\"marker location\",\n",
    "    palette=[\"#FF6121\",'#FF9D6C'],\n",
    "    colindex=['image id','cell id'],\n",
    "    axis_cont_lim=[1,2],\n",
    ")\n",
    "data=(\n",
    "    df3_\n",
    "    .assign(\n",
    "        **{\n",
    "           kws_plot['x']: lambda df: df['abundance normalized'],\n",
    "           kws_plot['hue']: lambda df: df[\"construct\"].map(\n",
    "                {'CUE4-GFP CUE1-WT':'Cue4-GFP wild-type',\n",
    "                'CUE4-GFP CUE1-DELTA':r'Cue4-GFP $cue1\\Delta$',\n",
    "                }),\n",
    "        }\n",
    "        )\n",
    "    .loc[:,kws_plot['colindex']+[kws_plot['x'],kws_plot['y'],kws_plot['hue']]]\n",
    "    )\n",
    "kws_plot['order']=data[kws_plot['y']].unique().tolist()\n",
    "kws_plot['hue_order']=data[kws_plot['hue']].unique().tolist()\n",
    "\n",
    "begin_plot()\n",
    "fig,ax=plt.subplots(figsize=[2.25,2.2])\n",
    "from roux.viz.dist import plot_dists\n",
    "plot_dists(\n",
    "    data,\n",
    "    kind='bar',\n",
    "    ax=ax,\n",
    "    show_n=False,\n",
    "    **kws_plot,\n",
    ")\n",
    "from roux.viz.annot import set_label\n",
    "set_label(\n",
    "    ax=ax,\n",
    "    x=1,y=-0.125,\n",
    "   s=f\"n={len(data.loc[:,kws_plot['colindex']].drop_duplicates())}\",\n",
    ")\n",
    "ax.set(ylabel=None)\n",
    "ax.legend(bbox_to_anchor=[1,1],title='Construct')\n",
    "sns.despine(trim=False)\n",
    "to_plot(\n",
    "    f'{output_dir_path}/plots/barplot_protein_abundance_comparison_between_constructs_for_ER_nonER_localizations_replicates_combined.pdf',\n",
    "    data=data,\n",
    "    kws_plot=kws_plot,\n",
    ")"
   ]
  },
  {
   "cell_type": "code",
   "execution_count": 56,
   "id": "16aece3d-8a57-4427-a118-3bee50e84585",
   "metadata": {
    "tags": []
   },
   "outputs": [],
   "source": [
    "info_nb(f\"Average number of cells in each image {data.groupby('image id')['cell id'].nunique().mean():.1f}\")"
   ]
  }
 ],
 "metadata": {
  "kernelspec": {
   "display_name": "parlocred",
   "language": "python",
   "name": "parlocred"
  },
  "language_info": {
   "codemirror_mode": {
    "name": "ipython",
    "version": 3
   },
   "file_extension": ".py",
   "mimetype": "text/x-python",
   "name": "python",
   "nbconvert_exporter": "python",
   "pygments_lexer": "ipython3",
   "version": "3.7.13"
  }
 },
 "nbformat": 4,
 "nbformat_minor": 5
}
