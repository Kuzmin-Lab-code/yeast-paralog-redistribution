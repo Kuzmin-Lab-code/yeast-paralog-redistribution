{
 "cells": [
  {
   "cell_type": "markdown",
   "id": "c8fd8032-2404-41ca-b345-4d307196ce3b",
   "metadata": {},
   "source": [
    "# Processed data\n",
    "\n",
    "The properties of the coombined processed data."
   ]
  },
  {
   "cell_type": "code",
   "execution_count": 1,
   "id": "f7004ffa-261e-48f1-9db9-b4671d208afc",
   "metadata": {},
   "outputs": [],
   "source": [
    "## logging functions\n",
    "import logging\n",
    "## data functions\n",
    "import numpy as np\n",
    "## system functions\n",
    "from os.path import dirname\n",
    "from os.path import splitext\n",
    "import sys\n",
    "## visualization functions\n",
    "import matplotlib.pyplot as plt\n",
    "## visualization functions from roux\n",
    "from roux.viz.io import begin_plot\n",
    "## data functions from roux\n",
    "import roux.lib.dfs as rd # attributes\n",
    "sys.path.append('..')"
   ]
  },
  {
   "cell_type": "code",
   "execution_count": 2,
   "id": "9a6a0bfd-2bf7-49ae-94fe-c7fc1a18393b",
   "metadata": {
    "tags": []
   },
   "outputs": [],
   "source": [
    "## parameters\n",
    "metadata_path='../config/metadata.yaml'\n",
    "kernel=None\n",
    "force=False\n",
    "test=True"
   ]
  },
  {
   "cell_type": "code",
   "execution_count": 3,
   "id": "29b08979-d779-43ee-962a-0722dc7a4b13",
   "metadata": {},
   "outputs": [],
   "source": [
    "## inferred parameters\n",
    "metadata=read_metadata(metadata_path,inputs=None if not test else {'version':{'number':'test'}},)\n",
    "metadata['dataset']=read_metadata(metadata['dataset_config_path'],config_base=dict(species_name=metadata['species_name'],path=metadata['dataset_path'],),)\n",
    "### output\n",
    "output_dir_path=metadata['processed']['merged']\n",
    "logging.info(f\"Output directory: {output_dir_path}\")\n",
    "## backup old files if overwriting (force is True)\n",
    "if force: backup(output_dir_path,dirname(output_dir_path),test=not force,)\n",
    "## misc.\n",
    "if kernel is None:\n",
    "    kernel=metadata['kernels']['default']"
   ]
  },
  {
   "cell_type": "markdown",
   "id": "c1646173-6d25-4c4e-87f5-643917101b44",
   "metadata": {},
   "source": [
    "## Merging the analysed data"
   ]
  },
  {
   "cell_type": "code",
   "execution_count": 4,
   "id": "c10a8198-50a3-4d94-9f71-0f2eb951a36b",
   "metadata": {},
   "outputs": [],
   "source": [
    "%reset_selective -f \"^df.*\""
   ]
  },
  {
   "cell_type": "code",
   "execution_count": 5,
   "id": "c3670028-47a2-4fb0-8aed-234beafcc0fd",
   "metadata": {},
   "outputs": [],
   "source": [
    "from roux.workflow.task import run_task\n",
    "run_task(\n",
    "    parameters=dict(\n",
    "        input_path=metadata['merged']['input']['redistribution'],\n",
    "        output_path=metadata['merged']['pairs'],\n",
    "        abundance_change_path=metadata['merged']['input']['abundance_change'],\n",
    "        relocalization_paths=metadata['merged']['input']['relocalization'],\n",
    "        genes_path=metadata['ids']['genes'],\n",
    "    ),\n",
    "    kernel='yeast',\n",
    "    input_notebook_path='51_script_merge_analyses.ipynb',\n",
    "    force=force,\n",
    ")"
   ]
  },
  {
   "cell_type": "markdown",
   "id": "675641f8-a4cf-4e86-8dbc-732dd975de9f",
   "metadata": {},
   "source": [
    "## Plots"
   ]
  },
  {
   "cell_type": "markdown",
   "id": "08e8a2f0-4fa4-476c-aa69-7f52ed094147",
   "metadata": {},
   "source": [
    "### Genes classification stats"
   ]
  },
  {
   "cell_type": "code",
   "execution_count": 6,
   "id": "c7873cdf-cac4-4188-b7f1-5e1ea3c98f00",
   "metadata": {},
   "outputs": [],
   "source": [
    "output_plots_dir_path=splitext(metadata['merged']['genes'])[0]+'_plots/'"
   ]
  },
  {
   "cell_type": "code",
   "execution_count": 7,
   "id": "07133c91-d1a4-4bda-9bed-81a3ac6e2c88",
   "metadata": {},
   "outputs": [],
   "source": [
    "df01=read_table(metadata['merged']['genes'])\n",
    "df01.head(1)"
   ]
  },
  {
   "cell_type": "markdown",
   "id": "d7184b76-2a3e-4939-b46d-c45c0f4054f4",
   "metadata": {},
   "source": [
    "#### Relative abundance change"
   ]
  },
  {
   "cell_type": "code",
   "execution_count": 8,
   "id": "e64b2c77-cc89-4e87-9849-821b5cfd423a",
   "metadata": {},
   "outputs": [],
   "source": [
    "data=df01.loc[:,['gene symbol','protein abundance change']].copy()"
   ]
  },
  {
   "cell_type": "code",
   "execution_count": 9,
   "id": "36467702-cb7b-48e3-ae5d-f1bbd42335e1",
   "metadata": {},
   "outputs": [],
   "source": [
    "from roux.viz.colors import saturate_color,to_hex\n",
    "kws_plot=dict(\n",
    "    pie=dict(\n",
    "        colors=list({\n",
    "             'ns':metadata['colors']['none'],\n",
    "             'decrease':to_hex(saturate_color(metadata['colors']['dependency'],alpha=0.05)),\n",
    "             'increase':to_hex(saturate_color(metadata['colors']['compensation'],alpha=0.05)),\n",
    "            }.values()),\n",
    "        ),\n",
    ")"
   ]
  },
  {
   "cell_type": "code",
   "execution_count": 10,
   "id": "ef7c45df-493a-45f4-b581-d8ac52850aa6",
   "metadata": {},
   "outputs": [],
   "source": [
    "begin_plot()\n",
    "fig,ax=plt.subplots(figsize=[2.3,2.3])\n",
    "ds_=data['protein abundance change'].value_counts().sort_index(ascending=False)\n",
    "ds_=ds_.loc[['ns','decrease','increase']]\n",
    "pie=ds_.plot(\n",
    "    kind='pie',\n",
    "    autopct=lambda p: '{:.0f}%({:.0f})'.format(p,(p/100)*ds_.sum()), \n",
    "    explode=(0.1,0,0),\n",
    "    pctdistance=0.8, \n",
    "    labeldistance=1.25,\n",
    "    startangle=90,\n",
    "    ax=ax,\n",
    "    **kws_plot['pie'],    \n",
    ")\n",
    "ax.axis('off')\n",
    "first=True\n",
    "for child in pie.get_children():\n",
    "    if isinstance(child,plt.Text):\n",
    "        if child.get_text()=='decrease':\n",
    "            child.set_x(child.get_position()[0]+0.25)    \n",
    "            child.set_y(child.get_position()[1]-0.2)    \n",
    "        elif child.get_text()=='9%(15)' and first:\n",
    "            child.set_y(child.get_position()[1]-0.25)    \n",
    "            first=False\n",
    "\n",
    "ax.set_title('Individual paralogs',\n",
    "             y=1,\n",
    "            )\n",
    "to_plot(\n",
    "    plotp=f\"{output_plots_dir_path}/relative_abundance_change.png\",\n",
    "    data=data,\n",
    "    kws_plot=kws_plot,\n",
    "    validate=True,\n",
    ")"
   ]
  },
  {
   "cell_type": "markdown",
   "id": "7fd2ef2c-2c26-41df-928e-fc9ef988192b",
   "metadata": {},
   "source": [
    "#### Redistribution"
   ]
  },
  {
   "cell_type": "code",
   "execution_count": 11,
   "id": "abfff041-dab5-467f-8130-9c41b6a88e3a",
   "metadata": {},
   "outputs": [],
   "source": [
    "data=df01.loc[:,['gene symbol','redistribution']].copy()"
   ]
  },
  {
   "cell_type": "code",
   "execution_count": 12,
   "id": "12c6ab96-0172-4c24-aa40-1d851ce81629",
   "metadata": {},
   "outputs": [],
   "source": [
    "kws_plot=dict(\n",
    "    pie=dict(\n",
    "        colors=[metadata['colors']['none'],metadata['colors']['redistribution']],\n",
    "            ),\n",
    ")"
   ]
  },
  {
   "cell_type": "code",
   "execution_count": 13,
   "id": "c0cb490f-3373-4c06-b08f-a49fccef045d",
   "metadata": {},
   "outputs": [],
   "source": [
    "begin_plot()\n",
    "fig,ax=plt.subplots(figsize=[2,2])\n",
    "ds_=data['redistribution'].value_counts().sort_index(ascending=False)\n",
    "ds_.index=ds_.index.map({True:'redistribution',False: 'non\\nredistribution'})\n",
    "ds_.sort_values(ascending=False).plot(\n",
    "    kind='pie',\n",
    "    autopct=lambda p: '{:.1f}%\\n({:.0f})'.format(p,(p/100)*ds_.sum()), \n",
    "    explode=(0,0.1),\n",
    "    labeldistance=1.25,\n",
    "    startangle=90,\n",
    "    ax=ax,\n",
    "    **kws_plot['pie'],\n",
    "    )\n",
    "ax.axis('off')\n",
    "ax.set_title('Individual paralogs',\n",
    "             y=1,\n",
    "            )\n",
    "to_plot(\n",
    "    plotp=f\"{output_plots_dir_path}/redistribution.png\",\n",
    "    data=data,\n",
    "    kws_plot=kws_plot,\n",
    "    validate=True,\n",
    ")"
   ]
  },
  {
   "cell_type": "markdown",
   "id": "ed56d3f6-ccdb-48bf-aaf6-6c92c130e21d",
   "metadata": {},
   "source": [
    "#### Overlap of relative abundance change with redistribution"
   ]
  },
  {
   "cell_type": "code",
   "execution_count": 14,
   "id": "d80af4fa-038e-499c-987c-d8d10654d698",
   "metadata": {},
   "outputs": [],
   "source": [
    "data=df01.loc[:,['gene symbol','protein abundance change','redistribution']].copy()"
   ]
  },
  {
   "cell_type": "code",
   "execution_count": 15,
   "id": "0ade5ac5-d8ab-40b3-a64e-ef7ff1f03248",
   "metadata": {},
   "outputs": [],
   "source": [
    "from roux.viz.colors import saturate_color,to_hex\n",
    "kws_plot=dict(\n",
    "    venn=dict(\n",
    "        set_colors=(\n",
    "         metadata['colors']['compensation'],\n",
    "         metadata['colors']['dependency'],\n",
    "         metadata['colors']['redistribution']\n",
    "        ),\n",
    "    ),\n",
    "    abundance_change_classes=metadata['abundance_change']['classes'],\n",
    "    colors=metadata['colors'],\n",
    ")"
   ]
  },
  {
   "cell_type": "code",
   "execution_count": 16,
   "id": "4ea5723b-e8d0-4e87-861d-9f18d716ccb4",
   "metadata": {},
   "outputs": [],
   "source": [
    "begin_plot()\n",
    "fig,ax=plt.subplots(figsize=[3,3])\n",
    "d_=data.loc[data['protein abundance change'].isin(['decrease', 'increase']),:].rd.to_dict(['protein abundance change','gene symbol'])\n",
    "d_={\"Abundance\\n\"+kws_plot['abundance_change_classes'][k]: v for k,v in d_.items()}\n",
    "d_['Redistribution']=data.loc[data['redistribution'],'gene symbol'].tolist()\n",
    "\n",
    "d_={k:list(v) for k,v in d_.items()}\n",
    "from roux.lib.df import to_map_binary, dict2df\n",
    "df_=to_map_binary(dict2df(d_).explode('value'),colgroupby='key',colvalue='value')\n",
    "ds_=df_.groupby(df_.columns.tolist()).size()\n",
    "\n",
    "logging.info(ds_)\n",
    "from roux.viz.sets import plot_venn\n",
    "plot_venn(\n",
    "    ds_.copy(),figsize=[3.5,3.5],\n",
    "    ax=ax,\n",
    "    **kws_plot['venn'],\n",
    "    )\n",
    "\n",
    "## adjust positions\n",
    "import matplotlib\n",
    "text=list(filter( lambda y : y.get_text().startswith('Redistr'), filter(lambda x: isinstance(x,matplotlib.text.Text),ax.get_children())))[0]\n",
    "text.set_y(0.75)\n",
    "text.set_va('top')\n",
    "## recolor\n",
    "text.set_color(kws_plot['colors']['redistribution'])\n",
    "for k in kws_plot['abundance_change_classes'].values():\n",
    "    text=list(filter( lambda y : y.get_text().startswith(f'Abundance\\n{k}'), filter(lambda x: isinstance(x,matplotlib.text.Text),ax.get_children())))[0]\n",
    "    ## recolor\n",
    "    text.set_color(kws_plot['colors'][k])\n",
    "to_plot(\n",
    "    plotp=f\"{output_plots_dir_path}/venn_relative_abundance_change_redistribution.png\",\n",
    "    data=data,\n",
    "    kws_plot=kws_plot,\n",
    "    validate=True,\n",
    ")"
   ]
  },
  {
   "cell_type": "markdown",
   "id": "448a7dab-aab0-4242-a3d0-3df062c72958",
   "metadata": {},
   "source": [
    "#### Relocalized genes"
   ]
  },
  {
   "cell_type": "code",
   "execution_count": 17,
   "id": "fd1a7992-bd89-4fad-abaf-2b043ad1383a",
   "metadata": {},
   "outputs": [],
   "source": [
    "df1=(df01\n",
    "    .loc[:,[\n",
    "        \"gene symbol\",\n",
    "        'redistribution','protein abundance change',\n",
    "        \"relocalization type\",\"relocalization notes\",\n",
    "    ]]\n",
    "    .log.dropna(subset=[\"relocalization type\"])\n",
    ")\n",
    "assert df1['redistribution'].all(), 'found relocalized genes that are not redistributed.'\n",
    "df1.head(1)"
   ]
  },
  {
   "cell_type": "code",
   "execution_count": 18,
   "id": "89907501-7cff-4a66-a3d6-ecd1a709d51f",
   "metadata": {},
   "outputs": [],
   "source": [
    "abundance_change2color={\n",
    "    'decrease':\"#99E5EB\",\n",
    "    'ns':\"#99D8C7\",\n",
    "    'increase':\"#D4DFB9\",}\n",
    "from roux.viz.colors import saturate_color,to_hex\n",
    "abundance_change2color={k:to_hex(saturate_color(v,alpha=1.5)) for k,v in abundance_change2color.items()}\n",
    "abundance_change2color"
   ]
  },
  {
   "cell_type": "code",
   "execution_count": 19,
   "id": "f03f858c-c0d9-4387-93b0-f1a07c0d5f28",
   "metadata": {
    "tags": []
   },
   "outputs": [],
   "source": [
    "from roux.viz.colors import mix_colors\n",
    "df2=(df1\n",
    "    .sort_values('gene symbol')\n",
    "    .assign(\n",
    "        **{\n",
    "            'gene symbol': lambda df: df['gene symbol'].str.capitalize()+'p',#' $\\\\rightarrow$ '),\n",
    "            'relocalization notes': lambda df: df['relocalization notes'].apply(lambda x: x.split('(')[0]).str.replace(' to ','\\n↓\\n'),#' $\\\\rightarrow$ '),\n",
    "            'x': lambda df : df['protein abundance change'].map({'increase':0,'ns':0.5,'decrease':1,}),\n",
    "            'abundance compensation/dependency': lambda df : df['protein abundance change'].map({'decrease':'dependency','ns':np.nan,'increase':'compensation'}),\n",
    "            'color': lambda df : df['relocalization type'].map(metadata['colors']),\n",
    "          }\n",
    "    )\n",
    ")\n",
    "df2.head(1)"
   ]
  },
  {
   "cell_type": "code",
   "execution_count": 20,
   "id": "78ac70c4-d757-43de-9189-72789b7332f0",
   "metadata": {},
   "outputs": [],
   "source": [
    "kws_plot={'colors':{'abundance_change2color':abundance_change2color}}"
   ]
  },
  {
   "cell_type": "code",
   "execution_count": 21,
   "id": "0b77d528-48e8-4652-bd23-b873520131ae",
   "metadata": {},
   "outputs": [],
   "source": [
    "for label,data in dict(tuple(df2.groupby('relocalization type'))).items():\n",
    "    genes_per_category_max=data.groupby(['relocalization type','protein abundance change'])['gene symbol'].size().max()\n",
    "    kws_plot['ax_set_title']=dict(label=f\"Relocalization {label} ({data['gene symbol'].nunique()})\",#label.capitalize(),\n",
    "                              color=metadata['colors'][label],\n",
    "                              loc='left',\n",
    "                       )\n",
    "    data=data.assign(\n",
    "            **{'y': lambda df : df.groupby('x')['gene symbol'].transform('rank').apply(lambda x: (genes_per_category_max-x)/3)},\n",
    "        )\n",
    "    \n",
    "    begin_plot()\n",
    "    fig,ax=plt.subplots()\n",
    "    data.apply(lambda x: ax.text(x=x['x'],y=x['y'],s=x['gene symbol'],color=x['color'],ha='center',va='bottom',\n",
    "                               size=10,clip_on=False,\n",
    "                               ),axis=1)\n",
    "    data.apply(lambda x: ax.text(x=x['x'],y=x['y'],s=x['relocalization notes'],color='k',ha='center',va='top',\n",
    "                               fontfamily='dejavusans',\n",
    "                                size=8,clip_on=False,\n",
    "                                linespacing=0.8,\n",
    "                               ),axis=1)\n",
    "    pad=0.24\n",
    "    ax.axvspan(xmin=-1*pad,xmax=pad,color=kws_plot['colors']['abundance_change2color']['increase'],alpha=0.5,zorder=0,lw=0)\n",
    "    ax.axvspan(xmin=pad,xmax=1-pad,color=kws_plot['colors']['abundance_change2color']['ns'],alpha=0.5,zorder=0,lw=0)\n",
    "    ax.axvspan(xmin=1-pad,xmax=1+pad,color=kws_plot['colors']['abundance_change2color']['decrease'],alpha=0.5,zorder=0,lw=0)\n",
    "    ax.set(xlim=(-1*pad,1+pad),\n",
    "           ylim=(data['y'].min()-(pad*0.8),\n",
    "                 data['y'].max()+(pad*0.5)),\n",
    "          )\n",
    "    ax.set_title(**kws_plot['ax_set_title'])\n",
    "    ax.axis(False)\n",
    "    to_plot(\n",
    "       plotp=f\"{output_plots_dir_path}/relocalized_genes_{label}\",# filename\n",
    "       data=data, #source data\n",
    "       kws_plot=kws_plot,# plotting parameters \n",
    "        validate=True,\n",
    "        )"
   ]
  },
  {
   "cell_type": "markdown",
   "id": "6c130c19-dfd0-4644-a6d2-0c15b6d311ea",
   "metadata": {},
   "source": [
    "### Pair-wise"
   ]
  },
  {
   "cell_type": "code",
   "execution_count": 4,
   "id": "b1ae11f0-eab7-4f0f-afc8-278db3bd4783",
   "metadata": {},
   "outputs": [],
   "source": [
    "input_path=metadata['merged']['pairs']\n",
    "output_plots_dir_path=splitext(input_path)[0]+'_plots/'"
   ]
  },
  {
   "cell_type": "code",
   "execution_count": 5,
   "id": "7c993440-8141-406e-841c-57305631836a",
   "metadata": {},
   "outputs": [],
   "source": [
    "df01=read_table(metadata['merged']['pairs'])\n",
    "df01.head(1)"
   ]
  },
  {
   "cell_type": "markdown",
   "id": "53d94bd1-a449-4f68-9b86-95b09f3b4b21",
   "metadata": {},
   "source": [
    "#### Relative abundance change"
   ]
  },
  {
   "cell_type": "code",
   "execution_count": 6,
   "id": "529f5850-51c3-4005-843b-2294a9444688",
   "metadata": {},
   "outputs": [],
   "source": [
    "data=df01.loc[:,['pairs','protein abundance change paired']].copy()"
   ]
  },
  {
   "cell_type": "code",
   "execution_count": 10,
   "id": "73eb8e1c-5dd5-4d9a-880c-e3859a945bb6",
   "metadata": {},
   "outputs": [],
   "source": [
    "from roux.viz.colors import to_hex,saturate_color"
   ]
  },
  {
   "cell_type": "code",
   "execution_count": 11,
   "id": "5b412dc7-5bc0-4158-b86f-0248f25bf958",
   "metadata": {},
   "outputs": [],
   "source": [
    "kws_plot=dict(\n",
    "    pie=dict(),\n",
    "    colors={\n",
    "        'ns':metadata['colors']['none'],\n",
    "        'both increase':to_hex(saturate_color(metadata['colors']['compensation'],alpha=0.05)),\n",
    "        'both decrease':to_hex(saturate_color(metadata['colors']['dependency'],alpha=0.05)),\n",
    "    },\n",
    "    )"
   ]
  },
  {
   "cell_type": "code",
   "execution_count": 14,
   "id": "8e3f8706-ed6d-4f88-a178-4a6545a80620",
   "metadata": {},
   "outputs": [],
   "source": [
    "begin_plot()\n",
    "fig,ax=plt.subplots(figsize=[1.5,1.5])\n",
    "from roux.viz.colors import to_hex,saturate_color\n",
    "colors=kws_plot['colors']\n",
    "from roux.viz.colors import saturate_color,mix_colors\n",
    "ds_=data['protein abundance change paired'].value_counts().sort_index(ascending=False)\n",
    "ds_=ds_.rename(index={'increase':'both increase','decrease':'both decrease'})\n",
    "ds_=ds_.loc[[\n",
    "         'ns', \n",
    "         'both decrease',\n",
    "         'decrease & ns',\n",
    "         'decrease & increase', \n",
    "         'increase & ns',\n",
    "         'both increase', \n",
    "        ]]\n",
    "pie=ds_.plot(kind='pie',\n",
    "        autopct=lambda p: '{:.0f}%({:.0f})'.format(p,(p/100)*ds_.sum()), \n",
    "        explode=(0.1,0,0,0,0,0),\n",
    "        pctdistance=0.85, \n",
    "        labeldistance=1.4,\n",
    "        startangle=90,\n",
    "         colors=[\n",
    "                 # mix_colors([get_colors_default()[0],get_colors_default()[2]]),\n",
    "                 colors['ns'],\n",
    "                 saturate_color(color=colors['both decrease'],alpha=1.2),\n",
    "                 saturate_color(color=colors['both decrease'],alpha=0.4),\n",
    "                 saturate_color(mix_colors([\n",
    "                                      colors['both decrease'],\n",
    "                                      colors['both increase'],\n",
    "                                ]),alpha=0.7),\n",
    "                 saturate_color(color=colors['both increase'],alpha=0.8),\n",
    "                 saturate_color(color=colors['both increase'],alpha=1.2),\n",
    "         ],\n",
    "        ax=ax)\n",
    "ax.axis('off')\n",
    "\n",
    "for child in pie.get_children():\n",
    "    if isinstance(child,plt.Text):\n",
    "        if child.get_text()=='1%(1)':\n",
    "            child.set_y(child.get_position()[1]+0.25)\n",
    "        elif child.get_text()=='both increase':\n",
    "            child.set_x(child.get_position()[0]-0.5)\n",
    "            child.set_y(child.get_position()[1]+0.1)\n",
    "        elif child.get_text()=='increase & ns':\n",
    "            child.set_y(child.get_position()[1]-0.1)\n",
    "        elif child.get_text()=='decrease & increase':\n",
    "            child.set_y(child.get_position()[1]-0.1)\n",
    "ax.set_title('Paralog pairs',\n",
    "             y=1,\n",
    "            )\n",
    "to_plot(\n",
    "    plotp=f\"{output_plots_dir_path}/protein_abundance_change.png\",\n",
    "    data=data,\n",
    "    kws_plot=kws_plot,\n",
    "    validate=True,\n",
    ")"
   ]
  },
  {
   "cell_type": "code",
   "execution_count": 13,
   "id": "83a61b36-f860-40e5-98e4-cb8e206c7340",
   "metadata": {},
   "outputs": [],
   "source": [
    "f\"{output_plots_dir_path}/protein_abundance_change.png\""
   ]
  },
  {
   "cell_type": "markdown",
   "id": "aed48333-825d-4c64-b507-db0becfd182b",
   "metadata": {},
   "source": [
    "#### Redistribution"
   ]
  },
  {
   "cell_type": "code",
   "execution_count": 27,
   "id": "bef64b7c-783c-4ff4-992e-a2f1858ca0d1",
   "metadata": {},
   "outputs": [],
   "source": [
    "data=df01.loc[:,['pairs','redistribution']].copy()"
   ]
  },
  {
   "cell_type": "code",
   "execution_count": 28,
   "id": "97024c09-e9b6-4270-a9bf-41b95511403a",
   "metadata": {},
   "outputs": [],
   "source": [
    "kws_plot=dict(\n",
    "    pie=dict(\n",
    "        colors=[metadata['colors']['none'],metadata['colors']['redistribution']],\n",
    "            ),\n",
    ")"
   ]
  },
  {
   "cell_type": "code",
   "execution_count": 29,
   "id": "3b899e4b-63af-4d55-8aaa-010d36f10ce1",
   "metadata": {},
   "outputs": [],
   "source": [
    "begin_plot()\n",
    "fig,ax=plt.subplots(figsize=[2,2])\n",
    "ds_=data['redistribution'].value_counts().sort_index(ascending=False)\n",
    "out=ds_.plot(\n",
    "    kind='pie',\n",
    "    autopct=lambda p: '{:.1f}%\\n({:.0f})'.format(p,(p/100)*ds_.sum()), \n",
    "    pctdistance=0.9, \n",
    "    labeldistance=1.45,\n",
    "    explode=(0.1,0,0),\n",
    "    startangle=90,\n",
    "    **kws_plot['pie'],    \n",
    "    ax=ax,\n",
    ")\n",
    "# print(out)\n",
    "ax.axis('off')\n",
    "ax.set(title='pairs')\n",
    "ax.set_title('Paralog pairs',\n",
    "             y=1.2,\n",
    "            )\n",
    "to_plot(\n",
    "    plotp=f\"{output_plots_dir_path}/redistribution.png\",\n",
    "    data=data,\n",
    "    kws_plot=kws_plot,\n",
    "    validate=test,\n",
    ")"
   ]
  }
 ],
 "metadata": {
  "kernelspec": {
   "display_name": "yeast",
   "language": "python",
   "name": "yeast"
  },
  "language_info": {
   "codemirror_mode": {
    "name": "ipython",
    "version": 3
   },
   "file_extension": ".py",
   "mimetype": "text/x-python",
   "name": "python",
   "nbconvert_exporter": "python",
   "pygments_lexer": "ipython3",
   "version": "3.7.13"
  }
 },
 "nbformat": 4,
 "nbformat_minor": 5
}
