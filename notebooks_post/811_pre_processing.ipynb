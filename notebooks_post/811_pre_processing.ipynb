{
 "cells": [
  {
   "cell_type": "markdown",
   "id": "5bd9c14f-62cc-4c4b-a166-1f7d17869e7e",
   "metadata": {},
   "source": [
    "# Pre-processing the raw images\n",
    "\n",
    "Channels are separated and cells are segmented."
   ]
  },
  {
   "cell_type": "code",
   "execution_count": 1,
   "id": "f4d5aaf0-1967-44fc-aadc-8f3b4f215058",
   "metadata": {
    "tags": []
   },
   "outputs": [],
   "source": [
    "## data functions\n",
    "import numpy as np\n",
    "## system functions\n",
    "from os.path import basename\n",
    "from os.path import exists\n",
    "from glob import glob\n",
    "## system functions from roux\n",
    "from roux.lib.sys import basenamenoext\n",
    "## visualization functions from roux\n",
    "from roux.viz.diagram import diagram_nb\n",
    "## data functions from roux\n",
    "import roux.lib.dfs as rd # attributes\n",
    "import sys\n",
    "sys.path.append('..')"
   ]
  },
  {
   "cell_type": "code",
   "execution_count": 2,
   "id": "f5f5061c-74e5-4b43-818b-c41351f9c142",
   "metadata": {
    "tags": [
     "parameters"
    ]
   },
   "outputs": [],
   "source": [
    "input_path=None\n",
    "output_path=None\n",
    "\n",
    "separate_channels_nb_path=None\n",
    "segmentation_nb_path=None\n",
    "\n",
    "force=True\n",
    "test=True"
   ]
  },
  {
   "cell_type": "code",
   "execution_count": null,
   "id": "d4ee853b",
   "metadata": {},
   "outputs": [],
   "source": [
    "# inferred parameters \n",
    "output_dir_path=Path(output_dir_path).parent\n",
    "input_dir_path=input_path; del input_path"
   ]
  },
  {
   "cell_type": "code",
   "execution_count": 6,
   "id": "88e4c1b0-3412-4084-9123-134da5016197",
   "metadata": {},
   "outputs": [],
   "source": [
    "diagram_nb(\n",
    "\"\"\"\n",
    "    graph LR;\n",
    "        i1([\"Raw images\"])\n",
    "        --> p1[[\"Preprocessing\\n1. Separate the channels\\n2. Segmentation by the DIC images\"]] \n",
    "        --> image1[\"Images without\\nmarkers\"] & image2[\"Images with\\nmarkers\"]\n",
    "        image1 --> o1([\"Protein abundance change\"])\n",
    "        image2 --> o1 & o2([\"Localization change\"])\n",
    "    classDef ends fill:#fff,stroke:#fff\n",
    "\"\"\"\n",
    ")"
   ]
  },
  {
   "cell_type": "markdown",
   "id": "50224b2f-0a90-438f-aa64-3fc8c423a94f",
   "metadata": {
    "tags": []
   },
   "source": [
    "## Raw images"
   ]
  },
  {
   "cell_type": "markdown",
   "id": "2f4c679e",
   "metadata": {},
   "source": [
    "### Grouped by the construct ID"
   ]
  },
  {
   "cell_type": "code",
   "execution_count": 8,
   "id": "16c1ae09-dcde-40be-9532-777d94c00320",
   "metadata": {},
   "outputs": [],
   "source": [
    "if int(run_id)<20231011:\n",
    "    df0=pd.Series({\n",
    "        \"CUE4-GFP CUE1-WT\":glob(f\"{input_dir_path}/{run_id}/cue4cue1/ER reporter/*.nd2\"),\n",
    "        \"CUE4-GFP CUE1-DELTA\":glob(f\"{input_dir_path}/{run_id}/cue4cue1del//ER reporter/*.nd2\"),\n",
    "    }).to_frame('path').explode('path').rename_axis('construct').reset_index()\n",
    "elif int(run_id)==20231011:\n",
    "    df0=pd.Series({\n",
    "        \"CUE4-GFP CUE1-WT\":[p for p in glob(f\"{input_dir_path}/{run_id}/*cue4cue1*.nd2\") if not 'del' in basename(p)],\n",
    "        \"CUE4-GFP CUE1-DELTA\":glob(f\"{input_dir_path}/{run_id}/*cue4cue1del*.nd2\"),\n",
    "    }).to_frame('path').explode('path').rename_axis('construct').reset_index()\n",
    "elif int(run_id) in [20231012,20231013]:\n",
    "    df0=pd.Series({\n",
    "        \"CUE4-GFP CUE1-WT\":[p for p in glob(f\"{input_dir_path}/{run_id}/*cue1cue4*.nd2\") if not 'del' in basename(p)],\n",
    "        \"CUE4-GFP CUE1-DELTA\":glob(f\"{input_dir_path}/{run_id}/*cue4cue1del*.nd2\"),\n",
    "    }).to_frame('path').explode('path').rename_axis('construct').reset_index()"
   ]
  },
  {
   "cell_type": "code",
   "execution_count": 10,
   "id": "76f6cdcb-833c-4c39-aeb1-46ad0239d46c",
   "metadata": {
    "tags": []
   },
   "outputs": [],
   "source": [
    "to_table(df0,f'{output_dir_path}/{run_id}_00_paths.tsv')"
   ]
  },
  {
   "cell_type": "markdown",
   "id": "6256b52f-8a35-4d5c-9550-39c3b7cfc8c0",
   "metadata": {},
   "source": [
    "## Identify markers from the file names"
   ]
  },
  {
   "cell_type": "code",
   "execution_count": 13,
   "id": "e91a3c91-c2c5-4a37-8cbf-443a6fe1a32c",
   "metadata": {},
   "outputs": [],
   "source": [
    "df0=(df0\n",
    "    .log.query(expr=\"~(`path`.str.contains('_wt_')) & ~(`path`.str.contains('dic.')) & `path`.str.endswith('.nd2')\")# & `path`.str.contains('_00')\")\n",
    "    .assign(\n",
    "    **{\n",
    "        'image id': lambda df: df['path'].apply(basenamenoext),            \n",
    "        'dic_path':None,\n",
    "        'red_channel':lambda df: df.apply(lambda x: 'ER' if 'ER' in x['path'] else 'cytoplasm'  if 'cyto' in x['path'] else np.nan,axis=1),\n",
    "        'z': None,\n",
    "        'output_dir_path':output_dir_path,\n",
    "        'channels path':lambda df: df.apply(lambda x: f\"{output_dir_path}/{run_id}/{splitext(basename(x['path']))[0]}\"+(f\"_z{x['z']:03}\" if not x['z'] is None else '')+\"_channels/\",axis=1),\n",
    "      }\n",
    "    )\n",
    ")\n",
    "df0.loc[:,['image id']].rd.assert_no_dups()\n",
    "assert not df0['construct'].isnull().any(), df0['construct'].isnull().sum()"
   ]
  },
  {
   "cell_type": "code",
   "execution_count": 15,
   "id": "06b7f180-69b4-4db7-96e1-8e164cafd9b1",
   "metadata": {},
   "outputs": [],
   "source": [
    "to_table(df0,f'{output_dir_path}/{run_id}/00_paths.tsv')"
   ]
  },
  {
   "cell_type": "markdown",
   "id": "8376a6d6-b2c2-4c1c-9ba0-c8be26387148",
   "metadata": {},
   "source": [
    "## Separate the channels from the nd2 files"
   ]
  },
  {
   "cell_type": "code",
   "execution_count": 16,
   "id": "5697e708-1b45-48fb-97f8-98928fb25224",
   "metadata": {},
   "outputs": [],
   "source": [
    "parameters_list=df0.apply(lambda x: dict(\n",
    "    input_path=x['path'],\n",
    "    output_path=f\"{x['channels path']}/epi_gfp.npy\",\n",
    "    zstack=x['z'] if not pd.isnull(x['z']) else None,\n",
    "    ),\n",
    "    axis=1).tolist()\n",
    "len(parameters_list)"
   ]
  },
  {
   "cell_type": "code",
   "execution_count": 18,
   "id": "44f633c3-bce8-413e-a168-10dd036d8a45",
   "metadata": {
    "scrolled": true,
    "tags": []
   },
   "outputs": [],
   "source": [
    "from roux.workflow.task import run_tasks\n",
    "_=run_tasks(\n",
    "    input_notebook_path=separate_channels_nb_path,\n",
    "    parameters_list=parameters_list,\n",
    "    kernel='imaging_nd2',\n",
    "    fast=True,\n",
    "    force=force,\n",
    ")"
   ]
  },
  {
   "cell_type": "markdown",
   "id": "584fee2f-7dcb-4f9e-917b-06fe84a22a3e",
   "metadata": {},
   "source": [
    "## Run segmentation"
   ]
  },
  {
   "cell_type": "code",
   "execution_count": 20,
   "id": "f04179f1-a01b-40ca-a1d0-8190ed8b1277",
   "metadata": {
    "scrolled": true
   },
   "outputs": [],
   "source": [
    "from roux.workflow.task import run_tasks\n",
    "if not exists(output_path) or force:\n",
    "    outputs=run_tasks(\n",
    "        input_notebook_path=segmentation_nb_path,\n",
    "        parameters_list = [dict(\n",
    "                input_path= f'{output_dir_path}/{run_id}/*/*.npy',\n",
    "                output_path=output_path,            \n",
    "            )],\n",
    "        kernel='yeast_segmentation',\n",
    "    )    "
   ]
  }
 ],
 "metadata": {
  "kernelspec": {
   "display_name": "yeast",
   "language": "python",
   "name": "yeast"
  },
  "language_info": {
   "codemirror_mode": {
    "name": "ipython",
    "version": 3
   },
   "file_extension": ".py",
   "mimetype": "text/x-python",
   "name": "python",
   "nbconvert_exporter": "python",
   "pygments_lexer": "ipython3",
   "version": "3.7.13"
  }
 },
 "nbformat": 4,
 "nbformat_minor": 5
}
