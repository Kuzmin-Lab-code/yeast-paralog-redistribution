{
 "cells": [
  {
   "cell_type": "markdown",
   "id": "5bd9c14f-62cc-4c4b-a166-1f7d17869e7e",
   "metadata": {},
   "source": [
    "# Calculation of the single-cell abundances\n",
    "\n",
    "Single-cell abundances and the abundances at the marker locations were quuantified using `htsimaging` [@Dandage2023-sm]."
   ]
  },
  {
   "cell_type": "code",
   "execution_count": 1,
   "id": "f4d5aaf0-1967-44fc-aadc-8f3b4f215058",
   "metadata": {
    "tags": []
   },
   "outputs": [],
   "source": [
    "## logging functions\n",
    "import logging\n",
    "## data functions\n",
    "import numpy as np\n",
    "import pandas as pd\n",
    "## system functions\n",
    "from os.path import basename\n",
    "from os.path import dirname\n",
    "from os.path import splitext\n",
    "## system functions from roux\n",
    "from roux.lib.io import backup\n",
    "from roux.lib.sys import basenamenoext\n",
    "from roux.lib.io import read_dict\n",
    "## workflow functions from roux\n",
    "from roux.workflow.log import print_parameters\n",
    "## visualization functions from roux\n",
    "from roux.viz.diagram import diagram_nb\n",
    "## data functions from roux\n",
    "import roux.lib.dfs as rd # attributes\n",
    "import sys\n",
    "sys.path.append('..')"
   ]
  },
  {
   "cell_type": "code",
   "execution_count": 3,
   "id": "f5f5061c-74e5-4b43-818b-c41351f9c142",
   "metadata": {
    "tags": [
     "parameters"
    ]
   },
   "outputs": [],
   "source": [
    "input_path=None\n",
    "output_path=None #\n",
    "\n",
    "channel_segmentation=None\n",
    "channel_intensity=None\n",
    "\n",
    "script_protein_abundance_by_single_cell_path=None #'htsimaging/examples/protein_abundance_and_normalization.ipynb'\n",
    "script_protein_abundance_by_marker_location_path=None #'htsimaging/examples/protein_abundance_by_marker_location.ipynb'\n",
    "\n",
    "\n",
    "marker_intensity_min_quantile=0.975\n",
    "pixels_per_cell_min=100 \n",
    "non_marker_intensity_quantile_off=0.02\n",
    "\n",
    "kernel='parlocred' # default kernel\n",
    "\n",
    "force=False\n",
    "test=True"
   ]
  },
  {
   "cell_type": "code",
   "execution_count": 91,
   "id": "bf82d4b5-0e59-45fc-ace3-4686b2311beb",
   "metadata": {
    "tags": []
   },
   "outputs": [],
   "source": [
    "## inferred parameters\n",
    "input_dir_path=dirname(input_path)\n",
    "output_dir_path=str(Path(output_path).parent.parent)\n",
    "assert basename(input_dir_path)==basename(output_dir_path)\n",
    "\n",
    "### output\n",
    "logging.info(f\"Output directory: {output_dir_path}\")\n",
    "## backup old files if overwriting (force is True)\n",
    "if force: backup(output_dir_path,dirname(output_dir_path),test=not force,)"
   ]
  },
  {
   "cell_type": "code",
   "execution_count": 5,
   "id": "88e4c1b0-3412-4084-9123-134da5016197",
   "metadata": {},
   "outputs": [],
   "source": [
    "diagram_nb(\n",
    "\"\"\"\n",
    "    graph LR;\n",
    "        i1([\"Raw images\"])\n",
    "        --> p1[[\"Preprocessing\\n1. Separate the channels\\n2. Segmentation by the DIC images\"]] \n",
    "        --> image1[\"Images without\\nmarkers\"] & image2[\"Images with\\nmarkers\"]\n",
    "        image1 --> o1([\"Protein abundance change\"])\n",
    "        image2 --> o1 & o2([\"Localization change\"])\n",
    "    classDef ends fill:#fff,stroke:#fff\n",
    "\"\"\"\n",
    ")"
   ]
  },
  {
   "cell_type": "markdown",
   "id": "8f6800ea-22b7-4c93-b9aa-cf8c28f469ed",
   "metadata": {},
   "source": [
    "## Protein abundance by single cells "
   ]
  },
  {
   "cell_type": "code",
   "execution_count": 6,
   "id": "0466964b-e823-4665-96d9-1bd4aae58372",
   "metadata": {},
   "outputs": [],
   "source": [
    "df0=read_table(input_path)\n",
    "df0.head(1)"
   ]
  },
  {
   "cell_type": "code",
   "execution_count": 7,
   "id": "f1ee5029-8b4f-446a-8130-b91880d34cce",
   "metadata": {},
   "outputs": [],
   "source": [
    "df1=(df0\n",
    "    # .query(\"~(`path`.str.contains('_ER_'))\")\n",
    "    ## set image #\n",
    "    .sort_values('path')\n",
    "    .assign(\n",
    "        **{\n",
    "            'image id': lambda df: df['path'].apply(basenamenoext),            \n",
    "            'channels path': lambda df: df['channels path'].str.replace('/data/','/pre_processed/'),\n",
    "            'gfp path' : lambda df: df.apply(lambda x: f\"{x['channels path']}/{channel_intensity}.npy\",axis=1),\n",
    "            'segmented path' : lambda df: df.apply(lambda x: f\"{x['channels path']}/{channel_segmentation}.npy.segmented.tif\",axis=1),            \n",
    "            'gfp path exists' : lambda df: df.apply(lambda x: exists(x['gfp path']),axis=1),           \n",
    "            'segmented path exists' : lambda df: df.apply(lambda x: exists(x['segmented path']),axis=1),           \n",
    "          },\n",
    "    )\n",
    "     .log()\n",
    ")\n",
    "df1.head(1)"
   ]
  },
  {
   "cell_type": "code",
   "execution_count": 10,
   "id": "95a52cfd-632d-4995-83d9-fce43a467840",
   "metadata": {},
   "outputs": [],
   "source": [
    "to_table(df1,f'{output_dir_path}/00_paths.tsv')"
   ]
  },
  {
   "cell_type": "markdown",
   "id": "933393f5",
   "metadata": {},
   "source": [
    "### Set Image #"
   ]
  },
  {
   "cell_type": "code",
   "execution_count": 15,
   "id": "36cb0fd7-7d1c-4918-bff0-fd3461823998",
   "metadata": {},
   "outputs": [],
   "source": [
    "df1=(df1\n",
    "    .log.query(expr=\"`gfp path exists` == True & `segmented path exists` == True \")\n",
    "    .assign(\n",
    "        **{\n",
    "            \"image #\": lambda df: df.groupby('construct')['path'].transform(lambda x: 1+np.array(range(len(x)))),\n",
    "        }\n",
    "    )\n",
    "    .rd.clean()\n",
    "    .log('gfp path')\n",
    ")\n",
    "df1.head(1)"
   ]
  },
  {
   "cell_type": "code",
   "execution_count": 18,
   "id": "7c9bb96a-805d-41b2-a6c8-50d59c579fb3",
   "metadata": {
    "scrolled": true,
    "tags": []
   },
   "outputs": [],
   "source": [
    "parameters_list=df1.apply(lambda x: dict(\n",
    "    input_path=x['gfp path'],\n",
    "    segmented_image_path= x['segmented path'],\n",
    "    output_path=f\"{output_dir_path}/{x['image id']}_channels/01_gfpby_cell.pqt\",\n",
    "    ),axis=1).T.to_dict().values()\n",
    "parameters_list=list(parameters_list)\n",
    "print_parameters(list(parameters_list)[0])"
   ]
  },
  {
   "cell_type": "code",
   "execution_count": 24,
   "id": "a322fa64-e569-4c8c-9f7e-1ee03c0042bd",
   "metadata": {
    "scrolled": true,
    "tags": []
   },
   "outputs": [],
   "source": [
    "from roux.workflow.task import run_tasks\n",
    "outputs=run_tasks(\n",
    "    input_notebook_path=script_protein_abundance_by_single_cell_path,\n",
    "    kernel='htsimaging',\n",
    "    parameters_list = parameters_list,\n",
    "    fast = True,\n",
    ")"
   ]
  },
  {
   "cell_type": "markdown",
   "id": "f71d6694-f110-4ac7-ac5b-19452c98975f",
   "metadata": {},
   "source": [
    "### Filter images based on possible misalignments between channels"
   ]
  },
  {
   "cell_type": "code",
   "execution_count": 25,
   "id": "7535235a-d795-44f9-947c-8f6b79ed94fa",
   "metadata": {},
   "outputs": [],
   "source": [
    "misaligned_fractions={basename(dirname(d['output_path'])).replace('_channels',''):read_dict(f\"{splitext(d['output_path'])[0]}_stats.json\") for d in parameters_list}"
   ]
  },
  {
   "cell_type": "code",
   "execution_count": 27,
   "id": "75911c45-8bdf-42ae-a46d-b7ecef62eed7",
   "metadata": {},
   "outputs": [],
   "source": [
    "df_=(\n",
    "    pd.DataFrame(misaligned_fractions).T\n",
    "    .assign(\n",
    "        **{\n",
    "            \"misaligned_area_intensity_norm\":lambda df: df['misaligned_area_intensity']/df['background_intensity'],\n",
    "            \"drop\":lambda df: (df['misaligned_area_intensity_norm']>1.1) | (df['misaligned_fraction']>0.9),\n",
    "        }\n",
    "    )\n",
    "    .sort_values(['misaligned_fraction','misaligned_area_intensity_norm'],ascending=False)\n",
    "    .rename_axis(['image id'],axis=0).reset_index()\n",
    ")\n",
    "df_.head(1)"
   ]
  },
  {
   "cell_type": "code",
   "execution_count": 28,
   "id": "33e19ff7-1442-4035-b484-0c9e905e97cc",
   "metadata": {},
   "outputs": [],
   "source": [
    "ax=sns.scatterplot(data=df_,x='misaligned_fraction',y='misaligned_area_intensity_norm',hue='drop')\n",
    "ax.legend(bbox_to_anchor=[1,1],title='drop image')"
   ]
  },
  {
   "cell_type": "code",
   "execution_count": 29,
   "id": "e5ce5458-1675-4a96-8a18-18088415d375",
   "metadata": {},
   "outputs": [],
   "source": [
    "## filter\n",
    "df_=df_.log.query(expr=\"`drop` == False\")\n",
    "\n",
    "df0.head(1)"
   ]
  },
  {
   "cell_type": "code",
   "execution_count": 32,
   "id": "f3c491e9-9fb5-4367-8fdc-ac28bfbaf8a8",
   "metadata": {},
   "outputs": [],
   "source": [
    "## get the metainfo of the filtered images\n",
    "df0_=(df0\n",
    "    .assign(\n",
    "        **{\n",
    "            'image id': lambda df: df['path'].apply(basenamenoext),\n",
    "            \"image #\": lambda df: df.groupby(['construct','red_channel'])['path'].transform(lambda x: 1+np.array(range(len(x)))),            \n",
    "        }\n",
    "    )\n",
    "    .loc[:,['image id','construct','red_channel','image #','z']]\n",
    "    .log.merge(\n",
    "        right=df_.loc[:,['image id']],\n",
    "        how='inner',\n",
    "        on='image id',\n",
    "        validate=\"1:1\",\n",
    "    )\n",
    ")\n",
    "df0_.head()"
   ]
  },
  {
   "cell_type": "code",
   "execution_count": 33,
   "id": "72f1dba9-814c-446a-bd27-724d33d3b6e2",
   "metadata": {},
   "outputs": [],
   "source": [
    "to_table(\n",
    "    df0_,\n",
    "    f'{output_dir_path}/01_filteredby_misalign.tsv',\n",
    ")"
   ]
  },
  {
   "cell_type": "markdown",
   "id": "6c32c37c-13de-43ab-be09-ccd17262c7a9",
   "metadata": {
    "tags": []
   },
   "source": [
    "## Combining protein abundances"
   ]
  },
  {
   "cell_type": "code",
   "execution_count": 34,
   "id": "12c7d1b9-5580-4aad-9feb-5418da3e3332",
   "metadata": {},
   "outputs": [],
   "source": [
    "## read the single cell wise protein abundances\n",
    "df01=read_table(\n",
    "    [f\"{output_dir_path}/{k}_channels/01_gfpby_cell.pqt\" for k in df0_['image id'].tolist()],\n",
    "    drop_index=False,\n",
    "    replaces_index=lambda x: basename(dirname(x)).replace('_channels',''),\n",
    "    colindex='image id',\n",
    "    )\n",
    "df01.head(1)"
   ]
  },
  {
   "cell_type": "code",
   "execution_count": 35,
   "id": "27da71d2-0b56-4eaa-a117-59c98ed2013e",
   "metadata": {},
   "outputs": [],
   "source": [
    "## merge with metainfo\n",
    "df2=df0_.merge(\n",
    "    right=df01,\n",
    "    how='inner',\n",
    "    on='image id',\n",
    "    validate=\"1:m\",\n",
    "    )\n",
    "df2.head(1)"
   ]
  },
  {
   "cell_type": "code",
   "execution_count": 36,
   "id": "9eaf92ab-72e7-419d-8cd8-6ae8c8f4d08f",
   "metadata": {},
   "outputs": [],
   "source": [
    "## remove cells without signal\n",
    "df3=df2.log.query(expr='`abundance normalized` > 1')"
   ]
  },
  {
   "cell_type": "code",
   "execution_count": 38,
   "id": "d77c1382-5fc1-4e29-a449-a8a37b462744",
   "metadata": {},
   "outputs": [],
   "source": [
    "to_table(\n",
    "    df3,\n",
    "    f'{output_dir_path}/relative_abundance_change/01_combined.tsv',\n",
    ")"
   ]
  },
  {
   "cell_type": "markdown",
   "id": "188c7512-e857-4676-a2c2-ff8244ce5e0a",
   "metadata": {},
   "source": [
    "## Protein abundance at the marker (~relocalization)"
   ]
  },
  {
   "cell_type": "code",
   "execution_count": 41,
   "id": "4008f776-1e69-4d31-9c45-579728eaeb9a",
   "metadata": {},
   "outputs": [],
   "source": [
    "_input_path=f'{output_dir_path}/01_filteredby_misalign.tsv'"
   ]
  },
  {
   "cell_type": "code",
   "execution_count": 42,
   "id": "1dabd08a-c720-4a68-88ec-965dac59d2dd",
   "metadata": {},
   "outputs": [],
   "source": [
    "## annotations\n",
    "df00=read_table(_input_path)\n",
    "df00.head(1)"
   ]
  },
  {
   "cell_type": "markdown",
   "id": "ffd066e2-3f94-485d-8021-08bc5810611d",
   "metadata": {},
   "source": [
    "### Protein abundance by marker's localizations"
   ]
  },
  {
   "cell_type": "code",
   "execution_count": 48,
   "id": "609a4bbe-3e65-468a-905c-a77cf30823f9",
   "metadata": {},
   "outputs": [],
   "source": [
    "## get the images with markers\n",
    "df0=(df00\n",
    "    .log.query(expr='~(`red_channel`.isnull())')\n",
    "    .assign(\n",
    "     **{\n",
    "         'channels path':lambda df: df['image id'].apply(lambda x: f'{input_dir_path}/{x}_channels/'),\n",
    "     }\n",
    "    )\n",
    "    )\n",
    "df0.head(1)"
   ]
  },
  {
   "cell_type": "code",
   "execution_count": 49,
   "id": "425c141e-011c-4db7-ab0e-c8766d66a5ce",
   "metadata": {},
   "outputs": [],
   "source": [
    "df1=(df0\n",
    "     .assign(\n",
    "         **dict(\n",
    "    input_path=lambda df: df.apply(lambda x: x['channels path']+'/epi_red.npy',axis=1),\n",
    "    image_intensity_path=lambda df: df.apply(lambda x: f\"{x['channels path']}/{channel_intensity}.npy\",axis=1),\n",
    "    regions_path=lambda df: df.apply(lambda x: f\"{output_dir_path}/{x['image id']}_channels/01_regions_filtered.npy\",axis=1),\n",
    "             \n",
    "    marker_intensity_min_quantile=marker_intensity_min_quantile,\n",
    "    pixels_per_cell_min=pixels_per_cell_min,\n",
    "    non_marker_intensity_quantile_off=non_marker_intensity_quantile_off,\n",
    "             \n",
    "    background_intensity=lambda df: df.apply(lambda x: read_dict(f\"{output_dir_path}/{x['image id']}_channels/01_gfpby_cell_stats.json\")['background_intensity'],axis=1),\n",
    "    output_path=lambda df: df.apply(lambda x: f\"{output_dir_path}/{x['image id']}_channels/02_gfpby_marker.pqt\",axis=1),\n",
    "    ) \n",
    "    )\n",
    ")\n",
    "df1.head(1)"
   ]
  },
  {
   "cell_type": "code",
   "execution_count": 50,
   "id": "c95e3512-f90a-42d9-a574-ee35d20f5bf9",
   "metadata": {},
   "outputs": [],
   "source": [
    "## make parameters\n",
    "parameters_list=df1.loc[:,[\n",
    "    'input_path','image_intensity_path','regions_path',\n",
    "    'marker_intensity_min_quantile','pixels_per_cell_min','background_intensity',\n",
    "    'output_path'\n",
    "          ]].T.to_dict().values()\n",
    "## filter parameters\n",
    "info(len(parameters_list))\n",
    "parameters_list=[d for d in parameters_list if exists(d['regions_path'])]\n",
    "info(len(parameters_list))\n",
    "parameters_list[:1]"
   ]
  },
  {
   "cell_type": "code",
   "execution_count": 52,
   "id": "e73c41fb-c86d-4449-b0b1-7a32f51923c0",
   "metadata": {
    "scrolled": true,
    "tags": []
   },
   "outputs": [],
   "source": [
    "from roux.workflow.task import run_tasks\n",
    "outputs=run_tasks(\n",
    "    input_notebook_path=script_protein_abundance_by_marker_location_path,\n",
    "    parameters_list=parameters_list,#[:1],\n",
    "    kernel=kernel,\n",
    "    force=force,\n",
    "    fast=True,\n",
    ")"
   ]
  },
  {
   "cell_type": "code",
   "execution_count": 53,
   "id": "3ec7664a-f231-4231-8813-ec2bf7c8d494",
   "metadata": {},
   "outputs": [],
   "source": [
    "df01=df1.groupby('output_path').apply(lambda df: read_table(df.name)).reset_index(0).rd.clean()\n",
    "df01.head(1)"
   ]
  },
  {
   "cell_type": "code",
   "execution_count": 54,
   "id": "8884038b-3a32-46f5-a449-3f02e7f44dc8",
   "metadata": {},
   "outputs": [],
   "source": [
    "## mapping it to the metainfo\n",
    "df2=df1.log.merge(\n",
    "    right=df01,\n",
    "    how='inner',\n",
    "    on='output_path',\n",
    "    validate=\"1:m\",\n",
    "    )\n",
    "df2.head(1)"
   ]
  },
  {
   "cell_type": "code",
   "execution_count": 55,
   "id": "5f4a2eb2-dbae-4c60-9f7a-c284c6e49ac8",
   "metadata": {},
   "outputs": [],
   "source": [
    "to_table(\n",
    "    df2,\n",
    "    output_path,\n",
    ")"
   ]
  },
  {
   "cell_type": "code",
   "execution_count": 56,
   "id": "7f32d8d6-9558-40fd-9394-c84e2fbbd84f",
   "metadata": {},
   "outputs": [],
   "source": [
    "%reset_selective -f \"^df.*\""
   ]
  },
  {
   "cell_type": "code",
   "execution_count": 57,
   "id": "b60e856e-9a5e-49f2-9e38-df82e491b9bc",
   "metadata": {},
   "outputs": [],
   "source": [
    "df2=read_table(f'{output_dir_path}/relocalization/01_combined.tsv')\n",
    "df2.head(1)"
   ]
  }
 ],
 "metadata": {
  "kernelspec": {
   "display_name": "yeast",
   "language": "python",
   "name": "yeast"
  },
  "language_info": {
   "codemirror_mode": {
    "name": "ipython",
    "version": 3
   },
   "file_extension": ".py",
   "mimetype": "text/x-python",
   "name": "python",
   "nbconvert_exporter": "python",
   "pygments_lexer": "ipython3",
   "version": "3.7.13"
  }
 },
 "nbformat": 4,
 "nbformat_minor": 5
}
