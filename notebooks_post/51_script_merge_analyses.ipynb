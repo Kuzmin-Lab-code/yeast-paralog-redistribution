{
 "cells": [
  {
   "cell_type": "markdown",
   "id": "a16f2ef9-ee31-4d6c-8864-5e19afd754e2",
   "metadata": {},
   "source": [
    "# Combining processed data.\n",
    "\n",
    "Merging of the proocessed data and classification of the paralog pairs."
   ]
  },
  {
   "cell_type": "code",
   "execution_count": 1,
   "id": "546ec5b3-60ea-4690-8715-fe190f88ea20",
   "metadata": {},
   "outputs": [],
   "source": [
    "## logging functions\n",
    "from icecream import ic as info\n",
    "import logging\n",
    "## data functions\n",
    "import numpy as np\n",
    "## system functions\n",
    "from os.path import dirname\n",
    "import sys\n",
    "## system functions from roux\n",
    "from roux.lib.io import read_table\n",
    "from roux.lib.io import to_table\n",
    "## data functions from roux\n",
    "import roux.lib.dfs as rd # attributes\n",
    "sys.path.append('../')"
   ]
  },
  {
   "cell_type": "code",
   "execution_count": 33,
   "id": "c9c789ee-ff53-4383-814f-8dbad11a5eb0",
   "metadata": {
    "tags": [
     "parameters"
    ]
   },
   "outputs": [],
   "source": [
    "## parameters\n",
    "input_path=None ## redistribution\n",
    "output_path=None\n",
    "\n",
    "abundance_change_path=None\n",
    "relocalization_paths=None\n",
    "\n",
    "genes_path=None # genes from the study"
   ]
  },
  {
   "cell_type": "code",
   "execution_count": 3,
   "id": "1a1e542f-b01b-4574-a99c-29854331d7e9",
   "metadata": {},
   "outputs": [],
   "source": [
    "output_dir_path=dirname(output_path)\n",
    "logging.info(output_dir_path)"
   ]
  },
  {
   "cell_type": "markdown",
   "id": "51848224-74ef-4cba-be12-da82bd471fed",
   "metadata": {},
   "source": [
    "## Inputs"
   ]
  },
  {
   "cell_type": "markdown",
   "id": "84b6fa28-2673-4529-b00c-cb6da31321fe",
   "metadata": {},
   "source": [
    "### Abundance change"
   ]
  },
  {
   "cell_type": "code",
   "execution_count": 4,
   "id": "8506c0fc-5fa7-4b26-8dc2-1480bdb7898d",
   "metadata": {},
   "outputs": [],
   "source": [
    "## abundance change pair-wise\n",
    "df01=read_table(abundance_change_path)\n",
    "df01.head(1)"
   ]
  },
  {
   "cell_type": "markdown",
   "id": "405ad1b9-c26c-4e86-b241-e8d761d15477",
   "metadata": {},
   "source": [
    "### Redistribution"
   ]
  },
  {
   "cell_type": "code",
   "execution_count": 5,
   "id": "689ac0a2-fce9-4566-85c4-3d4f63efe87d",
   "metadata": {},
   "outputs": [],
   "source": [
    "df02=read_table(\n",
    "    input_path,\n",
    ")\n",
    "df02.head(1)"
   ]
  },
  {
   "cell_type": "markdown",
   "id": "4627dadc-8284-4a02-8f7f-92fa5625feb2",
   "metadata": {},
   "source": [
    "### Relocalization"
   ]
  },
  {
   "cell_type": "code",
   "execution_count": 6,
   "id": "be45bdea-3bc9-4518-b02c-e8db18301950",
   "metadata": {},
   "outputs": [],
   "source": [
    "df03s={k: read_table(v) for k,v in relocalization_paths.items()}\n",
    "df03s['genes'].head(1)"
   ]
  },
  {
   "cell_type": "markdown",
   "id": "534eea49-b466-43c8-aaf2-0dab1fae826b",
   "metadata": {},
   "source": [
    "## Merge the abundance and distribution changes"
   ]
  },
  {
   "cell_type": "markdown",
   "id": "fbf996a0-7051-47b8-bd82-4dd4ac16d67d",
   "metadata": {},
   "source": [
    "### Gene-wise"
   ]
  },
  {
   "cell_type": "code",
   "execution_count": 7,
   "id": "2c23d104-80fa-465a-b43f-ddb5a4980c43",
   "metadata": {},
   "outputs": [],
   "source": [
    "df1=(df02.rename(columns={'gene symbol query':'gene symbol',},errors='raise')\n",
    "    .log.merge(\n",
    "        right=df01.rename(columns={'gene symbol query':'gene symbol',},errors='raise'),\n",
    "        on=[\n",
    "            'pairs',\n",
    "            'gene symbol',\n",
    "            'pairs',\n",
    "        ],\n",
    "        how='inner',\n",
    "        validate=\"1:1\",\n",
    "    )\n",
    "     ## map gene ids\n",
    "    .assign(\n",
    "     **{'gene id' : lambda df: df['gene symbol'].map(read_table(genes_path).rd.to_dict(['gene symbol','gene id'])),\n",
    "    },\n",
    "    )\n",
    "    )\n",
    "assert not df1['gene id'].isnull().any()\n",
    "info(df1['protein abundance change'].value_counts())\n",
    "df1.head(1)"
   ]
  },
  {
   "cell_type": "markdown",
   "id": "5093c40b-d52e-4e6c-b5d0-f74b0351419e",
   "metadata": {},
   "source": [
    "#### Map relocalization "
   ]
  },
  {
   "cell_type": "code",
   "execution_count": 8,
   "id": "b7d504bb-fafe-439c-8665-2b7c38566465",
   "metadata": {},
   "outputs": [],
   "source": [
    "## merge relocalization\n",
    "df1=df1.merge(\n",
    "    right=df03s['genes'],\n",
    "    on='gene symbol',\n",
    "    how='left',\n",
    "    validate=\"1:1\",\n",
    "    )\n",
    "info(df1['relocalization type'].value_counts())\n",
    "df1.head(1)"
   ]
  },
  {
   "cell_type": "code",
   "execution_count": 9,
   "id": "c4e7c2cc-e4b7-4cc1-ad18-def43a6756da",
   "metadata": {},
   "outputs": [],
   "source": [
    "to_table(df1,f'{output_dir_path}/00_genes.tsv')"
   ]
  },
  {
   "cell_type": "markdown",
   "id": "d635e8d6-1bb2-47a5-8ef5-1da8413f3db1",
   "metadata": {},
   "source": [
    "### Classify pairs"
   ]
  },
  {
   "cell_type": "code",
   "execution_count": 10,
   "id": "181376fe-f7d9-4163-920d-5798f2ef5f63",
   "metadata": {},
   "outputs": [],
   "source": [
    "df1['suffix']=df1.apply(lambda x: f\"gene{(x['pairs'].split('-')).index(x['gene symbol'])+1}\",axis=1)\n",
    "logging.warning(\"data is sorted by the 'pairs' column. i.e. gene1 is 1st gene in the `pairs` id.\")"
   ]
  },
  {
   "cell_type": "code",
   "execution_count": 11,
   "id": "918f889f-20f1-473f-8aa4-f8f30124b192",
   "metadata": {},
   "outputs": [],
   "source": [
    "assert not df1['suffix'].isnull().any()"
   ]
  },
  {
   "cell_type": "code",
   "execution_count": 12,
   "id": "0ea1fe8e-e2a1-4e73-a207-18a26213d5fa",
   "metadata": {},
   "outputs": [],
   "source": [
    "df2=(df1\n",
    "     .pivot(\n",
    "        index=['pairs'],\n",
    "        columns='suffix',\n",
    "        values=[\n",
    "            'gene symbol',\n",
    "            'protein abundance difference (DELTA-WT)',\n",
    "            'protein abundance change',\n",
    "            'redistribution score',\n",
    "            'redistribution',\n",
    "        ]\n",
    "     )\n",
    "    .rd.flatten_columns()\n",
    "    .reset_index())\n",
    "df2.head(1)"
   ]
  },
  {
   "cell_type": "code",
   "execution_count": 13,
   "id": "3f893c92-f653-496a-88b4-0402897d4149",
   "metadata": {},
   "outputs": [],
   "source": [
    "## classify the pairs\n",
    "from roux.stat.binary import classify_bools\n",
    "df2['redistribution']=df2.loc[:,['redistribution gene1','redistribution gene2']].apply(classify_bools,axis=1)\n",
    "from roux.stat.paired import get_stats_paired\n",
    "df3=get_stats_paired(\n",
    "    df2,\n",
    "    cols=[f'redistribution score gene1',f'redistribution score gene2'],\n",
    "    input_logscale=False,\n",
    "    prefix=None,\n",
    "    drop_cols=False,\n",
    "    unidirectional_stats=['min','max'],\n",
    "    fast=False\n",
    ")\n",
    "\n",
    "df3[\"protein abundance change paired\"]=(\n",
    "    df3\n",
    "    .loc[:,['protein abundance change gene1','protein abundance change gene2']]\n",
    "    .apply(lambda x: ' & '.join(np.unique([x['protein abundance change gene1'],\n",
    "                                           x['protein abundance change gene2']])),axis=1)\n",
    "                                                         )"
   ]
  },
  {
   "cell_type": "code",
   "execution_count": 14,
   "id": "7bea3d4d-daf0-44c7-8b3d-316753b26068",
   "metadata": {},
   "outputs": [],
   "source": [
    "df2.head(1)"
   ]
  },
  {
   "cell_type": "markdown",
   "id": "a317c5fb-f453-4c72-9f86-694e01734264",
   "metadata": {},
   "source": [
    "#### Map relocalization "
   ]
  },
  {
   "cell_type": "code",
   "execution_count": 15,
   "id": "1d229e37-b0d9-4332-8da6-d434553f8b79",
   "metadata": {},
   "outputs": [],
   "source": [
    "## merge relocalization\n",
    "df2=df2.merge(\n",
    "    right=df03s['pairs'],\n",
    "    on='pairs',\n",
    "    how='left',\n",
    "    validate=\"1:1\",\n",
    "    )\n",
    "info(df2['relocalization type'].value_counts())\n",
    "df2.head(1)"
   ]
  },
  {
   "cell_type": "code",
   "execution_count": 16,
   "id": "6e402a67-54db-4696-8ee8-05822026f678",
   "metadata": {},
   "outputs": [],
   "source": [
    "to_table(\n",
    "    df2,\n",
    "    output_path,\n",
    "    )"
   ]
  },
  {
   "cell_type": "markdown",
   "id": "a6c197d3-0d09-4368-926a-6e4788df96ae",
   "metadata": {},
   "source": [
    "## Stats"
   ]
  },
  {
   "cell_type": "markdown",
   "id": "80187dba-83c0-464a-ac80-eed4718fc182",
   "metadata": {},
   "source": [
    "### Gene-wise"
   ]
  },
  {
   "cell_type": "code",
   "execution_count": 18,
   "id": "2295cc0e-f30c-40bc-8aa5-d8a04bf9c05d",
   "metadata": {},
   "outputs": [],
   "source": [
    "for k in ['redistribution','protein abundance change','relocalization type']:\n",
    "    info(df1[k].value_counts())"
   ]
  },
  {
   "cell_type": "markdown",
   "id": "fccea7bf-be37-463a-a767-6dbad3e93730",
   "metadata": {},
   "source": [
    "### Pair-wise"
   ]
  },
  {
   "cell_type": "code",
   "execution_count": 17,
   "id": "7351d3c6-ea72-41f7-a5f7-2d76294b7174",
   "metadata": {},
   "outputs": [],
   "source": [
    "for k in ['redistribution','protein abundance change paired','relocalization type']:\n",
    "    info(df2[k].value_counts())"
   ]
  }
 ],
 "metadata": {
  "kernelspec": {
   "display_name": "yeast",
   "language": "python",
   "name": "yeast"
  },
  "language_info": {
   "codemirror_mode": {
    "name": "ipython",
    "version": 3
   },
   "file_extension": ".py",
   "mimetype": "text/x-python",
   "name": "python",
   "nbconvert_exporter": "python",
   "pygments_lexer": "ipython3",
   "version": "3.7.13"
  }
 },
 "nbformat": 4,
 "nbformat_minor": 5
}
