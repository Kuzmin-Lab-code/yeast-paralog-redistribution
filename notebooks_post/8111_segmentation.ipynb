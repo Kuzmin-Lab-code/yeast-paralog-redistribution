{
 "cells": [
  {
   "cell_type": "markdown",
   "id": "44e9e546-5279-44c2-98a0-2235e1fa0609",
   "metadata": {},
   "source": [
    "# Image segmentation\n",
    "\n",
    "Images are segmented using YeastSpotter [@Lu2019-wd]"
   ]
  },
  {
   "cell_type": "code",
   "execution_count": null,
   "id": "b9af8ddf-79bd-4be1-8a30-95157cfb3e86",
   "metadata": {},
   "outputs": [],
   "source": [
    "from glob import glob\n",
    "from os.path import dirname, basename, exists\n",
    "from shutil import copyfile\n",
    "from pathlib import Path"
   ]
  },
  {
   "cell_type": "code",
   "execution_count": null,
   "id": "39729037-2945-4638-a197-3aa0ed61e733",
   "metadata": {
    "tags": [
     "parameters"
    ]
   },
   "outputs": [],
   "source": [
    "## input parameters\n",
    "input_path=None\n",
    "output_path=None\n",
    "\n",
    "temp_dir_path=None #noqa\n",
    "clean=True"
   ]
  },
  {
   "cell_type": "code",
   "execution_count": null,
   "id": "c68f1062-18a4-4837-8046-2ffac2681dfb",
   "metadata": {
    "tags": []
   },
   "outputs": [],
   "source": [
    "## infer parameters\n",
    "if '*' in input_path:\n",
    "    input_path=glob(input_path)\n",
    "    print(len(input_path))\n",
    "assert isinstance(input_path, list)"
   ]
  },
  {
   "cell_type": "code",
   "execution_count": null,
   "id": "9ec7f7f1-3de8-4a8c-be6c-b0e961282276",
   "metadata": {
    "tags": []
   },
   "outputs": [],
   "source": [
    "import datetime\n",
    "time=datetime.datetime.now().strftime(\"%G%m%dT%H%M%S\")\n",
    "time"
   ]
  },
  {
   "cell_type": "code",
   "execution_count": null,
   "id": "4692b521-b7a2-49e7-8023-042dc30d819c",
   "metadata": {
    "tags": []
   },
   "outputs": [],
   "source": [
    "if temp_dir_path is None:\n",
    "    temp_dir_path=f'./test/yeast_segmentation/{time}/'"
   ]
  },
  {
   "cell_type": "code",
   "execution_count": null,
   "id": "6d891097-1718-4bc1-adc5-c1f3a1a912e0",
   "metadata": {
    "tags": []
   },
   "outputs": [],
   "source": [
    "if clean and exists(temp_dir_path):\n",
    "    _outd=f\"{Path(temp_dir_path).parent}/_{str(datetime.datetime.now())}\"\n",
    "    import shutil\n",
    "    shutil.move(temp_dir_path,_outd)\n",
    "    print('previous temp_dir_path moved to:',_outd)"
   ]
  },
  {
   "cell_type": "code",
   "execution_count": null,
   "id": "b6b3ec7c-2ebd-4036-bd2f-395fb7b75f85",
   "metadata": {
    "scrolled": true,
    "tags": []
   },
   "outputs": [],
   "source": [
    "import sys\n",
    "sys.path.append('../deps/yeast_segmentation/')\n",
    "from run import batch\n",
    "output_paths=batch(\n",
    "    input_directory=f'{temp_dir_path}/input/', # temporary directory to store intermediate files #noqa\n",
    "    output_directory=f'{temp_dir_path}/output/', # temporary directory to store intermediate files #noqa\n",
    "    brightps=input_path,\n",
    "    test=False,\n",
    "    scale_factor=2,\n",
    "    rescale=True,\n",
    "    save_preprocessed=False,\n",
    "    )"
   ]
  },
  {
   "cell_type": "code",
   "execution_count": null,
   "id": "eb63d0f3-5a7a-4874-9cbe-609cc3b95dd0",
   "metadata": {
    "scrolled": true,
    "tags": []
   },
   "outputs": [],
   "source": [
    "print(len(output_paths))\n",
    "output_paths"
   ]
  },
  {
   "cell_type": "code",
   "execution_count": null,
   "id": "fe323fb9-781d-4027-8339-be4ec7be1516",
   "metadata": {
    "tags": []
   },
   "outputs": [],
   "source": [
    "import json\n",
    "with open(output_path, \"w\") as f:\n",
    "    json.dump(output_paths,f)"
   ]
  },
  {
   "cell_type": "code",
   "execution_count": null,
   "id": "afe2efac-7503-4e32-b4d0-0834aa64c734",
   "metadata": {
    "tags": []
   },
   "outputs": [],
   "source": [
    "assert exists(output_paths[list(output_paths.keys())[0]][0]), output_paths[list(output_paths.keys())[0]][0]\n",
    "assert exists(output_paths[list(output_paths.keys())[0]][1]), output_paths[list(output_paths.keys())[0]][1]"
   ]
  }
 ],
 "metadata": {
  "kernelspec": {
   "display_name": "yeast_segmentation",
   "language": "python",
   "name": "yeast_segmentation"
  },
  "language_info": {
   "codemirror_mode": {
    "name": "ipython",
    "version": 3
   },
   "file_extension": ".py",
   "mimetype": "text/x-python",
   "name": "python",
   "nbconvert_exporter": "python",
   "pygments_lexer": "ipython3",
   "version": "3.6.15"
  }
 },
 "nbformat": 4,
 "nbformat_minor": 5
}
