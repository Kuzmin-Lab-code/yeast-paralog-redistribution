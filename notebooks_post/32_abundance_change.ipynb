{
 "cells": [
  {
   "cell_type": "markdown",
   "id": "0a0aa6c2-890b-4141-9b28-ad3de72fcc94",
   "metadata": {},
   "source": [
    "# Relative abundance changes\n",
    "\n",
    "Single cell protein abundances are compared between WT and deletion backgrounds to calculate the relative protein abundances."
   ]
  },
  {
   "cell_type": "code",
   "execution_count": 1,
   "id": "4ec552f1-7e8d-47d6-9eb6-d4cf6e50066d",
   "metadata": {},
   "outputs": [],
   "source": [
    "## logging functions\n",
    "import logging\n",
    "## system functions\n",
    "from os.path import dirname\n",
    "from os.path import splitext\n",
    "import sys\n",
    "## system functions from roux\n",
    "from roux.lib.io import backup\n",
    "from roux.lib.io import read_table\n",
    "## workflow functions from roux\n",
    "from roux.workflow.io import read_metadata\n",
    "sys.path.append('..')"
   ]
  },
  {
   "cell_type": "code",
   "execution_count": 2,
   "id": "0204fa94-8c3e-4ed6-9d23-2a49e196dacc",
   "metadata": {},
   "outputs": [],
   "source": [
    "## parameters\n",
    "metadata_path='../config/metadata.yaml'\n",
    "kernel=None\n",
    "force=False\n",
    "test=True"
   ]
  },
  {
   "cell_type": "code",
   "execution_count": 3,
   "id": "7c357f41-0708-4195-9ba9-81db22f4ba89",
   "metadata": {},
   "outputs": [],
   "source": [
    "## inferred parameters\n",
    "metadata=read_metadata(metadata_path,inputs=None if not test else {'version':{'number':'test'}},)\n",
    "metadata['dataset']=read_metadata(metadata['dataset_config_path'],config_base=dict(species_name=metadata['species_name'],path=metadata['dataset_path'],),)\n",
    "### output\n",
    "output_dir_path=metadata['processed']['abundance']+'abundance_change'\n",
    "logging.info(f\"Output directory: {output_dir_path}\")\n",
    "## backup old files if overwriting (force is True)\n",
    "if force: backup(output_dir_path,dirname(output_dir_path),test=not force,)\n",
    "## misc.\n",
    "if kernel is None:\n",
    "    kernel=metadata['kernels']['default']"
   ]
  },
  {
   "cell_type": "markdown",
   "id": "1dad63c0-4d42-4d4c-9928-37f2d3ed3a53",
   "metadata": {},
   "source": [
    "## Calculate the relative change in abundance"
   ]
  },
  {
   "cell_type": "code",
   "execution_count": 4,
   "id": "6eb85a33-f830-4ea2-b529-6befccf02bed",
   "metadata": {},
   "outputs": [],
   "source": [
    "parameters_list=[]\n",
    "for k in ['paralogs','controls']:\n",
    "    parameters_list.append(\n",
    "        dict(\n",
    "            ## parameters\n",
    "            input_path=metadata['abundance']['cells'][k],\n",
    "            output_path=metadata['abundance_change']['genes'][k],\n",
    "            column_abundance='protein abundance',\n",
    "            # columns in the table to groupby with. e.g. gene or gene and replicate\n",
    "            columns_groupby=[\n",
    "             'pairs',\n",
    "             'gene symbol query',\n",
    "            ],\n",
    "            cutoff_qvalue=metadata['processed']['settings']['max_q_abundance_change']['value'], # cutoff to be applied on the p-values associated with the abundance changes\n",
    "            cutoff_pvalue=None, # cutoff to be applied on the p-values associated with the abundance changes\n",
    "            cutoff_log_fold_change=metadata['processed']['settings']['min_abundance_change_lfc']['value'], # cutoff to be applied on the log-fold-change scores\n",
    "    ))"
   ]
  },
  {
   "cell_type": "code",
   "execution_count": 6,
   "id": "f8b627c4-9cf9-4d8d-85cb-dadc73bc13eb",
   "metadata": {},
   "outputs": [],
   "source": [
    "from roux.workflow.task import run_tasks\n",
    "_=run_tasks(\n",
    "    input_notebook_path='32_script_abundance_change.ipynb',\n",
    "    kernel=kernel,\n",
    "    parameters_list=parameters_list,\n",
    "    force=True,\n",
    "   )"
   ]
  },
  {
   "cell_type": "markdown",
   "id": "4bbacfa2-d7a5-42e8-ba91-a158cf325d31",
   "metadata": {},
   "source": [
    "## Plots"
   ]
  },
  {
   "cell_type": "markdown",
   "id": "fd33e514-1f19-4dc1-bac4-ba7cb8105339",
   "metadata": {},
   "source": [
    "### Bar plots to show the gene-wise abundances and differences"
   ]
  },
  {
   "cell_type": "code",
   "execution_count": 6,
   "id": "7b369f25-ba8f-4bf0-9412-26c4c77236d8",
   "metadata": {},
   "outputs": [],
   "source": [
    "%reset_selective -f \"^df.*\""
   ]
  },
  {
   "cell_type": "code",
   "execution_count": 7,
   "id": "f121d326-7872-4ac3-bfa2-f02029aa7cbf",
   "metadata": {},
   "outputs": [],
   "source": [
    "## Relative abundance change\n",
    "df01=read_table(metadata['abundance_change'])\n",
    "df01.head(1)"
   ]
  },
  {
   "cell_type": "code",
   "execution_count": 11,
   "id": "1c6373c3-2615-4c7d-92e9-f631ec53fae9",
   "metadata": {},
   "outputs": [],
   "source": [
    "df1=df01.query(expr=\"`pairs sorted` == 'CUE1-CUE4'\")"
   ]
  },
  {
   "cell_type": "code",
   "execution_count": null,
   "id": "f25a4711-c5b2-45ba-b0e5-a9df22c99ff1",
   "metadata": {
    "scrolled": true,
    "tags": []
   },
   "outputs": [],
   "source": [
    "from modules.tools.plot import plot_relative_abundance_change\n",
    "(df01\n",
    ".groupby('pairs sorted')\n",
    ".progress_apply(lambda df: \n",
    "plot_relative_abundance_change(\n",
    "    df,\n",
    "    outp=splitext(metadata['abundance_change'])[0]+f\"_plots/{df.name}\",\n",
    ")\n",
    ")\n",
    ")"
   ]
  }
 ],
 "metadata": {
  "kernelspec": {
   "display_name": "yeast",
   "language": "python",
   "name": "yeast"
  },
  "language_info": {
   "codemirror_mode": {
    "name": "ipython",
    "version": 3
   },
   "file_extension": ".py",
   "mimetype": "text/x-python",
   "name": "python",
   "nbconvert_exporter": "python",
   "pygments_lexer": "ipython3",
   "version": "3.7.13"
  }
 },
 "nbformat": 4,
 "nbformat_minor": 5
}
