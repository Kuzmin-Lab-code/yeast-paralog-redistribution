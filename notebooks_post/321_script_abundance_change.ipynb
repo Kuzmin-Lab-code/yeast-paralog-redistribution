{
 "cells": [
  {
   "cell_type": "markdown",
   "id": "1aa3fd4e-c97b-4517-b08b-f66bca9f803a",
   "metadata": {},
   "source": [
    "# Measuring relative protein abundance changes\n",
    "\n",
    "Relative protein abundance changes are caluculated and the proteins are classified based on the statistical significance of the change."
   ]
  },
  {
   "cell_type": "code",
   "execution_count": 1,
   "id": "78a084ba-405f-4077-92d4-4bbc4cb71ca9",
   "metadata": {
    "tags": []
   },
   "outputs": [],
   "source": [
    "## logging functions\n",
    "from icecream import ic as info\n",
    "import logging\n",
    "## data functions\n",
    "import pandas as pd\n",
    "## system functions\n",
    "from os.path import splitext\n",
    "import sys\n",
    "## system functions from roux\n",
    "from roux.lib.io import read_table\n",
    "## data functions from roux\n",
    "import roux.lib.dfs as rd # attributes\n",
    "sys.path.append('..')"
   ]
  },
  {
   "cell_type": "code",
   "execution_count": 40,
   "id": "c6cf54b9-5026-4160-90c6-3ffc77fc77bd",
   "metadata": {
    "tags": [
     "parameters"
    ]
   },
   "outputs": [],
   "source": [
    "## parameters\n",
    "input_path=None\n",
    "output_path=None\n",
    "column_abundance=None\n",
    "# columns in the table to groupby with. e.g. gene or gene and replicate\n",
    "columns_groupby=[\n",
    " 'pairs',\n",
    " 'gene symbol query',\n",
    " 'pairs',\n",
    " 'genes id',\n",
    "]\n",
    "cutoff_qvalue=None # cutoff to be applied on the p-values associated with the abundance changes\n",
    "cutoff_pvalue=None # cutoff to be applied on the p-values associated with the abundance changes\n",
    "cutoff_log_fold_change=None # cutoff to be applied on the log-fold-change scores\n",
    "\n",
    "col_value='protein abundance difference (DELTA-WT)'"
   ]
  },
  {
   "cell_type": "code",
   "execution_count": null,
   "id": "dae9cd5e-d032-4b97-bb86-58d008a60000",
   "metadata": {},
   "outputs": [],
   "source": [
    "## parameters inferred\n",
    "output_dir_path=dirname(output_path)\n",
    "output_plots_dir_path=f\"{splitext(output_path)[0]}_plots/\"\n",
    "logging.info(output_path)"
   ]
  },
  {
   "cell_type": "code",
   "execution_count": null,
   "id": "874d9278-cf19-4cc5-b0f4-1326633f6c84",
   "metadata": {},
   "outputs": [],
   "source": [
    "## validate parameters\n",
    "assert not 'log' in column_abundance"
   ]
  },
  {
   "cell_type": "markdown",
   "id": "e64d3de1-5dc3-435e-8b50-df3661f233a9",
   "metadata": {},
   "source": [
    "## Abundance change"
   ]
  },
  {
   "cell_type": "code",
   "execution_count": 4,
   "id": "1bb2e8be-23b8-4b50-bd9d-4426cbc5ebcc",
   "metadata": {},
   "outputs": [],
   "source": [
    "## abundance by cell\n",
    "df01=read_table(input_path)\n",
    "df01.head(1)"
   ]
  },
  {
   "cell_type": "code",
   "execution_count": 7,
   "id": "0dc33ef4-0f0a-492b-82d3-4c79e1647b60",
   "metadata": {},
   "outputs": [],
   "source": [
    "assert df01['gene symbol query'].nunique()==df01.groupby(columns_groupby).ngroups, \"the difference should be gene-wise\""
   ]
  },
  {
   "cell_type": "code",
   "execution_count": 8,
   "id": "79f90e68-f7cd-43df-96ba-945268926c86",
   "metadata": {},
   "outputs": [],
   "source": [
    "from roux.stat.transform import plog\n",
    "df01[column_abundance+' (log2 scale)']=df01[column_abundance].apply(lambda x: plog(x,base=2,p=1))"
   ]
  },
  {
   "cell_type": "code",
   "execution_count": 9,
   "id": "ed575e92-7c6e-4183-974f-3fc477b00633",
   "metadata": {},
   "outputs": [],
   "source": [
    "## calculate difference \n",
    "## between abundance when partner's status is DELTA and when partner's status is WT \n",
    "from roux.stat.diff import get_stats_groupby\n",
    "df1=get_stats_groupby(\n",
    "    df1=df01,\n",
    "    cols_group=columns_groupby,\n",
    "    cols_value=[column_abundance+' (log2 scale)'], \n",
    "    coff_p=cutoff_pvalue,\n",
    "    coff_q=cutoff_qvalue,\n",
    "    colsubset='status partner',\n",
    "    colindex=['image id'], ## index for individual values\n",
    "    subsets=['DELTA','WT'],\n",
    "         )\n",
    "df1.head(1)"
   ]
  },
  {
   "cell_type": "code",
   "execution_count": 11,
   "id": "af70035b-1da4-4aa3-a0ec-9e7346fcd46d",
   "metadata": {},
   "outputs": [],
   "source": [
    "## arrange the table\n",
    "df2=(df1\n",
    "    .drop(['subset1','subset2','variable',\n",
    "          'change',f'change is significant, P (MWU test) < {cutoff_pvalue}',\n",
    "          ],axis=1)\n",
    "    .rd.dropby_patterns('median')\n",
    "    .rd.renameby_replace(df1.iloc[0,:][[\"subset1\",\"subset2\"]].to_dict())\n",
    "    .rd.renameby_replace({'len ':'n '})\n",
    "    .rename(columns={'difference between mean (DELTA-WT)':col_value},errors='raise')\n",
    "    .sort_values(col_value)\n",
    "    )\n",
    "info(df2[f'significant change, Q (MWU test) < {cutoff_qvalue}'].value_counts())\n",
    "df2.head(1)"
   ]
  },
  {
   "cell_type": "code",
   "execution_count": 12,
   "id": "ec0b2ccc-a14a-4f3e-bd0a-7285874977bd",
   "metadata": {},
   "outputs": [],
   "source": [
    "to_table(df2,f'{output_dir_path}/01_score.tsv')"
   ]
  },
  {
   "cell_type": "markdown",
   "id": "334fc045-8ef9-4c34-8d5d-d359dd05da12",
   "metadata": {},
   "source": [
    "### Classify abundance change"
   ]
  },
  {
   "cell_type": "code",
   "execution_count": 16,
   "id": "f7dc841b-c1b9-4bad-802b-c422e21e9f39",
   "metadata": {},
   "outputs": [],
   "source": [
    "df2['protein abundance change']=df2.apply(lambda x: x[f'significant change, Q (MWU test) < {cutoff_qvalue}'] \\\n",
    "                                          if abs(x[col_value])>=cutoff_log_fold_change else \\\n",
    "                                          'ns',axis=1)\n",
    "logging.info(df2['protein abundance change'].value_counts())"
   ]
  },
  {
   "cell_type": "code",
   "execution_count": 17,
   "id": "ce54fd8d-747d-4de8-b47f-364cb7ee41c0",
   "metadata": {},
   "outputs": [],
   "source": [
    "logging.info(f\"-> change in classification because of te cutoff on |LFC| at {cutoff_log_fold_change}\")\n",
    "logging.info(pd.crosstab(df2['protein abundance change'],df2[f'significant change, Q (MWU test) < {cutoff_qvalue}']))"
   ]
  },
  {
   "cell_type": "code",
   "execution_count": 18,
   "id": "e26c7ae0-5b53-462c-9096-c5cad2ce29cc",
   "metadata": {},
   "outputs": [],
   "source": [
    "to_table(df2,\n",
    "         output_path,\n",
    "        )"
   ]
  },
  {
   "cell_type": "code",
   "execution_count": 19,
   "id": "8aedf5a6-fdf4-4137-a016-88fc0ac87e4c",
   "metadata": {},
   "outputs": [],
   "source": [
    "df2.head(1)"
   ]
  },
  {
   "cell_type": "markdown",
   "id": "84de12e9-f63a-4abd-b550-a8bce47eed58",
   "metadata": {},
   "source": [
    "## Plot\n",
    "### Distribution"
   ]
  },
  {
   "cell_type": "code",
   "execution_count": 23,
   "id": "62b598cc-8a0e-4de5-a107-133022ee7d17",
   "metadata": {},
   "outputs": [],
   "source": [
    "ax=df2[col_value].hist(bins=30)\n",
    "to_plot(prefix=output_plots_dir_path+'/hist_',plotp=ax)"
   ]
  },
  {
   "cell_type": "markdown",
   "id": "b41f576e-7665-4624-ae13-38fd61165a27",
   "metadata": {},
   "source": [
    "### Volcano plot"
   ]
  },
  {
   "cell_type": "code",
   "execution_count": 2,
   "id": "f5956244-76dc-4105-903b-732b9156fbba",
   "metadata": {},
   "outputs": [],
   "source": [
    "from modules.tools.plot import volcano_abundance_change\n",
    "ax=volcano_abundance_change(\n",
    "        data=df2,\n",
    "        colx=col_value,\n",
    "        highlight=3,\n",
    "        palette=[\n",
    "            'orange',\n",
    "            'b',\n",
    "            'gray',\n",
    "        ],\n",
    "        verbose=False,\n",
    "        col_text='gene symbol query',\n",
    "        )\n",
    "to_plot(prefix=output_plots_dir_path+'/volcano_',plotp=ax)"
   ]
  }
 ],
 "metadata": {
  "kernelspec": {
   "display_name": "yeast",
   "language": "python",
   "name": "yeast"
  },
  "language_info": {
   "codemirror_mode": {
    "name": "ipython",
    "version": 3
   },
   "file_extension": ".py",
   "mimetype": "text/x-python",
   "name": "python",
   "nbconvert_exporter": "python",
   "pygments_lexer": "ipython3",
   "version": "3.7.13"
  },
  "toc-showtags": false
 },
 "nbformat": 4,
 "nbformat_minor": 5
}
