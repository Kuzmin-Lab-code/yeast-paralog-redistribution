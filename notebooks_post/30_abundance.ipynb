{
 "cells": [
  {
   "cell_type": "markdown",
   "id": "f9a7c3a9-15e0-4b48-89df-cc05df5c21b8",
   "metadata": {},
   "source": [
    "# Single cell protein abundances\n",
    "\n",
    "Single cell protein abundances are calculated and compared with the standard."
   ]
  },
  {
   "cell_type": "code",
   "execution_count": 2,
   "id": "762fe69b-ae8b-4038-be02-8adbb1eae675",
   "metadata": {},
   "outputs": [],
   "source": [
    "## logging functions\n",
    "from icecream import ic as info\n",
    "import logging\n",
    "## system functions\n",
    "from os.path import dirname\n",
    "import sys\n",
    "## system functions from roux\n",
    "from roux.lib.io import backup\n",
    "from IPython.display import Markdown as info_nb\n",
    "from roux.lib.io import read_table\n",
    "## visualization functions from roux\n",
    "from roux.viz.io import begin_plot\n",
    "## data functions from roux\n",
    "import roux.lib.dfs as rd # attributes\n",
    "sys.path.append('..')"
   ]
  },
  {
   "cell_type": "code",
   "execution_count": 2,
   "id": "e855eb2b-f57b-4bd1-b6a8-e3182f8081e1",
   "metadata": {},
   "outputs": [],
   "source": [
    "## parameters\n",
    "metadata_path='../config/metadata.yaml'\n",
    "kernel=None\n",
    "force=False\n",
    "test=True"
   ]
  },
  {
   "cell_type": "code",
   "execution_count": 3,
   "id": "1dd009eb-37ee-44fd-9185-2269b9cf29be",
   "metadata": {},
   "outputs": [],
   "source": [
    "## inferred parameters\n",
    "metadata=read_metadata(metadata_path,inputs=None if not test else {'version':{'number':'test'}},)\n",
    "metadata['dataset']=read_metadata(metadata['dataset_config_path'],config_base=dict(species_name=metadata['species_name'],path=metadata['dataset_path'],),)\n",
    "### output\n",
    "output_dir_path=metadata['processed']['abundance']+'abundance'\n",
    "logging.info(f\"Output directory: {output_dir_path}\")\n",
    "## backup old files if overwriting (force is True)\n",
    "if force: backup(output_dir_path,dirname(output_dir_path),test=not force,)\n",
    "## misc.\n",
    "if kernel is None:\n",
    "    kernel=metadata['kernels']['default']"
   ]
  },
  {
   "cell_type": "code",
   "execution_count": 3,
   "id": "155f9958-ad80-460f-a21f-48e81833d300",
   "metadata": {},
   "outputs": [],
   "source": [
    "## common functions\n",
    "from modules.tools.query import get_wt_protein_abundance\n",
    "## common maps\n",
    "to_gene_ids=read_table(metadata['ids']['genes']).rd.to_dict(['gene symbol','gene id'])"
   ]
  },
  {
   "cell_type": "markdown",
   "id": "ce41ce0d-b831-41f4-970b-4c60a860de14",
   "metadata": {},
   "source": [
    "## Abundance"
   ]
  },
  {
   "cell_type": "markdown",
   "id": "590153b7-cdcd-4bd3-8939-63e43f29bf35",
   "metadata": {},
   "source": [
    "### Processing"
   ]
  },
  {
   "cell_type": "code",
   "execution_count": 16,
   "id": "6b7b1aa5-e96f-49f8-b3a7-a052df200e69",
   "metadata": {},
   "outputs": [],
   "source": [
    "parameters_list=[]\n",
    "for k in ['paralogs','controls']:\n",
    "    parameters_list.append(\n",
    "        dict(\n",
    "        input_path=metadata['metainfo']['filtered'][k],\n",
    "        output_path=metadata['abundance']['genes'][k],\n",
    "        )\n",
    "    )\n",
    "parameters_list"
   ]
  },
  {
   "cell_type": "code",
   "execution_count": 17,
   "id": "0e7193b9-c407-41bf-8dd3-62596fd04766",
   "metadata": {},
   "outputs": [],
   "source": [
    "from roux.workflow.task import run_tasks\n",
    "_=run_tasks(\n",
    "    input_notebook_path='31_script_abundance_curation.ipynb',\n",
    "    kernel=kernel,\n",
    "    parameters_list=parameters_list,\n",
    "    )"
   ]
  },
  {
   "cell_type": "markdown",
   "id": "d32c02e6-88c4-47d6-9361-0679efa19c67",
   "metadata": {},
   "source": [
    "## Correlation with known standard [@Ho2018-fw]"
   ]
  },
  {
   "cell_type": "code",
   "execution_count": 4,
   "id": "ab25710c-03d5-4b07-96c2-619557c56beb",
   "metadata": {},
   "outputs": [],
   "source": [
    "## read data\n",
    "df01=read_table(metadata['abundance']['genes']['paralogs'])\n",
    "df1=get_wt_protein_abundance(df01,to_gene_ids=to_gene_ids)\n",
    "df1.head(1)"
   ]
  },
  {
   "cell_type": "markdown",
   "id": "4ce0e497-eff1-4610-9af0-b3a9aea022bd",
   "metadata": {},
   "source": [
    "### Non-expressed genes"
   ]
  },
  {
   "cell_type": "code",
   "execution_count": 6,
   "id": "55e830a0-ea5b-45ea-9bd1-519063470ce7",
   "metadata": {},
   "outputs": [],
   "source": [
    "from roux.lib.io import read_excel"
   ]
  },
  {
   "cell_type": "code",
   "execution_count": 7,
   "id": "1b0857db-ad77-41ac-9899-81b406442910",
   "metadata": {},
   "outputs": [],
   "source": [
    "## read Ho et al data: classifications of the non-expressed genes\n",
    "genes_ids_nonexpressed=read_excel(\n",
    "    f\"{metadata['dataset']['external']['path']}/2018_Ho_et_al/1-s2.0-S240547121730546X-mmc6.xlsx\",\n",
    "    sheet_name='Table S5',\n",
    "    header=2).log.dropna(subset=['Qualifier a'])['Systematic Name'].unique().tolist()\n",
    "info(len(genes_ids_nonexpressed))"
   ]
  },
  {
   "cell_type": "code",
   "execution_count": 8,
   "id": "94c95c71-411e-47cd-8fc3-2116059dace7",
   "metadata": {},
   "outputs": [],
   "source": [
    "### overlap between the non-expresed and the paralogous genes\n",
    "assert len(set(genes_ids_nonexpressed) & set(df1['gene id'].tolist()))==0\n",
    "info_nb('No overlap between the non-expressed and the genes of the study.')"
   ]
  },
  {
   "cell_type": "markdown",
   "id": "423a25b1-a6be-48dd-b8ed-82e596686720",
   "metadata": {},
   "source": [
    "### Molecules per cell"
   ]
  },
  {
   "cell_type": "code",
   "execution_count": 9,
   "id": "7e152abe-bce9-40e7-80f8-292da7e8fc8b",
   "metadata": {},
   "outputs": [],
   "source": [
    "df2=read_table(metadata['dataset']['external']['path']+'/2018_Ho_et_al/cleaned/mmc5_molecules_per_cell.tsv')\n",
    "df2.head(1)"
   ]
  },
  {
   "cell_type": "code",
   "execution_count": 10,
   "id": "974bcea2-3e97-468a-97cc-95afd163d3b8",
   "metadata": {},
   "outputs": [],
   "source": [
    "## genes filtered out because of the \n",
    "genes_absent=set(df1['gene id'].tolist()) - set(df2['gene id'].tolist())\n",
    "assert len(genes_absent)==0\n",
    "info_nb(f\"All the genes are present in Ho et al., 2018 data.\")"
   ]
  },
  {
   "cell_type": "code",
   "execution_count": 11,
   "id": "927d059c-7486-4b78-9aa7-c5c69d8a559c",
   "metadata": {},
   "outputs": [],
   "source": [
    "## genes filtered out because of the low intensity \n",
    "genes_filtered=set(df1['gene id'].tolist()) - set(df2['gene id'].tolist())\n",
    "assert len(genes_filtered)==0\n",
    "info_nb(f\"No genes were filtered out in Ho et al., 2018 due to low GFP.\")"
   ]
  },
  {
   "cell_type": "code",
   "execution_count": 13,
   "id": "593ce6f2-a066-4762-b11a-c51097965d4e",
   "metadata": {},
   "outputs": [],
   "source": [
    "## Merge\n",
    "df3=df1.log.merge(right=df2,\n",
    "             how='inner',\n",
    "             on=['gene id'],\n",
    "             validate=\"1:1\",\n",
    "            validate_equal_length=True,)\n",
    "\n",
    "df3.head(1)"
   ]
  },
  {
   "cell_type": "markdown",
   "id": "5f6cbdc6-05be-438e-8312-be4fe75e5a06",
   "metadata": {},
   "source": [
    "### Plot"
   ]
  },
  {
   "cell_type": "code",
   "execution_count": 14,
   "id": "ed8fb90c-583a-4862-98e6-c6cc0ac2634d",
   "metadata": {},
   "outputs": [],
   "source": [
    "## plot data\n",
    "data=df3.copy()\n",
    "assert not any(data['mean molecules per cell']<=0)\n",
    "data=data.rd.renameby_replace({'mean molecules per cell':'mean molecules per cell\\nHo et al. 2018'})\n",
    "data.head(1)"
   ]
  },
  {
   "cell_type": "code",
   "execution_count": 15,
   "id": "652b1fbc-fb86-4d47-be4d-ed56f44b4504",
   "metadata": {},
   "outputs": [],
   "source": [
    "## plot parameters\n",
    "kws_plot=dict(\n",
    "    x=metadata['abundance']['column'],\n",
    "    y='mean molecules per cell\\nHo et al. 2018',\n",
    "    ci=None,\n",
    "    order=1,\n",
    "    scatter_kws=dict(\n",
    "        alpha=0.5,\n",
    "    ),    \n",
    "    stat_kws=dict(loc=0,\n",
    "                resample = True,\n",
    "                ),    \n",
    ")"
   ]
  },
  {
   "cell_type": "code",
   "execution_count": 16,
   "id": "7ffea71b-b1da-48fa-a205-b867a87175c3",
   "metadata": {
    "scrolled": true,
    "tags": []
   },
   "outputs": [],
   "source": [
    "# plot\n",
    "begin_plot()\n",
    "fig,ax=plt.subplots(figsize=[2.5,2.5])\n",
    "from roux.viz.scatter import plot_scatter\n",
    "ax=plot_scatter(\n",
    "    data=data,\n",
    "    ax = ax,\n",
    "    **kws_plot,\n",
    ")\n",
    "ax.set(xscale='log',yscale='log',\n",
    "      )\n",
    "# save the plot\n",
    "to_plot(\n",
    "    plotp=str(Path(metadata['abundance']['genes']['paralogs']).with_suffix(''))+'_plots/scatter_protein_abundance_vs_mean molecules per cell Ho et al 2018',\n",
    "    fmts=['pdf','png'],\n",
    "    data=data, #source data\n",
    "    kws_plot=kws_plot,# plotting parameters\n",
    "    validate=True,\n",
    "    )"
   ]
  }
 ],
 "metadata": {
  "kernelspec": {
   "display_name": "yeast",
   "language": "python",
   "name": "yeast"
  },
  "language_info": {
   "codemirror_mode": {
    "name": "ipython",
    "version": 3
   },
   "file_extension": ".py",
   "mimetype": "text/x-python",
   "name": "python",
   "nbconvert_exporter": "python",
   "pygments_lexer": "ipython3",
   "version": "3.7.13"
  }
 },
 "nbformat": 4,
 "nbformat_minor": 5
}
