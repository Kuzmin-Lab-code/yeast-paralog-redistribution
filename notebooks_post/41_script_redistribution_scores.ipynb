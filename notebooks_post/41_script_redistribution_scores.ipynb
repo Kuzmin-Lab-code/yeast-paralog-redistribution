{
 "cells": [
  {
   "cell_type": "markdown",
   "id": "4399837b-b5e5-4e22-9b9a-82bf7fdb28dd",
   "metadata": {},
   "source": [
    "# Calculation of redistribution scores\n",
    "\n",
    "Euclidean distances between the centroid points of the extracted features are calculated."
   ]
  },
  {
   "cell_type": "code",
   "execution_count": null,
   "id": "9f89956e-2cd8-40f0-9cbb-9d067d01ac01",
   "metadata": {},
   "outputs": [],
   "source": [
    "## logging functions\n",
    "from icecream import ic as info\n",
    "import logging\n",
    "## data functions\n",
    "import itertools\n",
    "import numpy as np\n",
    "import pandas as pd\n",
    "## data functions from roux\n",
    "from roux.lib.set import flatten\n",
    "## system functions\n",
    "import sys\n",
    "import roux.lib.dfs as rd # attributes\n",
    "sys.path.append('../')"
   ]
  },
  {
   "cell_type": "code",
   "execution_count": 2,
   "id": "c8ea6e69-2c40-4896-99e6-c6daceac5369",
   "metadata": {
    "tags": [
     "parameters"
    ]
   },
   "outputs": [],
   "source": [
    "## parameters\n",
    "input_path=None\n",
    "output_path=None # f'{output_dir_path}/02_mapped_genes.tsv'\n",
    "\n",
    "input_type=None # features\n",
    "unit=None # replicates\n",
    "method_distance=None # \"euclidean\" # cosine\n",
    "\n",
    "pcs=None # number of pcs to use"
   ]
  },
  {
   "cell_type": "code",
   "execution_count": 3,
   "id": "0209f79a-37e5-46e2-85f1-7ecf482600f7",
   "metadata": {},
   "outputs": [],
   "source": [
    "## validate inputs\n",
    "method_distance=method_distance.lower()\n",
    "input_type=input_type.lower()\n",
    "\n",
    "assert input_type in ['features','pcs'], input_type\n",
    "assert input_type in input_path, f\"input_type ({input_type}) not found in input_path ({input_path}).\"\n",
    "assert unit in ['replicates','genes']\n",
    "## infer inputs and read the data\n",
    "if input_type=='pcs':\n",
    "    logging.warning(\"Features are favored over PCS for calulating the distances.\") \n",
    "output_dir_path=dirname(output_path)\n",
    "print(output_dir_path)\n",
    "output_plots_dir_path=f\"{splitext(output_path)[0]}_plots/\""
   ]
  },
  {
   "cell_type": "markdown",
   "id": "4629ca19-1701-4794-b02a-123f12eb9de9",
   "metadata": {},
   "source": [
    "## Redistribution score calculations"
   ]
  },
  {
   "cell_type": "markdown",
   "id": "f93c4ebf-8ce8-4e8c-a8b3-ada4fca9aacf",
   "metadata": {},
   "source": [
    "### Input data"
   ]
  },
  {
   "cell_type": "code",
   "execution_count": 4,
   "id": "8a0e3781-292f-4d74-bca8-fe7bde4a3c55",
   "metadata": {},
   "outputs": [],
   "source": [
    "df01=read_table(input_path,drop_index=True,)\n",
    "df01.head(1)"
   ]
  },
  {
   "cell_type": "code",
   "execution_count": 5,
   "id": "381f2042-7fdc-4388-a2c1-d3db6b274c18",
   "metadata": {},
   "outputs": [],
   "source": [
    "columns_index=[\n",
    "        'pairs',\n",
    "        ]\n",
    "columns_construct=['label common']"
   ]
  },
  {
   "cell_type": "code",
   "execution_count": 6,
   "id": "3e67b74d-d6c9-4546-9603-9da993172316",
   "metadata": {},
   "outputs": [],
   "source": [
    "if input_type=='features':\n",
    "    columns_value=df01.filter(like='feature #').columns.tolist()\n",
    "elif  input_type=='pcs':\n",
    "    columns_value=[f'PC #{i}' for i in range(1,pcs+1,1)]\n",
    "_=df01.rd.assert_dense(subset=columns_index+columns_construct+columns_value)"
   ]
  },
  {
   "cell_type": "code",
   "execution_count": 7,
   "id": "638e3939-017b-4ec0-ae63-50376e016822",
   "metadata": {},
   "outputs": [],
   "source": [
    "df1=df01.copy()\n",
    "# if test: to_table(df1,f'{output_dir_path}/inputs/df1.tsv')"
   ]
  },
  {
   "cell_type": "code",
   "execution_count": 8,
   "id": "9bb3af58-6c15-4fde-aac6-8e7abb997913",
   "metadata": {},
   "outputs": [],
   "source": [
    "assert all(df1.groupby('pairs')['label'].nunique()==4)\n",
    "assert df1['label common'].nunique()==4\n",
    "assert all(df1.groupby('pairs')['label common'].nunique()==4)\n",
    "df1['label common'].unique()"
   ]
  },
  {
   "cell_type": "markdown",
   "id": "62086f89-b79c-4f3a-87e0-1a4e9f25c555",
   "metadata": {},
   "source": [
    "### Centroids"
   ]
  },
  {
   "cell_type": "code",
   "execution_count": 9,
   "id": "c16c712f-da88-4a45-92a3-9c2596c0f12f",
   "metadata": {},
   "outputs": [],
   "source": [
    "def get_centroids(\n",
    "    df1,\n",
    "    cols_groupby,\n",
    "    ):\n",
    "    ## centroids\n",
    "    return (\n",
    "        df1\n",
    "        .log()\n",
    "        .groupby(cols_groupby).agg(\n",
    "                                {c:np.mean for c in columns_value}\n",
    "                            )\n",
    "        .reset_index()\n",
    "        .log('label common')\n",
    "        .log('pairs')\n",
    "        .log('pairs','label common')        \n",
    "    )\n",
    "df2=get_centroids(\n",
    "df1,\n",
    "cols_groupby=columns_index+['gene symbol query','gene symbol partner']+columns_construct+(['replicate'] if unit=='replicates' else [])\n",
    ")\n",
    "## save tables\n",
    "to_table(df2,f\"{output_dir_path}/00_centroids.tsv\")"
   ]
  },
  {
   "cell_type": "markdown",
   "id": "0f3e0d07-8f3b-40b0-b6fa-e320724ae71d",
   "metadata": {},
   "source": [
    "### Calculate the similarities (distances) between the features of the constructs"
   ]
  },
  {
   "cell_type": "markdown",
   "id": "894492dd-757c-491d-8e81-64099d8a707c",
   "metadata": {},
   "source": [
    "### Merge by common construct labels"
   ]
  },
  {
   "cell_type": "code",
   "execution_count": 10,
   "id": "1bf59810-b1d9-4975-890b-281586094f58",
   "metadata": {},
   "outputs": [],
   "source": [
    "## comparison types\n",
    "df0=(pd.DataFrame(\n",
    "    [list(sorted(t))+[' and '.join(list(sorted(t)))] for t in itertools.combinations(df2['label common'].unique().tolist(),2)],\n",
    "    columns=['label common construct1','label common construct2','distance between',],\n",
    "    )\n",
    "    .sort_values('distance between')\n",
    "    .reset_index(drop=True)\n",
    "    )\n",
    "df0"
   ]
  },
  {
   "cell_type": "code",
   "execution_count": 11,
   "id": "17e59dc2-f214-49a4-9c7c-a74fa3f9d0d5",
   "metadata": {},
   "outputs": [],
   "source": [
    "def merge_by_comparison(\n",
    "    df0_: pd.DataFrame,\n",
    "    df1: pd.DataFrame,\n",
    "    right_ons_common,\n",
    "    test=False,\n",
    "    )-> pd.DataFrame:\n",
    "    \n",
    "    labels_common=df0_[['label common construct1','label common construct2']].values[0].tolist()\n",
    "    if test: info(labels_common)\n",
    "    def get_gene_symbol_for_merging(x,label1,label2):\n",
    "        if label1.split('-')[0]!=label2.split('-')[0]:\n",
    "            ## different queries e.g. gene1 - gene2\n",
    "            ### for calculating distances from the partner\n",
    "            if label1.split('-')[-1]!=label2.split('-')[-1]:\n",
    "                ##  e.g. gene1-GFP gene2-DELTA gene2-GFP gene1-WT\n",
    "                return x['gene symbol partner'] if x['label common'].endswith('-WT') else x['gene symbol query']\n",
    "            else:\n",
    "                ##  e.g. gene1-GFP gene2-WT gene2-GFP gene1-WT\n",
    "                return x['gene symbol partner'] if x['label common'].startswith('gene2-') else x['gene symbol query']                \n",
    "        else:\n",
    "            ## same queries e.g. gene1 - gene1\n",
    "            ## redistribution e.g. gene1-GFP gene2-DELTA\tgene1-GFP gene2-WT\n",
    "            return x['gene symbol query']\n",
    "    df1=(df1\n",
    "        .query(\"`label common` in @labels_common\")\n",
    "        .assign(\n",
    "            **{\n",
    "                ## for calculating distances from the partner \n",
    "                'gene symbol for merging':lambda df: df.apply(lambda x: get_gene_symbol_for_merging(x,labels_common[0],labels_common[1]),axis=1),\n",
    "            }\n",
    "            )\n",
    "         .rd.assert_no_dups(['label common']+right_ons_common)\n",
    "        )\n",
    "\n",
    "    assert df1['label common'].nunique()==2\n",
    "\n",
    "    df1.head(1)\n",
    "\n",
    "    df2=(\n",
    "        df0_\n",
    "        .rd.merge_paired(df1,\n",
    "            left_ons=[\n",
    "                'label common construct1',\n",
    "                'label common construct2',\n",
    "                ],\n",
    "            right_on=['label common'],\n",
    "            common=[],\n",
    "            right_ons_common=right_ons_common,\n",
    "            how='inner',\n",
    "            validates=['1:m', '1:1'],\n",
    "            suffixes=None,\n",
    "            test=False,\n",
    "            verb=True,\n",
    "            # **kws,\n",
    "        )\n",
    "        )\n",
    "    return df2\n",
    "## merged\n",
    "df3=(\n",
    "    df0\n",
    "    .groupby('distance between',as_index=False)\n",
    "    .apply(\n",
    "        lambda df: merge_by_comparison(\n",
    "        df0_=df,\n",
    "        df1=df2,\n",
    "        right_ons_common=columns_index+['gene symbol for merging']+(['replicate'] if unit=='replicates' else []),\n",
    "        test=False\n",
    "        )\n",
    "    )\n",
    "    .reset_index(drop=True)\n",
    "    .log.dropna(subset=['distance between']) ## one-directional merged i.e. either `label common construct1` or `label common construct2`.\n",
    "    .log.dropna(subset=flatten([[f'{s} construct1',f'{s} construct2'] for s in columns_value])) ## one-directional merged i.e. either `label common construct1` or `label common construct2`.\n",
    "    .log('distance between')\n",
    "    .log('pairs')\n",
    "    .log('pairs','distance between')            \n",
    ")\n",
    "df3.head(1)"
   ]
  },
  {
   "cell_type": "code",
   "execution_count": 12,
   "id": "daa58ac7-b2d7-4230-b7db-9bf54b3b1f9a",
   "metadata": {},
   "outputs": [],
   "source": [
    "to_table(df3,f\"{output_dir_path}/01_merged.tsv\")"
   ]
  },
  {
   "cell_type": "markdown",
   "id": "2026cf00-0f81-466d-9174-51e48de499b0",
   "metadata": {},
   "source": [
    "### Distances"
   ]
  },
  {
   "cell_type": "code",
   "execution_count": 13,
   "id": "14af4d6d-f40b-4caa-a018-a10a5c950e37",
   "metadata": {},
   "outputs": [],
   "source": [
    "## distances\n",
    "from scipy.spatial import distance\n",
    "get_distance=getattr(distance,method_distance)\n",
    "df3[f'{method_distance} distance']=df3.apply(lambda x: get_distance([x[f'{s} construct1'] for s in columns_value],\n",
    "                                              [x[f'{s} construct2'] for s in columns_value],\n",
    "                                             ),axis=1)"
   ]
  },
  {
   "cell_type": "code",
   "execution_count": 14,
   "id": "ace54777-07a5-4099-bb99-dc7b79d0f57a",
   "metadata": {},
   "outputs": [],
   "source": [
    "df3.head(1)"
   ]
  },
  {
   "cell_type": "code",
   "execution_count": 15,
   "id": "65b17b71-c4c7-45c3-ad02-1a1e19bf0849",
   "metadata": {},
   "outputs": [],
   "source": [
    "to_table(df3,f\"{output_dir_path}/02_distances.tsv\")"
   ]
  },
  {
   "cell_type": "markdown",
   "id": "11fca3c2-503c-4ccc-bd82-64d8b4c1ce51",
   "metadata": {},
   "source": [
    "### Small file"
   ]
  },
  {
   "cell_type": "code",
   "execution_count": 16,
   "id": "034604de-9808-4bb0-8f91-452b6a86160a",
   "metadata": {},
   "outputs": [],
   "source": [
    "## small file\n",
    "df3=(\n",
    "    df3\n",
    "    .drop(flatten([[f'{s} construct1',f'{s} construct2'] for s in columns_value]),axis=1)\n",
    ")\n",
    "to_table(df3,\n",
    "            output_path,\n",
    "           )      \n",
    "df3.head(1)"
   ]
  }
 ],
 "metadata": {
  "kernelspec": {
   "display_name": "yeast",
   "language": "python",
   "name": "yeast"
  },
  "language_info": {
   "codemirror_mode": {
    "name": "ipython",
    "version": 3
   },
   "file_extension": ".py",
   "mimetype": "text/x-python",
   "name": "python",
   "nbconvert_exporter": "python",
   "pygments_lexer": "ipython3",
   "version": "3.7.13"
  }
 },
 "nbformat": 4,
 "nbformat_minor": 5
}
