{
 "cells": [
  {
   "cell_type": "markdown",
   "id": "a40b5710-36cf-47fa-b926-f8564e85fbe4",
   "metadata": {},
   "source": [
    "# Filtering of features\n",
    "\n",
    "Using the `metainfo` of the pre-processed data to filter the features. "
   ]
  },
  {
   "cell_type": "code",
   "execution_count": 1,
   "id": "baec3600-8284-428e-8a71-7fcef6bd0769",
   "metadata": {},
   "outputs": [],
   "source": [
    "## system functions from roux\n",
    "from roux.lib.sys import read_ps\n",
    "from roux.lib.io import read_table\n",
    "from roux.lib.io import to_table\n",
    "## data functions from roux\n",
    "import roux.lib.dfs as rd # attributes"
   ]
  },
  {
   "cell_type": "code",
   "execution_count": null,
   "id": "52eee57c-f4ac-4773-811d-118dbcf9eb45",
   "metadata": {
    "tags": [
     "parameters"
    ]
   },
   "outputs": [],
   "source": [
    "## parameters\n",
    "input_path=None#metadata['metainfo']['filtered']['paralogs']\n",
    "output_path=None#metadata['features']['filtered']['paralogs']\n",
    "feature_paths=None#f\"{metadata['pre_processed']['features']['path']}/*.csv\""
   ]
  },
  {
   "cell_type": "markdown",
   "id": "e59b1040-e823-45de-99dc-dab0ba54b12c",
   "metadata": {},
   "source": [
    "### Metainfo"
   ]
  },
  {
   "cell_type": "code",
   "execution_count": null,
   "id": "baff68cf-95aa-49ce-8591-3ba8ece29226",
   "metadata": {},
   "outputs": [],
   "source": [
    "df00=read_table(input_path)\n",
    "df00.head(1)"
   ]
  },
  {
   "cell_type": "code",
   "execution_count": null,
   "id": "325bee91-d212-4079-9519-90c3dc27b40b",
   "metadata": {},
   "outputs": [],
   "source": [
    "assert all(df00.groupby('pairs')['label'].nunique()==4)\n",
    "assert df00['label common'].nunique()==4\n",
    "assert all(df00.groupby('pairs')['label common'].nunique()==4)"
   ]
  },
  {
   "cell_type": "markdown",
   "id": "0b8dd591-1a49-4ab1-af29-650fc1097e3b",
   "metadata": {},
   "source": [
    "### Features"
   ]
  },
  {
   "cell_type": "code",
   "execution_count": null,
   "id": "46cbf3aa-456d-4666-a978-19fd82dd16ec",
   "metadata": {},
   "outputs": [],
   "source": [
    "df01=read_table(\n",
    "    read_ps(\n",
    "        feature_paths,\n",
    "    ),\n",
    "    )\n",
    "df01.head(1)"
   ]
  },
  {
   "cell_type": "code",
   "execution_count": null,
   "id": "a7e41928-660a-46d7-a484-c64626e3b3a5",
   "metadata": {},
   "outputs": [],
   "source": [
    "## for merging the features\n",
    "df01=(df01\n",
    "    .assign(**{'cell id per subset':range(len(df01))})\n",
    "    .rename(columns={str(i):f\"feature #{i+1:03}\" for i in range(128)},errors='raise')\n",
    "    .log()  \n",
    ")\n",
    "df01.head(1)"
   ]
  },
  {
   "cell_type": "markdown",
   "id": "778b102d-2236-4ebe-9388-74acea80ad0f",
   "metadata": {},
   "source": [
    "### Merge"
   ]
  },
  {
   "cell_type": "code",
   "execution_count": null,
   "id": "6b855a1c-9be9-4c0a-bf87-905e00b388d0",
   "metadata": {},
   "outputs": [],
   "source": [
    "df1=(df00\n",
    "    .loc[:,\n",
    "         [\n",
    "        'pairs',\n",
    "        'gene symbol query','gene symbol partner',\n",
    "        'label','construct label','label common',\n",
    "        'replicate','cell id per pair','cell id per subset',\n",
    "        ]]\n",
    "    .log.merge(\n",
    "        right=df01,\n",
    "        how='inner',\n",
    "        on='cell id per subset',\n",
    "        validate=\"1:1\",\n",
    "        validate_equal_length=True,\n",
    "        suffixes=['',' features'],\n",
    "    )\n",
    ")\n",
    "df1.head(1)"
   ]
  },
  {
   "cell_type": "code",
   "execution_count": null,
   "id": "1df368a7-c49a-40e9-96d1-49656e5552e8",
   "metadata": {},
   "outputs": [],
   "source": [
    "if not 'control' in input_path:\n",
    "    assert all(df1['label']==df1['label features'])"
   ]
  },
  {
   "cell_type": "markdown",
   "id": "3d6c3c06-35ec-43e7-905b-320c32d59ecf",
   "metadata": {},
   "source": [
    "### Save"
   ]
  },
  {
   "cell_type": "code",
   "execution_count": null,
   "id": "c37ad376-b8ae-40c3-ae4b-38cd6fc65577",
   "metadata": {},
   "outputs": [],
   "source": [
    "to_table(df1,\n",
    "         # metadata['features']['filtered']['paralogs'],\n",
    "         output_path,\n",
    "        )"
   ]
  }
 ],
 "metadata": {
  "kernelspec": {
   "display_name": "yeast",
   "language": "python",
   "name": "yeast"
  },
  "language_info": {
   "codemirror_mode": {
    "name": "ipython",
    "version": 3
   },
   "file_extension": ".py",
   "mimetype": "text/x-python",
   "name": "python",
   "nbconvert_exporter": "python",
   "pygments_lexer": "ipython3",
   "version": "3.7.13"
  }
 },
 "nbformat": 4,
 "nbformat_minor": 5
}
