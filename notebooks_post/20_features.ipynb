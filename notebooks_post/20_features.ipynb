{
 "cells": [
  {
   "cell_type": "markdown",
   "id": "f4e61818-5d0c-4f8a-8520-e303deea3e45",
   "metadata": {},
   "source": [
    "# Features\n",
    "\n",
    "Processing of the features extracted from the deep learning model."
   ]
  },
  {
   "cell_type": "code",
   "execution_count": 1,
   "id": "41cceabb-a71e-4ae4-8ada-e894ebd048ec",
   "metadata": {},
   "outputs": [],
   "source": [
    "## required libraries\n",
    "## logging functions\n",
    "import logging\n",
    "## data functions\n",
    "import numpy as np\n",
    "import pandas as pd\n",
    "## system functions\n",
    "from os.path import dirname\n",
    "import sys\n",
    "## system functions from roux\n",
    "from roux.lib.io import to_table\n",
    "## workflow functions from roux\n",
    "from roux.workflow.io import read_metadata\n",
    "## data functions from roux\n",
    "import roux.lib.dfs as rd # attributes\n",
    "sys.path.append('../')"
   ]
  },
  {
   "cell_type": "code",
   "execution_count": 2,
   "id": "521beb22-4cb0-4764-ba5d-737c78806313",
   "metadata": {},
   "outputs": [],
   "source": [
    "## input parameters\n",
    "metadata_path='../config/metadata.yaml'\n",
    "kernel=None\n",
    "force=False\n",
    "test=True"
   ]
  },
  {
   "cell_type": "code",
   "execution_count": 3,
   "id": "6bdee0ee-c8ab-4f01-bbb0-77adbc98126f",
   "metadata": {},
   "outputs": [],
   "source": [
    "## inferred parameters\n",
    "metadata=read_metadata(metadata_path,inputs=None if not test else {'version':{'number':'test'}},)\n",
    "metadata['dataset']=read_metadata(metadata['dataset_config_path'],config_base=dict(species_name=metadata['species_name'],path=metadata['dataset_path'],),)\n",
    "### output\n",
    "output_dir_path=metadata['processed']['processed']\n",
    "logging.info(f\"Output directory: {output_dir_path}\")\n",
    "## backup old files if overwriting (force is True)\n",
    "if force: backup(output_dir_path,dirname(output_dir_path),test=not force,)\n",
    "## misc.\n",
    "if kernel is None:\n",
    "    kernel=metadata['kernels']['default']"
   ]
  },
  {
   "cell_type": "markdown",
   "id": "5fb66e36-a095-4413-813d-d525dd939ece",
   "metadata": {},
   "source": [
    "## Filter the features"
   ]
  },
  {
   "cell_type": "code",
   "execution_count": 4,
   "id": "48346cca-7ab7-4354-97f7-9b8d2279f1a9",
   "metadata": {},
   "outputs": [],
   "source": [
    "from roux.workflow.task import run_tasks"
   ]
  },
  {
   "cell_type": "code",
   "execution_count": 5,
   "id": "8c65658c-aff0-4ec0-b790-52255ddd2cf1",
   "metadata": {},
   "outputs": [],
   "source": [
    "parameters_list=[\n",
    "    ## paralogs\n",
    "    dict(    \n",
    "        input_path=metadata['metainfo']['filtered']['paralogs'],\n",
    "        output_path=metadata['features']['filtered']['paralogs'],\n",
    "        feature_paths=[f\"{metadata['pre_processed']['features']['path']}/*.csv\"],\n",
    "    ),\n",
    "    ## controls\n",
    "    dict(    \n",
    "        input_path=metadata['metainfo']['filtered']['controls'],\n",
    "        output_path=metadata['features']['filtered']['controls'],\n",
    "        feature_paths=[f\"{metadata['pre_processed']['features']['path']}/{s}.csv\" for s in  sorted(metadata['data']['subsets']['controls from']['pairs'])],\n",
    "    ),\n",
    "]"
   ]
  },
  {
   "cell_type": "code",
   "execution_count": 6,
   "id": "214338d0-f7d3-4e45-bb20-592c6b475400",
   "metadata": {},
   "outputs": [],
   "source": [
    "_=run_tasks(\n",
    "    input_notebook_path='20_script_features_filtering.ipynb',\n",
    "    kernel=kernel,\n",
    "    parameters_list=parameters_list,\n",
    "    force=True,\n",
    ")"
   ]
  },
  {
   "cell_type": "markdown",
   "id": "d1b3d87e-4798-44d2-a1a1-770e988cbb4f",
   "metadata": {},
   "source": [
    "## Normalise the features by Z-score\n",
    "\n",
    "Separately for the paralogs, and for the controls based on the paralogs data."
   ]
  },
  {
   "cell_type": "markdown",
   "id": "855001a0-ecf7-4379-9d15-718566bc327d",
   "metadata": {},
   "source": [
    "### Paralogs"
   ]
  },
  {
   "cell_type": "code",
   "execution_count": 7,
   "id": "61bbc8ad-0bb6-43fb-9a16-fcee1d13a066",
   "metadata": {},
   "outputs": [],
   "source": [
    "## paralogs\n",
    "df01=read_table(metadata['features']['filtered']['paralogs'])\n",
    "df01.head(1)"
   ]
  },
  {
   "cell_type": "code",
   "execution_count": 8,
   "id": "3e67b74d-d6c9-4546-9603-9da993172316",
   "metadata": {},
   "outputs": [],
   "source": [
    "## columns\n",
    "columns_index=[\n",
    "        'pairs',\n",
    "        ]\n",
    "columns_construct=['label common']\n",
    "columns_value=df01.filter(like='feature #').columns.tolist()\n",
    "_=df01.rd.assert_dense(subset=columns_index+columns_construct+columns_value)"
   ]
  },
  {
   "cell_type": "markdown",
   "id": "4ab810ce-f522-4fdc-8415-bf5d428f8995",
   "metadata": {},
   "source": [
    "#### Plot the mean and std"
   ]
  },
  {
   "cell_type": "code",
   "execution_count": 9,
   "id": "c9e5ad15-3f1f-459b-96f0-1c6f56dd8e45",
   "metadata": {},
   "outputs": [],
   "source": [
    "df0=df01.loc[:,columns_value].agg([np.mean,np.std])"
   ]
  },
  {
   "cell_type": "code",
   "execution_count": 10,
   "id": "abd6e27c-94c5-473b-a73a-772d227ca26f",
   "metadata": {},
   "outputs": [],
   "source": [
    "df0.T.hist()"
   ]
  },
  {
   "cell_type": "code",
   "execution_count": 11,
   "id": "0ce4a2bd-ab08-4350-914c-6f5e2404c48e",
   "metadata": {},
   "outputs": [],
   "source": [
    "## pre-process\n",
    "## standardize the features\n",
    "df01=df01.reset_index(drop=True)\n",
    "from sklearn.preprocessing import StandardScaler\n",
    "df01_=pd.DataFrame(StandardScaler().fit_transform(df01.loc[:,columns_value]),\n",
    "                  columns=columns_value)\n",
    "df1=df01.drop(columns_value,axis=1).join(df01_)\n",
    "del df01_"
   ]
  },
  {
   "cell_type": "code",
   "execution_count": 12,
   "id": "f92b4ca9-6b96-4dbe-914c-c50b8fbef06c",
   "metadata": {},
   "outputs": [],
   "source": [
    "to_table(df1,metadata['features']['zscore']['paralogs'])"
   ]
  },
  {
   "cell_type": "markdown",
   "id": "23ca6018-4d18-41ed-9a2a-3f968bbb38d0",
   "metadata": {},
   "source": [
    "#### Plot normalized the mean and std"
   ]
  },
  {
   "cell_type": "code",
   "execution_count": 13,
   "id": "d269191a-ac9a-4b0b-acd6-9d894d77437e",
   "metadata": {},
   "outputs": [],
   "source": [
    "df1.loc[:,columns_value].agg([np.mean,np.std]).T.hist()"
   ]
  },
  {
   "cell_type": "markdown",
   "id": "30bc7637-4050-480d-b8dc-22626e6681c2",
   "metadata": {
    "tags": []
   },
   "source": [
    "### Controls"
   ]
  },
  {
   "cell_type": "code",
   "execution_count": 14,
   "id": "0fed69bc-aac3-4f6c-a6ed-2e8fe4c0e940",
   "metadata": {},
   "outputs": [],
   "source": [
    "## controls\n",
    "df02=read_table(metadata['features']['filtered']['controls'])\n",
    "df02.head(1)"
   ]
  },
  {
   "cell_type": "markdown",
   "id": "bf8819d7-4f61-41b5-9a40-fa5c4af2af30",
   "metadata": {},
   "source": [
    "#### Plot the mean and std"
   ]
  },
  {
   "cell_type": "code",
   "execution_count": 15,
   "id": "28c4aca7-f5bd-4bd0-b47a-89a6c18bc1ca",
   "metadata": {},
   "outputs": [],
   "source": [
    "df02.loc[:,columns_value].agg([np.mean,np.std]).T.hist()"
   ]
  },
  {
   "cell_type": "code",
   "execution_count": 16,
   "id": "ac44fef8-b33d-471b-8299-135911334af6",
   "metadata": {},
   "outputs": [],
   "source": [
    "df2=df02.copy()"
   ]
  },
  {
   "cell_type": "code",
   "execution_count": 17,
   "id": "d3c0ad7c-af33-403c-be0a-b27ec1164df1",
   "metadata": {},
   "outputs": [],
   "source": [
    "for c in tqdm(columns_value):\n",
    "    df2=df2.assign(\n",
    "        **{\n",
    "            c: lambda df: (df[c]-df0.loc['mean',c])/df0.loc['std',c],\n",
    "        },\n",
    "        )"
   ]
  },
  {
   "cell_type": "code",
   "execution_count": 18,
   "id": "79bf48f1-c752-4a88-a122-cf16815c149e",
   "metadata": {},
   "outputs": [],
   "source": [
    "to_table(df2,metadata['features']['zscore']['controls'])"
   ]
  },
  {
   "cell_type": "markdown",
   "id": "2849a848-8c4b-4f5f-902e-03272b18c534",
   "metadata": {},
   "source": [
    "#### Plot normalized the mean and std"
   ]
  },
  {
   "cell_type": "code",
   "execution_count": 19,
   "id": "27cb2a9f-a5f1-457a-a50e-c1483b8648f7",
   "metadata": {},
   "outputs": [],
   "source": [
    "df2.loc[:,columns_value].agg([np.mean,np.std]).T.hist()"
   ]
  },
  {
   "cell_type": "markdown",
   "id": "481a4c69-c470-4468-a547-af56a1ece041",
   "metadata": {},
   "source": [
    "## PCA\n",
    "    \n",
    "Notes:   \n",
    "\n",
    "1. It does not contain the control samples."
   ]
  },
  {
   "cell_type": "markdown",
   "id": "92efbf1f-47db-4e20-a45c-054da11e8347",
   "metadata": {},
   "source": [
    "### Get PCs"
   ]
  },
  {
   "cell_type": "code",
   "execution_count": 20,
   "id": "14b4c120-bcf8-4cac-957d-4ec9355de9be",
   "metadata": {
    "tags": []
   },
   "outputs": [],
   "source": [
    "%reset_selective -f \"^df.*\""
   ]
  },
  {
   "cell_type": "code",
   "execution_count": 21,
   "id": "8d63c6b5-0268-4ce2-a992-884e368e5182",
   "metadata": {},
   "outputs": [],
   "source": [
    "def get_pca_data(\n",
    "    df1,\n",
    "    output_dir_path,\n",
    "    ):\n",
    "    output_path=f\"{output_dir_path}/{df1['pairs'].unique()[0]}.tsv\"\n",
    "    \n",
    "    df1=df1.reset_index(drop=True) ## because join later\n",
    "    features = df1.filter(like='feature #').sort_index(axis=1).values\n",
    "\n",
    "    from sklearn.decomposition import PCA\n",
    "    from sklearn.pipeline import make_pipeline\n",
    "    from sklearn.preprocessing import StandardScaler\n",
    "    tfm = make_pipeline(StandardScaler(), PCA(n_components=10))\n",
    "    tfm_ = tfm.fit(features)\n",
    "    # features_tfm.shape\n",
    "\n",
    "    ## variance explained\n",
    "    ### obtain\n",
    "    df2=pd.Series(tfm_.named_steps['pca'].explained_variance_).to_frame('explained variance')\n",
    "    df2['PC #']=[f\"{i:02}\" for i in range(1,len(df2)+1)]\n",
    "\n",
    "    ### save\n",
    "    to_table(df2,replace_many(output_path,{'pcs':'explained_variance'}))\n",
    "\n",
    "    ## PCs\n",
    "    ### obtain\n",
    "    features_tfm = tfm_.transform(features)\n",
    "    df3=pd.DataFrame(features_tfm).reset_index(drop=True)\n",
    "    df3.columns=[f\"PC #{i+1:02}\" for i in df3.columns]\n",
    "    df3.index.name='cell id per pair'\n",
    "\n",
    "    assert len(df1)==len(df3)\n",
    "    df4=df1.rd.dropby_patterns(['feature #'],verbose=False).join(df3)\n",
    "    assert not df3['PC #01'].isnull().any().any()\n",
    "    \n",
    "    ### save\n",
    "    to_table(df4,output_path)\n",
    "    return output_path\n",
    "for k in ['paralogs','controls']:\n",
    "    output_paths=(\n",
    "        read_table(metadata['features']['zscore'][k]).rd.assert_no_na(subset=['label'])\n",
    "        .groupby('pairs')\n",
    "        .apply(lambda df: get_pca_data(\n",
    "            df,\n",
    "            dirname(metadata['pcs'][k]),\n",
    "        )\n",
    "        )\n",
    "    )"
   ]
  },
  {
   "cell_type": "markdown",
   "id": "aa47b701-e5e1-4d11-8f19-3c0eb84cf837",
   "metadata": {},
   "source": [
    "### Combined PCA"
   ]
  },
  {
   "cell_type": "code",
   "execution_count": null,
   "id": "36169cf3-46fc-4c3b-92b9-9151453d760b",
   "metadata": {},
   "outputs": [],
   "source": [
    "df00=read_table([metadata['metainfo']['filtered'],metadata['metainfo_controls_filtered']])\n",
    "df00.head(1)"
   ]
  },
  {
   "cell_type": "code",
   "execution_count": null,
   "id": "9d90536d-535c-4e0c-a8bc-546e8223d2b2",
   "metadata": {},
   "outputs": [],
   "source": [
    "df01=read_table(\"../results/features*_filtered/*.csv\")\n",
    "df01.head(1)"
   ]
  },
  {
   "cell_type": "code",
   "execution_count": null,
   "id": "fc82f847-d5d0-4954-881b-8a7b13c038d4",
   "metadata": {},
   "outputs": [],
   "source": [
    "assert df00['label'].nunique()==df01['label'].nunique()"
   ]
  },
  {
   "cell_type": "code",
   "execution_count": null,
   "id": "976999cd-69b2-4a9d-b921-7d09296eedf7",
   "metadata": {},
   "outputs": [],
   "source": [
    "from modules.analysis.pca import get_pca_data"
   ]
  },
  {
   "cell_type": "code",
   "execution_count": null,
   "id": "d34a290c-fb91-4f3d-8125-fc71f267bd4e",
   "metadata": {
    "tags": [
     "check"
    ]
   },
   "outputs": [],
   "source": [
    "get_pca_data(\n",
    "    p=None,\n",
    "    outp='../results/pcs_combined/pcs/combined.pqt',\n",
    "    force=False,\n",
    "    features_path=None,\n",
    "    df00=df00,\n",
    "    features_pair=df01,\n",
    "    )"
   ]
  }
 ],
 "metadata": {
  "kernelspec": {
   "display_name": "yeast",
   "language": "python",
   "name": "yeast"
  },
  "language_info": {
   "codemirror_mode": {
    "name": "ipython",
    "version": 3
   },
   "file_extension": ".py",
   "mimetype": "text/x-python",
   "name": "python",
   "nbconvert_exporter": "python",
   "pygments_lexer": "ipython3",
   "version": "3.7.13"
  }
 },
 "nbformat": 4,
 "nbformat_minor": 5
}
