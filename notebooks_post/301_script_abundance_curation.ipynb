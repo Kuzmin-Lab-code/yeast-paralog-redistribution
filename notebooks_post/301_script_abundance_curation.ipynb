{
 "cells": [
  {
   "cell_type": "markdown",
   "id": "e3940eb6-de17-4710-b675-8d34de2b742c",
   "metadata": {},
   "source": [
    "# Quantification of single-cell protein abundance\n",
    "\n",
    "Calculation of single-cell protein abundance by aggregation of cell-wise intensity and correlation between replicates.  "
   ]
  },
  {
   "cell_type": "code",
   "execution_count": 1,
   "id": "f05a1dfc-2076-4151-8093-383419a1b259",
   "metadata": {},
   "outputs": [],
   "source": [
    "## logging functions\n",
    "import logging\n",
    "## data functions\n",
    "import numpy as np\n",
    "## system functions\n",
    "import sys\n",
    "## system functions from roux\n",
    "from roux.lib.io import read_table\n",
    "## stats functions from roux\n",
    "from roux.stat.io import perc_label\n",
    "## visualization functions\n",
    "import matplotlib.pyplot as plt\n",
    "## data functions from roux\n",
    "import roux.lib.dfs as rd # attributes\n",
    "sys.path.append('../')"
   ]
  },
  {
   "cell_type": "code",
   "execution_count": 3,
   "id": "c6cf54b9-5026-4160-90c6-3ffc77fc77bd",
   "metadata": {
    "tags": [
     "parameters"
    ]
   },
   "outputs": [],
   "source": [
    "## parameters\n",
    "input_path=None\n",
    "output_path=None\n",
    "\n",
    "## data curation\n",
    "rename={\n",
    "        'abundance':'protein abundance',\n",
    "        }\n",
    "## validations (set True by default)\n",
    "validate_cells_per_construct=True"
   ]
  },
  {
   "cell_type": "code",
   "execution_count": 4,
   "id": "4677c66e-2a61-42f6-9ea8-11065e737389",
   "metadata": {},
   "outputs": [],
   "source": [
    "## parameters inferred\n",
    "output_dir_path=dirname(output_path)\n",
    "logging.info(output_path)\n",
    "\n",
    "cols_value=list(rename.values())\n",
    "col_value=cols_value[0] # preferred"
   ]
  },
  {
   "cell_type": "markdown",
   "id": "506c764f-897e-4350-ad43-afb4f44806b0",
   "metadata": {
    "tags": []
   },
   "source": [
    "## Non-aggregated"
   ]
  },
  {
   "cell_type": "code",
   "execution_count": 5,
   "id": "35653c95-cc09-4224-b940-a035f729fe63",
   "metadata": {},
   "outputs": [],
   "source": [
    "df01=read_table(input_path)\n",
    "df01.head(1)"
   ]
  },
  {
   "cell_type": "code",
   "execution_count": 6,
   "id": "666d16ab-fbf3-4635-beaa-a00bf48e5c4a",
   "metadata": {},
   "outputs": [],
   "source": [
    "## rename\n",
    "df1=(df01\n",
    "    .rename(columns=rename,errors='raise')\n",
    "    )\n",
    "df1=df1.drop(df1.filter(regex='^abundance.*').columns, axis=1)\n",
    "df1.head(1)"
   ]
  },
  {
   "cell_type": "code",
   "execution_count": 7,
   "id": "36460119-7971-4d83-9d70-2e2be27905b2",
   "metadata": {},
   "outputs": [],
   "source": [
    "to_table(df1,f'{output_dir_path}/01_renamed.tsv')"
   ]
  },
  {
   "cell_type": "markdown",
   "id": "4bd19277-bd36-4729-8391-ccf714aef693",
   "metadata": {
    "tags": []
   },
   "source": [
    "## Aggregated by replicates"
   ]
  },
  {
   "cell_type": "code",
   "execution_count": 8,
   "id": "50492b6a-7753-4f1a-805d-d24048f5fcf0",
   "metadata": {},
   "outputs": [],
   "source": [
    "## aggregate cells\n",
    "df2=(df1\n",
    "    .groupby(['gene symbol query','status partner','pairs','label','replicate',])\n",
    "    # .agg(**{c+' mean':(c,np.mean) for c in cols_value})\n",
    "    .agg({c:[np.mean,np.std] for c in cols_value})\n",
    "    .rd.flatten_columns()\n",
    "    .reset_index()\n",
    "    )\n",
    "if validate_cells_per_construct:\n",
    "    assert not df2[f'{col_value} std'].isnull().any(), \"-> \"+perc_label(df2[f'{col_value} std'].isnull())+\" of the constructs have 1 cell.\"\n",
    "df2.head(1)"
   ]
  },
  {
   "cell_type": "code",
   "execution_count": 9,
   "id": "956722ee-6963-4dd0-b9f9-7af5a6a447f6",
   "metadata": {},
   "outputs": [],
   "source": [
    "to_table(df2,f'{output_dir_path}/02_aggby_replicates.tsv')"
   ]
  },
  {
   "cell_type": "markdown",
   "id": "c7852fd2-f29c-4058-9df5-643b8f48730d",
   "metadata": {
    "tags": []
   },
   "source": [
    "## Aggregated by genes"
   ]
  },
  {
   "cell_type": "code",
   "execution_count": 10,
   "id": "fa386f26-7e5a-45d3-9160-9ef8932116f0",
   "metadata": {},
   "outputs": [],
   "source": [
    "## aggregate replicates\n",
    "df3=(df2\n",
    "    .groupby(['gene symbol query','status partner','pairs','label'])\n",
    "    .agg({c+' mean':[np.mean,np.std] for c in cols_value})\n",
    "    .rd.flatten_columns()\n",
    "    .rd.renameby_replace({'mean mean':'mean','mean std':'std'})\n",
    "    .reset_index()\n",
    "    .assign(\n",
    "    **{\n",
    "        f'{col_value} std/mean':lambda df : df[f'{col_value} std']/df[f'{col_value} mean'],\n",
    "    })     \n",
    ")\n",
    "df3.head(1)"
   ]
  },
  {
   "cell_type": "code",
   "execution_count": 11,
   "id": "613c0f37-1c12-4156-a1d9-dc6c64acd57e",
   "metadata": {},
   "outputs": [],
   "source": [
    "assert all(df3['status partner'].unique() == ['DELTA','WT'])\n",
    "assert all(df3.groupby('pairs')['status partner'].nunique()==2)\n",
    "assert all(df3.groupby('pairs')['label'].nunique()==4)"
   ]
  },
  {
   "cell_type": "code",
   "execution_count": 12,
   "id": "a1800950-eef7-4275-be81-f584f7a3959b",
   "metadata": {},
   "outputs": [],
   "source": [
    "to_table(df3,output_path)"
   ]
  },
  {
   "cell_type": "markdown",
   "id": "b78089bd-ad76-45dd-86ea-e03cfff996cb",
   "metadata": {},
   "source": [
    "### Plots"
   ]
  },
  {
   "cell_type": "markdown",
   "id": "0b3d99c8-a1cc-44e7-ab72-1b8d36d1231e",
   "metadata": {},
   "source": [
    "#### Between-replicate correlations"
   ]
  },
  {
   "cell_type": "code",
   "execution_count": 13,
   "id": "360c0d29-1de9-464b-a967-37f3b50dbef6",
   "metadata": {},
   "outputs": [],
   "source": [
    "## data for the plot\n",
    "data=(df2\n",
    "    .pivot(index=['gene symbol query','status partner','pairs','label',],\n",
    "       columns=['replicate'],\n",
    "       values=[f\"{col_value} mean\"],\n",
    "          )\n",
    "    .droplevel(0,axis=1)\n",
    ")\n",
    "assert (data==0).sum().sum()==0, 'plog needed.'\n",
    "data=data.applymap(np.log10)\n",
    "data.head(1)"
   ]
  },
  {
   "cell_type": "code",
   "execution_count": 24,
   "id": "0872125e-f4b0-4926-9c57-09967c2b0c03",
   "metadata": {},
   "outputs": [],
   "source": [
    "## plot\n",
    "fig,axs=plt.subplots(1,3,figsize=[7,4])\n",
    "axs=axs.flatten()\n",
    "from modules.tools.plot import plot_scatters\n",
    "plot_scatters(\n",
    "    data=data,\n",
    "    axs=axs,\n",
    "    cols=['replicate1','replicate2','replicate3'],\n",
    "    )\n",
    "to_plot(to_table(df2,f'{output_dir_path}/02_aggby_replicates_plots/scatters'),fmts=['pdf','png'])"
   ]
  }
 ],
 "metadata": {
  "kernelspec": {
   "display_name": "yeast",
   "language": "python",
   "name": "yeast"
  },
  "language_info": {
   "codemirror_mode": {
    "name": "ipython",
    "version": 3
   },
   "file_extension": ".py",
   "mimetype": "text/x-python",
   "name": "python",
   "nbconvert_exporter": "python",
   "pygments_lexer": "ipython3",
   "version": "3.7.13"
  }
 },
 "nbformat": 4,
 "nbformat_minor": 5
}
