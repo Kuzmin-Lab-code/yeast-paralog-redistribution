{
 "cells": [
  {
   "cell_type": "markdown",
   "id": "eda0e099-f0e8-4dc7-9259-f02e56c22a09",
   "metadata": {},
   "source": [
    "# Protein isoforms\n",
    "\n",
    "The analysis the Translation Initiation Site (TIS) profiling data [@Eisenberg2020-bg]. "
   ]
  },
  {
   "cell_type": "code",
   "execution_count": 1,
   "id": "d4c35137-584a-4da0-8781-8501a6321b10",
   "metadata": {},
   "outputs": [],
   "source": [
    "## logging functions\n",
    "import logging\n",
    "## data functions\n",
    "import pandas as pd\n",
    "## system functions\n",
    "from os.path import dirname\n",
    "import sys\n",
    "## system functions from roux\n",
    "from roux.lib.io import backup\n",
    "from IPython.display import Markdown as info_nb\n",
    "from roux.lib.io import read_table\n",
    "from roux.lib.io import to_dict\n",
    "## visualization functions\n",
    "import matplotlib.pyplot as plt\n",
    "## visualization functions from roux\n",
    "from roux.viz.io import to_plot\n",
    "## data functions from roux\n",
    "import roux.lib.dfs as rd # attributes\n",
    "sys.path.append('..')"
   ]
  },
  {
   "cell_type": "code",
   "execution_count": 2,
   "id": "fe4fdb71-1df8-4c38-9db6-f7486f2e9256",
   "metadata": {},
   "outputs": [],
   "source": [
    "## parameters\n",
    "metadata_path='../config/metadata.yaml'\n",
    "force=False\n",
    "test=True"
   ]
  },
  {
   "cell_type": "code",
   "execution_count": 21,
   "id": "473b2263-8d46-491e-8aa5-5507f3ea5027",
   "metadata": {},
   "outputs": [],
   "source": [
    "## inferred parameters\n",
    "metadata=read_metadata(metadata_path,inputs=None if not test else {'version':{'number':'test'}},)\n",
    "metadata['dataset']=read_metadata(metadata['dataset_config_path'],config_base=dict(species_name=metadata['species_name'],path=metadata['dataset_path'],),)\n",
    "### output\n",
    "output_dir_path=metadata['processed']['mechanisms']\n",
    "logging.info(f\"Output directory: {output_dir_path}\")\n",
    "## backup old files if overwriting (force is True)\n",
    "if force: backup(output_dir_path,dirname(output_dir_path),test=not force,)"
   ]
  },
  {
   "cell_type": "code",
   "execution_count": 11,
   "id": "362adca0-3de3-4e51-9bc7-0895cb17be18",
   "metadata": {},
   "outputs": [],
   "source": [
    "from Bio.Seq import Seq as to_seq\n",
    "## common functions\n",
    "def read_fasta(\n",
    "    fap: str,\n",
    "    key_type: str='id',\n",
    "    duplicates: bool=False,\n",
    "    ) -> dict:\n",
    "    \"\"\"Read fasta\n",
    "\n",
    "    Args:\n",
    "        fap (str): path\n",
    "        key_type (str, optional): key type. Defaults to 'id'.\n",
    "        duplicates (bool, optional): duplicates present. Defaults to False.\n",
    "\n",
    "    Returns:\n",
    "        dict: data.\n",
    "\n",
    "    Notes:\n",
    "        1. If `duplicates` key_type is set to `description` instead of `id`.\n",
    "    \"\"\"\n",
    "    from Bio import SeqIO\n",
    "    if (not duplicates) or key_type=='id':\n",
    "        try:\n",
    "            id2seq=SeqIO.to_dict(SeqIO.parse(fap,format='fasta'))\n",
    "            id2seq={k:str(id2seq[k].seq) for k in id2seq}\n",
    "            return id2seq\n",
    "        except:\n",
    "            duplicates=True\n",
    "    if duplicates or key_type=='description':\n",
    "        id2seq={}\n",
    "        for seq_record in SeqIO.parse(fap, \"fasta\"):\n",
    "            id2seq[getattr(seq_record,key_type)]=str(seq_record.seq)\n",
    "        return id2seq"
   ]
  },
  {
   "cell_type": "markdown",
   "id": "e28ab4a4-0282-479a-b84e-6f21de8b9235",
   "metadata": {},
   "source": [
    "## TIS profiling data\n",
    "\n",
    "|   |  |\n",
    "|---|---|\n",
    "| Growth phase | Vegetative exponential |\n",
    "| Sample ID | GSM4547703 |\n",
    "| SRA ID | SRR11777267 |  \n",
    "| Data access link | https://www.ncbi.nlm.nih.gov/geo/query/acc.cgi?acc=GSE150375 |\n",
    "| Alignment viewer link| https://trace.ncbi.nlm.nih.gov/Traces/?view=run_browser&page_size=10&acc=SRR11777267&display=alignment |  "
   ]
  },
  {
   "cell_type": "code",
   "execution_count": 7,
   "id": "d80478fa-cdf5-4814-a257-1f5af2a68db3",
   "metadata": {},
   "outputs": [],
   "source": [
    "import pysam\n",
    "input_bam_file=f\"{metadata['dataset']['external']['path']}/2020_Eisenberg_et_al/SRR11777267_chr13_cue4.bam\"\n",
    "pysam.index(input_bam_file)\n",
    "aligned=pysam.AlignmentFile(\n",
    "    input_bam_file,\n",
    "    'rb')"
   ]
  },
  {
   "cell_type": "code",
   "execution_count": 8,
   "id": "323d7b80-1c8c-4f48-b4de-0013e37b1b97",
   "metadata": {},
   "outputs": [],
   "source": [
    "gene_symbol='CUE4'\n",
    "coord=dict(\n",
    "    contig='chr13',\n",
    "    start=69735,\n",
    "    end=70088,\n",
    "    )\n",
    "seq_offset_up=55\n",
    "## Eisenberg et al., 2020 GFF co-ordinates 77513:77866"
   ]
  },
  {
   "cell_type": "code",
   "execution_count": 12,
   "id": "c074209a-c2de-4538-ac77-9ad9e3e5844f",
   "metadata": {},
   "outputs": [],
   "source": [
    "seq_ref=list(read_fasta(f\"{metadata['dataset']['external']['path']}/2020_Eisenberg_et_al/genes/{gene_symbol}.fasta\").values())[0]"
   ]
  },
  {
   "cell_type": "code",
   "execution_count": 13,
   "id": "2359d09b-13d9-4565-811b-b5b9731f0c1d",
   "metadata": {},
   "outputs": [],
   "source": [
    "info_nb(f\"The sequence of the canonical isoform:\\n{str(to_seq(seq_ref).reverse_complement().translate())}\")"
   ]
  },
  {
   "cell_type": "code",
   "execution_count": 14,
   "id": "7847b994-4469-4a5c-b400-7dbbb5026670",
   "metadata": {},
   "outputs": [],
   "source": [
    "info_nb(f\"The sequence of the non-canonical isoform:\\n{str(to_seq(seq_ref).reverse_complement().translate())[19:]}\")"
   ]
  },
  {
   "cell_type": "code",
   "execution_count": 15,
   "id": "5f9fa842-bafc-4df0-9e60-515aeb0bd7f6",
   "metadata": {},
   "outputs": [],
   "source": [
    "info_nb(f\"The difference in molecular weight of the isoforms={(12892.78-10757.16)/1e3:.1f}.\")"
   ]
  },
  {
   "cell_type": "code",
   "execution_count": 16,
   "id": "17ca8529-090e-4266-a276-af2ff85b5d55",
   "metadata": {},
   "outputs": [],
   "source": [
    "## make a dataframe\n",
    "df0=pd.DataFrame({'position':list(range(coord['start'],coord['end']+1,1)),\n",
    "'reference base': list(seq_ref),}).rd.assert_no_na()\n",
    "df0.head(1)"
   ]
  },
  {
   "cell_type": "markdown",
   "id": "c071d7dd-5986-4429-8d59-1fe959ba16a9",
   "metadata": {
    "tags": []
   },
   "source": [
    "### Read depth"
   ]
  },
  {
   "cell_type": "code",
   "execution_count": 17,
   "id": "4098dcc7-2563-4316-a1fc-8a17af9b066b",
   "metadata": {},
   "outputs": [],
   "source": [
    "df01 = pd.DataFrame([x.split('\\t') for x in pysam.depth(input_bam_file).split('\\n')],\n",
    "                   columns=['feature','position','depth'],\n",
    "                   )\n",
    "df01.head(1)"
   ]
  },
  {
   "cell_type": "code",
   "execution_count": 18,
   "id": "9a6069cd-28c8-405a-98b4-a6d41b6628e7",
   "metadata": {},
   "outputs": [],
   "source": [
    "## clean\n",
    "df01=df01.log.dropna(subset=['position']).astype({'position':int,'depth':float},)"
   ]
  },
  {
   "cell_type": "code",
   "execution_count": 19,
   "id": "f3daaabf-4d72-435a-8cda-843f4beca3aa",
   "metadata": {},
   "outputs": [],
   "source": [
    "## filter\n",
    "df1=df01.log.query(expr=f\"`position` > {coord['start']} & `position` < {coord['end']+seq_offset_up}\")"
   ]
  },
  {
   "cell_type": "markdown",
   "id": "41963001-0701-494d-947a-655d97095980",
   "metadata": {},
   "source": [
    "The positions are continuous. Only the regions with aligned reads are included."
   ]
  },
  {
   "cell_type": "code",
   "execution_count": 20,
   "id": "1a8a6e16-ddde-441b-b83c-939de96228c9",
   "metadata": {},
   "outputs": [],
   "source": [
    "## merge with the isoform annotations\n",
    "df2=df0.log.merge(right=df1,\n",
    "             how='outer',\n",
    "             validate=\"1:1\",\n",
    "             )\n",
    "df2.head(1)"
   ]
  },
  {
   "cell_type": "code",
   "execution_count": 32,
   "id": "3bb9a4fa-d9d7-4f7e-9e57-f50c22984fba",
   "metadata": {},
   "outputs": [],
   "source": [
    "input_path_=to_table(df2,metadata['mechanisms']['non_canonical_isoform']['read_depth'][gene_symbol])"
   ]
  },
  {
   "cell_type": "code",
   "execution_count": 45,
   "id": "bc88dfb3-545f-49ed-ac85-46bf8a15f332",
   "metadata": {},
   "outputs": [],
   "source": [
    "from roux.viz.colors import saturate_color,to_hex"
   ]
  },
  {
   "cell_type": "code",
   "execution_count": 48,
   "id": "81f86d35-7573-4d0d-b1e9-fe3665fd545d",
   "metadata": {},
   "outputs": [],
   "source": [
    "kws_plot=dict(\n",
    "    gene_symbol=gene_symbol,\n",
    "    coord=coord,\n",
    "    seq_offset_up=seq_offset_up,\n",
    "    features_colors=[to_hex(saturate_color(metadata['colors']['gene2'],0.5)),metadata['colors']['gene2']],\n",
    "    )\n",
    "input_config_path_=to_dict(kws_plot,\n",
    "        Path(metadata['mechanisms']['non_canonical_isoform']['read_depth'][gene_symbol]).with_suffix('.yaml').as_posix(),\n",
    "       )"
   ]
  },
  {
   "cell_type": "markdown",
   "id": "7c1ae2a9-5322-4392-9c9b-c5f2c3e7b16f",
   "metadata": {},
   "source": [
    "## Visualize"
   ]
  },
  {
   "cell_type": "code",
   "execution_count": 49,
   "id": "01515200-a7f7-417d-95b1-0f6a21756f39",
   "metadata": {},
   "outputs": [],
   "source": [
    "from modules.tools.plot import plot_read_depth\n",
    "plot_read_depth(\n",
    "    data=read_table(input_path_),\n",
    "    seq_ref=list(read_fasta(f\"{metadata['dataset']['external']['path']}/2020_Eisenberg_et_al/genes/{gene_symbol}.fasta\").values())[0],\n",
    "    **read_dict(input_config_path_),    \n",
    "    )\n",
    "plt.tight_layout()\n",
    "to_plot(\n",
    "    Path(metadata['mechanisms']['non_canonical_isoform']['read_depth'][gene_symbol]).with_suffix('').as_posix(),\n",
    "    fmts=['pdf','png'],\n",
    ")"
   ]
  }
 ],
 "metadata": {
  "kernelspec": {
   "display_name": "seq",
   "language": "python",
   "name": "seq"
  },
  "language_info": {
   "codemirror_mode": {
    "name": "ipython",
    "version": 3
   },
   "file_extension": ".py",
   "mimetype": "text/x-python",
   "name": "python",
   "nbconvert_exporter": "python",
   "pygments_lexer": "ipython3",
   "version": "3.10.7"
  }
 },
 "nbformat": 4,
 "nbformat_minor": 5
}
