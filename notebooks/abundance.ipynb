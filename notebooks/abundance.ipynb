{
 "cells": [
  {
   "cell_type": "code",
   "execution_count": 55,
   "metadata": {},
   "outputs": [],
   "source": [
    "import pandas as pd\n",
    "import numpy as np\n",
    "import os \n",
    "import sys\n",
    "\n",
    "import matplotlib.pyplot as plt\n",
    "import seaborn as sns\n",
    "from tqdm.auto import tqdm\n",
    "\n",
    "from scipy.stats import pearsonr\n",
    "from sklearn.decomposition import PCA"
   ]
  },
  {
   "cell_type": "markdown",
   "metadata": {},
   "source": [
    "### Read metainfo"
   ]
  },
  {
   "cell_type": "code",
   "execution_count": 28,
   "metadata": {},
   "outputs": [
    {
     "data": {
      "text/html": [
       "<div>\n",
       "<style scoped>\n",
       "    .dataframe tbody tr th:only-of-type {\n",
       "        vertical-align: middle;\n",
       "    }\n",
       "\n",
       "    .dataframe tbody tr th {\n",
       "        vertical-align: top;\n",
       "    }\n",
       "\n",
       "    .dataframe thead th {\n",
       "        text-align: right;\n",
       "    }\n",
       "</style>\n",
       "<table border=\"1\" class=\"dataframe\">\n",
       "  <thead>\n",
       "    <tr style=\"text-align: right;\">\n",
       "      <th></th>\n",
       "      <th>index</th>\n",
       "      <th>Row</th>\n",
       "      <th>Column</th>\n",
       "      <th>Field</th>\n",
       "      <th>URL</th>\n",
       "      <th>R-C</th>\n",
       "      <th>GFP</th>\n",
       "      <th>natMX4</th>\n",
       "      <th>pairs</th>\n",
       "    </tr>\n",
       "  </thead>\n",
       "  <tbody>\n",
       "    <tr>\n",
       "      <th>0</th>\n",
       "      <td>0</td>\n",
       "      <td>1</td>\n",
       "      <td>1</td>\n",
       "      <td>1</td>\n",
       "      <td>001001001</td>\n",
       "      <td>1-1</td>\n",
       "      <td>KIN1</td>\n",
       "      <td>NaN</td>\n",
       "      <td>KIN1-KIN2</td>\n",
       "    </tr>\n",
       "    <tr>\n",
       "      <th>1</th>\n",
       "      <td>1</td>\n",
       "      <td>1</td>\n",
       "      <td>1</td>\n",
       "      <td>2</td>\n",
       "      <td>001001002</td>\n",
       "      <td>1-1</td>\n",
       "      <td>KIN1</td>\n",
       "      <td>NaN</td>\n",
       "      <td>KIN1-KIN2</td>\n",
       "    </tr>\n",
       "    <tr>\n",
       "      <th>2</th>\n",
       "      <td>2</td>\n",
       "      <td>1</td>\n",
       "      <td>1</td>\n",
       "      <td>3</td>\n",
       "      <td>001001003</td>\n",
       "      <td>1-1</td>\n",
       "      <td>KIN1</td>\n",
       "      <td>NaN</td>\n",
       "      <td>KIN1-KIN2</td>\n",
       "    </tr>\n",
       "    <tr>\n",
       "      <th>3</th>\n",
       "      <td>3</td>\n",
       "      <td>1</td>\n",
       "      <td>1</td>\n",
       "      <td>4</td>\n",
       "      <td>001001004</td>\n",
       "      <td>1-1</td>\n",
       "      <td>KIN1</td>\n",
       "      <td>NaN</td>\n",
       "      <td>KIN1-KIN2</td>\n",
       "    </tr>\n",
       "    <tr>\n",
       "      <th>4</th>\n",
       "      <td>4</td>\n",
       "      <td>1</td>\n",
       "      <td>2</td>\n",
       "      <td>1</td>\n",
       "      <td>001002001</td>\n",
       "      <td>1-2</td>\n",
       "      <td>KIN2</td>\n",
       "      <td>NaN</td>\n",
       "      <td>KIN1-KIN2</td>\n",
       "    </tr>\n",
       "  </tbody>\n",
       "</table>\n",
       "</div>"
      ],
      "text/plain": [
       "   index  Row  Column  Field        URL  R-C   GFP natMX4      pairs\n",
       "0      0    1       1      1  001001001  1-1  KIN1    NaN  KIN1-KIN2\n",
       "1      1    1       1      2  001001002  1-1  KIN1    NaN  KIN1-KIN2\n",
       "2      2    1       1      3  001001003  1-1  KIN1    NaN  KIN1-KIN2\n",
       "3      3    1       1      4  001001004  1-1  KIN1    NaN  KIN1-KIN2\n",
       "4      4    1       2      1  001002001  1-2  KIN2    NaN  KIN1-KIN2"
      ]
     },
     "execution_count": 28,
     "metadata": {},
     "output_type": "execute_result"
    }
   ],
   "source": [
    "metainfo = pd.read_csv('../data/meta/metainfo.csv', sep=',', index_col=0, dtype={'URL': object}).reset_index()\n",
    "metainfo.head()"
   ]
  },
  {
   "cell_type": "code",
   "execution_count": 29,
   "metadata": {},
   "outputs": [
    {
     "data": {
      "text/plain": [
       "'AAP1-APE2'"
      ]
     },
     "execution_count": 29,
     "metadata": {},
     "output_type": "execute_result"
    }
   ],
   "source": [
    "pairs = np.unique(metainfo.pairs)\n",
    "pair = pairs[0]\n",
    "pair"
   ]
  },
  {
   "cell_type": "code",
   "execution_count": 30,
   "metadata": {},
   "outputs": [
    {
     "data": {
      "text/html": [
       "<div>\n",
       "<style scoped>\n",
       "    .dataframe tbody tr th:only-of-type {\n",
       "        vertical-align: middle;\n",
       "    }\n",
       "\n",
       "    .dataframe tbody tr th {\n",
       "        vertical-align: top;\n",
       "    }\n",
       "\n",
       "    .dataframe thead th {\n",
       "        text-align: right;\n",
       "    }\n",
       "</style>\n",
       "<table border=\"1\" class=\"dataframe\">\n",
       "  <thead>\n",
       "    <tr style=\"text-align: right;\">\n",
       "      <th></th>\n",
       "      <th>URL</th>\n",
       "      <th>replicate</th>\n",
       "      <th>cell_id</th>\n",
       "      <th>file</th>\n",
       "      <th>Row</th>\n",
       "      <th>Column</th>\n",
       "      <th>Field</th>\n",
       "      <th>R-C</th>\n",
       "      <th>GFP</th>\n",
       "      <th>natMX4</th>\n",
       "      <th>pairs</th>\n",
       "      <th>label</th>\n",
       "      <th>class</th>\n",
       "      <th>abundance</th>\n",
       "      <th>abundance_repl_std</th>\n",
       "    </tr>\n",
       "  </thead>\n",
       "  <tbody>\n",
       "    <tr>\n",
       "      <th>0</th>\n",
       "      <td>5019001</td>\n",
       "      <td>replicate1</td>\n",
       "      <td>0000.npy</td>\n",
       "      <td>../data/frames/replicate1/005019001/0000.npy</td>\n",
       "      <td>5</td>\n",
       "      <td>19</td>\n",
       "      <td>1</td>\n",
       "      <td>5-19</td>\n",
       "      <td>AAP1</td>\n",
       "      <td>NaN</td>\n",
       "      <td>AAP1-APE2</td>\n",
       "      <td>AAP1-GFP APE2-WT</td>\n",
       "      <td>0</td>\n",
       "      <td>31.602539</td>\n",
       "      <td>0.000862</td>\n",
       "    </tr>\n",
       "    <tr>\n",
       "      <th>1</th>\n",
       "      <td>5019001</td>\n",
       "      <td>replicate1</td>\n",
       "      <td>0001.npy</td>\n",
       "      <td>../data/frames/replicate1/005019001/0001.npy</td>\n",
       "      <td>5</td>\n",
       "      <td>19</td>\n",
       "      <td>1</td>\n",
       "      <td>5-19</td>\n",
       "      <td>AAP1</td>\n",
       "      <td>NaN</td>\n",
       "      <td>AAP1-APE2</td>\n",
       "      <td>AAP1-GFP APE2-WT</td>\n",
       "      <td>0</td>\n",
       "      <td>41.653809</td>\n",
       "      <td>0.204755</td>\n",
       "    </tr>\n",
       "    <tr>\n",
       "      <th>2</th>\n",
       "      <td>5019001</td>\n",
       "      <td>replicate1</td>\n",
       "      <td>0002.npy</td>\n",
       "      <td>../data/frames/replicate1/005019001/0002.npy</td>\n",
       "      <td>5</td>\n",
       "      <td>19</td>\n",
       "      <td>1</td>\n",
       "      <td>5-19</td>\n",
       "      <td>AAP1</td>\n",
       "      <td>NaN</td>\n",
       "      <td>AAP1-APE2</td>\n",
       "      <td>AAP1-GFP APE2-WT</td>\n",
       "      <td>0</td>\n",
       "      <td>54.278564</td>\n",
       "      <td>0.460853</td>\n",
       "    </tr>\n",
       "    <tr>\n",
       "      <th>3</th>\n",
       "      <td>5019001</td>\n",
       "      <td>replicate1</td>\n",
       "      <td>0003.npy</td>\n",
       "      <td>../data/frames/replicate1/005019001/0003.npy</td>\n",
       "      <td>5</td>\n",
       "      <td>19</td>\n",
       "      <td>1</td>\n",
       "      <td>5-19</td>\n",
       "      <td>AAP1</td>\n",
       "      <td>NaN</td>\n",
       "      <td>AAP1-APE2</td>\n",
       "      <td>AAP1-GFP APE2-WT</td>\n",
       "      <td>0</td>\n",
       "      <td>53.708496</td>\n",
       "      <td>0.449289</td>\n",
       "    </tr>\n",
       "    <tr>\n",
       "      <th>4</th>\n",
       "      <td>5019001</td>\n",
       "      <td>replicate1</td>\n",
       "      <td>0004.npy</td>\n",
       "      <td>../data/frames/replicate1/005019001/0004.npy</td>\n",
       "      <td>5</td>\n",
       "      <td>19</td>\n",
       "      <td>1</td>\n",
       "      <td>5-19</td>\n",
       "      <td>AAP1</td>\n",
       "      <td>NaN</td>\n",
       "      <td>AAP1-APE2</td>\n",
       "      <td>AAP1-GFP APE2-WT</td>\n",
       "      <td>0</td>\n",
       "      <td>67.809082</td>\n",
       "      <td>0.735324</td>\n",
       "    </tr>\n",
       "  </tbody>\n",
       "</table>\n",
       "</div>"
      ],
      "text/plain": [
       "       URL   replicate   cell_id  \\\n",
       "0  5019001  replicate1  0000.npy   \n",
       "1  5019001  replicate1  0001.npy   \n",
       "2  5019001  replicate1  0002.npy   \n",
       "3  5019001  replicate1  0003.npy   \n",
       "4  5019001  replicate1  0004.npy   \n",
       "\n",
       "                                           file  Row  Column  Field   R-C  \\\n",
       "0  ../data/frames/replicate1/005019001/0000.npy    5      19      1  5-19   \n",
       "1  ../data/frames/replicate1/005019001/0001.npy    5      19      1  5-19   \n",
       "2  ../data/frames/replicate1/005019001/0002.npy    5      19      1  5-19   \n",
       "3  ../data/frames/replicate1/005019001/0003.npy    5      19      1  5-19   \n",
       "4  ../data/frames/replicate1/005019001/0004.npy    5      19      1  5-19   \n",
       "\n",
       "    GFP natMX4      pairs             label  class  abundance  \\\n",
       "0  AAP1    NaN  AAP1-APE2  AAP1-GFP APE2-WT      0  31.602539   \n",
       "1  AAP1    NaN  AAP1-APE2  AAP1-GFP APE2-WT      0  41.653809   \n",
       "2  AAP1    NaN  AAP1-APE2  AAP1-GFP APE2-WT      0  54.278564   \n",
       "3  AAP1    NaN  AAP1-APE2  AAP1-GFP APE2-WT      0  53.708496   \n",
       "4  AAP1    NaN  AAP1-APE2  AAP1-GFP APE2-WT      0  67.809082   \n",
       "\n",
       "   abundance_repl_std  \n",
       "0            0.000862  \n",
       "1            0.204755  \n",
       "2            0.460853  \n",
       "3            0.449289  \n",
       "4            0.735324  "
      ]
     },
     "execution_count": 30,
     "metadata": {},
     "output_type": "execute_result"
    }
   ],
   "source": [
    "metainfo_pair = pd.read_csv(f'../data/meta/metainfo_replicate*_{pair}.csv', index_col=0)\n",
    "metainfo_pair.head()"
   ]
  },
  {
   "cell_type": "markdown",
   "metadata": {},
   "source": [
    "### Calculate protein abundance "
   ]
  },
  {
   "cell_type": "markdown",
   "metadata": {},
   "source": [
    "We calculate protein abundance as per-cell average pixel intensity"
   ]
  },
  {
   "cell_type": "code",
   "execution_count": 11,
   "metadata": {},
   "outputs": [],
   "source": [
    "def calculate_intensity(img, reduce='mean'):\n",
    "    assert reduce in ('mean', 'median', 'max')\n",
    "    return eval(f'np.{reduce}')(img)"
   ]
  },
  {
   "cell_type": "code",
   "execution_count": 48,
   "metadata": {},
   "outputs": [],
   "source": [
    "def calculate_protein_abundance(metainfo, reduce='mean'):\n",
    "    metainfo['abundance'] = [calculate_intensity(np.load(fn), reduce) for fn in tqdm(metainfo.file, leave=False)]\n",
    "    return metainfo"
   ]
  },
  {
   "cell_type": "code",
   "execution_count": 49,
   "metadata": {},
   "outputs": [
    {
     "data": {
      "application/vnd.jupyter.widget-view+json": {
       "model_id": "",
       "version_major": 2,
       "version_minor": 0
      },
      "text/plain": [
       "HBox(children=(FloatProgress(value=0.0, max=6304.0), HTML(value='')))"
      ]
     },
     "metadata": {},
     "output_type": "display_data"
    }
   ],
   "source": [
    "metainfo_pair = calculate_protein_abundance(metainfo_pair)"
   ]
  },
  {
   "cell_type": "code",
   "execution_count": 104,
   "metadata": {},
   "outputs": [
    {
     "data": {
      "text/html": [
       "<div>\n",
       "<style scoped>\n",
       "    .dataframe tbody tr th:only-of-type {\n",
       "        vertical-align: middle;\n",
       "    }\n",
       "\n",
       "    .dataframe tbody tr th {\n",
       "        vertical-align: top;\n",
       "    }\n",
       "\n",
       "    .dataframe thead th {\n",
       "        text-align: right;\n",
       "    }\n",
       "</style>\n",
       "<table border=\"1\" class=\"dataframe\">\n",
       "  <thead>\n",
       "    <tr style=\"text-align: right;\">\n",
       "      <th></th>\n",
       "      <th>URL</th>\n",
       "      <th>replicate</th>\n",
       "      <th>cell_id</th>\n",
       "      <th>file</th>\n",
       "      <th>Row</th>\n",
       "      <th>Column</th>\n",
       "      <th>Field</th>\n",
       "      <th>R-C</th>\n",
       "      <th>GFP</th>\n",
       "      <th>natMX4</th>\n",
       "      <th>pairs</th>\n",
       "      <th>label</th>\n",
       "      <th>class</th>\n",
       "      <th>abundance</th>\n",
       "    </tr>\n",
       "  </thead>\n",
       "  <tbody>\n",
       "    <tr>\n",
       "      <th>0</th>\n",
       "      <td>5019001</td>\n",
       "      <td>replicate1</td>\n",
       "      <td>0000.npy</td>\n",
       "      <td>../data/frames/replicate1/005019001/0000.npy</td>\n",
       "      <td>5</td>\n",
       "      <td>19</td>\n",
       "      <td>1</td>\n",
       "      <td>5-19</td>\n",
       "      <td>AAP1</td>\n",
       "      <td>NaN</td>\n",
       "      <td>AAP1-APE2</td>\n",
       "      <td>AAP1-GFP APE2-WT</td>\n",
       "      <td>0</td>\n",
       "      <td>31.602539</td>\n",
       "    </tr>\n",
       "    <tr>\n",
       "      <th>1</th>\n",
       "      <td>5019001</td>\n",
       "      <td>replicate1</td>\n",
       "      <td>0001.npy</td>\n",
       "      <td>../data/frames/replicate1/005019001/0001.npy</td>\n",
       "      <td>5</td>\n",
       "      <td>19</td>\n",
       "      <td>1</td>\n",
       "      <td>5-19</td>\n",
       "      <td>AAP1</td>\n",
       "      <td>NaN</td>\n",
       "      <td>AAP1-APE2</td>\n",
       "      <td>AAP1-GFP APE2-WT</td>\n",
       "      <td>0</td>\n",
       "      <td>41.653809</td>\n",
       "    </tr>\n",
       "    <tr>\n",
       "      <th>2</th>\n",
       "      <td>5019001</td>\n",
       "      <td>replicate1</td>\n",
       "      <td>0002.npy</td>\n",
       "      <td>../data/frames/replicate1/005019001/0002.npy</td>\n",
       "      <td>5</td>\n",
       "      <td>19</td>\n",
       "      <td>1</td>\n",
       "      <td>5-19</td>\n",
       "      <td>AAP1</td>\n",
       "      <td>NaN</td>\n",
       "      <td>AAP1-APE2</td>\n",
       "      <td>AAP1-GFP APE2-WT</td>\n",
       "      <td>0</td>\n",
       "      <td>54.278564</td>\n",
       "    </tr>\n",
       "    <tr>\n",
       "      <th>3</th>\n",
       "      <td>5019001</td>\n",
       "      <td>replicate1</td>\n",
       "      <td>0003.npy</td>\n",
       "      <td>../data/frames/replicate1/005019001/0003.npy</td>\n",
       "      <td>5</td>\n",
       "      <td>19</td>\n",
       "      <td>1</td>\n",
       "      <td>5-19</td>\n",
       "      <td>AAP1</td>\n",
       "      <td>NaN</td>\n",
       "      <td>AAP1-APE2</td>\n",
       "      <td>AAP1-GFP APE2-WT</td>\n",
       "      <td>0</td>\n",
       "      <td>53.708496</td>\n",
       "    </tr>\n",
       "    <tr>\n",
       "      <th>4</th>\n",
       "      <td>5019001</td>\n",
       "      <td>replicate1</td>\n",
       "      <td>0004.npy</td>\n",
       "      <td>../data/frames/replicate1/005019001/0004.npy</td>\n",
       "      <td>5</td>\n",
       "      <td>19</td>\n",
       "      <td>1</td>\n",
       "      <td>5-19</td>\n",
       "      <td>AAP1</td>\n",
       "      <td>NaN</td>\n",
       "      <td>AAP1-APE2</td>\n",
       "      <td>AAP1-GFP APE2-WT</td>\n",
       "      <td>0</td>\n",
       "      <td>67.809082</td>\n",
       "    </tr>\n",
       "  </tbody>\n",
       "</table>\n",
       "</div>"
      ],
      "text/plain": [
       "       URL   replicate   cell_id  \\\n",
       "0  5019001  replicate1  0000.npy   \n",
       "1  5019001  replicate1  0001.npy   \n",
       "2  5019001  replicate1  0002.npy   \n",
       "3  5019001  replicate1  0003.npy   \n",
       "4  5019001  replicate1  0004.npy   \n",
       "\n",
       "                                           file  Row  Column  Field   R-C  \\\n",
       "0  ../data/frames/replicate1/005019001/0000.npy    5      19      1  5-19   \n",
       "1  ../data/frames/replicate1/005019001/0001.npy    5      19      1  5-19   \n",
       "2  ../data/frames/replicate1/005019001/0002.npy    5      19      1  5-19   \n",
       "3  ../data/frames/replicate1/005019001/0003.npy    5      19      1  5-19   \n",
       "4  ../data/frames/replicate1/005019001/0004.npy    5      19      1  5-19   \n",
       "\n",
       "    GFP natMX4      pairs             label  class  abundance  \n",
       "0  AAP1    NaN  AAP1-APE2  AAP1-GFP APE2-WT      0  31.602539  \n",
       "1  AAP1    NaN  AAP1-APE2  AAP1-GFP APE2-WT      0  41.653809  \n",
       "2  AAP1    NaN  AAP1-APE2  AAP1-GFP APE2-WT      0  54.278564  \n",
       "3  AAP1    NaN  AAP1-APE2  AAP1-GFP APE2-WT      0  53.708496  \n",
       "4  AAP1    NaN  AAP1-APE2  AAP1-GFP APE2-WT      0  67.809082  "
      ]
     },
     "execution_count": 104,
     "metadata": {},
     "output_type": "execute_result"
    }
   ],
   "source": [
    "metainfo_pair.head()"
   ]
  },
  {
   "cell_type": "code",
   "execution_count": 46,
   "metadata": {},
   "outputs": [],
   "source": [
    "def plot_abundance_boxplots(metainfo_pair, y='abundance', logscale=True, separate_replicates=True, save=False, save_path='../results/abundance/'):\n",
    "    fig, axes = plt.subplots(ncols=2, figsize=(12, 4), sharey=True)\n",
    "    pair = np.unique(metainfo_pair.GFP)\n",
    "    for i, (gene, ax) in enumerate(zip(pair, axes)):\n",
    "        sns.boxplot(data=metainfo_pair[metainfo_pair.GFP==gene], x='label', y=y, hue='replicate' if separate_replicates else None, ax=ax)\n",
    "        labels = [item.get_text().replace(' ', '\\n') for item in ax.get_xticklabels()]\n",
    "        ax.set_xticklabels(labels)\n",
    "        ax.set_title(gene)\n",
    "        if logscale:\n",
    "            ax.set(yscale=\"log\")\n",
    "    plt.tight_layout()\n",
    "    if save:\n",
    "        pair = \"-\".join(pair)\n",
    "        plt.savefig(f'{save_path}/{pair}.png')\n",
    "        fig.clear()\n",
    "    else:\n",
    "        plt.show()\n",
    "    return"
   ]
  },
  {
   "cell_type": "code",
   "execution_count": 101,
   "metadata": {},
   "outputs": [
    {
     "data": {
      "image/png": "[encoded data removed]",
      "text/plain": [
       "<Figure size 864x288 with 2 Axes>"
      ]
     },
     "metadata": {
      "needs_background": "light"
     },
     "output_type": "display_data"
    }
   ],
   "source": [
    "plot_abundance_boxplots(metainfo_pair)"
   ]
  },
  {
   "cell_type": "code",
   "execution_count": 35,
   "metadata": {},
   "outputs": [],
   "source": [
    "def calculate_protein_abundance_all_pairs(update_metainfo=True, reduce='mean'):\n",
    "    metainfo = pd.read_csv('../data/meta/metainfo.csv', sep=',', index_col=0, dtype={'URL': object}).reset_index()\n",
    "    for pair in tqdm(np.unique(metainfo.pairs)):\n",
    "        fn = f'../data/meta/metainfo_replicate*_{pair}.csv'\n",
    "        metainfo_pair = pd.read_csv(fn, index_col=0)\n",
    "        if 'abundance' not in metainfo_pair.columns:\n",
    "            metainfo_pair = calculate_protein_abundance(metainfo_pair, reduce)\n",
    "            if update_metainfo:\n",
    "                metainfo_pair.to_csv(fn)\n",
    "        plot_abundance_boxplots(metainfo_pair, save=True)"
   ]
  },
  {
   "cell_type": "code",
   "execution_count": null,
   "metadata": {
    "scrolled": true
   },
   "outputs": [],
   "source": [
    "calculate_protein_abundance_all_pairs()"
   ]
  },
  {
   "cell_type": "markdown",
   "metadata": {},
   "source": [
    "We can aggregate protein abundance by replicate and label to evaluate relative changes"
   ]
  },
  {
   "cell_type": "code",
   "execution_count": 36,
   "metadata": {},
   "outputs": [],
   "source": [
    "def aggregate_protein_abundance(by=('replicate', 'label'), agg_column='abundance'):\n",
    "    metainfo = pd.read_csv('../data/meta/metainfo.csv', sep=',', index_col=0, dtype={'URL': object}).reset_index()\n",
    "    if isinstance(by, str):\n",
    "        by = [by]\n",
    "    results = []\n",
    "    for pair in tqdm(np.unique(metainfo.pairs)):\n",
    "        if pair.startswith('control'):\n",
    "            continue\n",
    "        metainfo_pair = pd.read_csv(f'../data/meta/metainfo_replicate*_{pair}.csv', index_col=0).loc[:, ['pairs', *by, agg_column]]\n",
    "        metainfo_pair = metainfo_pair.groupby(['pairs', *by]).mean()\n",
    "        results.append(metainfo_pair)\n",
    "    results = pd.concat(results)\n",
    "    return results"
   ]
  },
  {
   "cell_type": "code",
   "execution_count": 37,
   "metadata": {},
   "outputs": [
    {
     "data": {
      "application/vnd.jupyter.widget-view+json": {
       "model_id": "",
       "version_major": 2,
       "version_minor": 0
      },
      "text/plain": [
       "  0%|          | 0/92 [00:00<?, ?it/s]"
      ]
     },
     "metadata": {},
     "output_type": "display_data"
    }
   ],
   "source": [
    "aggregated_abundance = aggregate_protein_abundance()"
   ]
  },
  {
   "cell_type": "code",
   "execution_count": 39,
   "metadata": {},
   "outputs": [
    {
     "data": {
      "text/html": [
       "<div>\n",
       "<style scoped>\n",
       "    .dataframe tbody tr th:only-of-type {\n",
       "        vertical-align: middle;\n",
       "    }\n",
       "\n",
       "    .dataframe tbody tr th {\n",
       "        vertical-align: top;\n",
       "    }\n",
       "\n",
       "    .dataframe thead th {\n",
       "        text-align: right;\n",
       "    }\n",
       "</style>\n",
       "<table border=\"1\" class=\"dataframe\">\n",
       "  <thead>\n",
       "    <tr style=\"text-align: right;\">\n",
       "      <th></th>\n",
       "      <th></th>\n",
       "      <th></th>\n",
       "      <th>abundance</th>\n",
       "    </tr>\n",
       "    <tr>\n",
       "      <th>pairs</th>\n",
       "      <th>replicate</th>\n",
       "      <th>label</th>\n",
       "      <th></th>\n",
       "    </tr>\n",
       "  </thead>\n",
       "  <tbody>\n",
       "    <tr>\n",
       "      <th rowspan=\"5\" valign=\"top\">AAP1-APE2</th>\n",
       "      <th rowspan=\"4\" valign=\"top\">replicate1</th>\n",
       "      <th>AAP1-GFP APE2-DELTA</th>\n",
       "      <td>65.014016</td>\n",
       "    </tr>\n",
       "    <tr>\n",
       "      <th>AAP1-GFP APE2-WT</th>\n",
       "      <td>59.956622</td>\n",
       "    </tr>\n",
       "    <tr>\n",
       "      <th>APE2-GFP AAP1-DELTA</th>\n",
       "      <td>30.252105</td>\n",
       "    </tr>\n",
       "    <tr>\n",
       "      <th>APE2-GFP AAP1-WT</th>\n",
       "      <td>30.412981</td>\n",
       "    </tr>\n",
       "    <tr>\n",
       "      <th>replicate2</th>\n",
       "      <th>AAP1-GFP APE2-DELTA</th>\n",
       "      <td>83.056090</td>\n",
       "    </tr>\n",
       "  </tbody>\n",
       "</table>\n",
       "</div>"
      ],
      "text/plain": [
       "                                          abundance\n",
       "pairs     replicate  label                         \n",
       "AAP1-APE2 replicate1 AAP1-GFP APE2-DELTA  65.014016\n",
       "                     AAP1-GFP APE2-WT     59.956622\n",
       "                     APE2-GFP AAP1-DELTA  30.252105\n",
       "                     APE2-GFP AAP1-WT     30.412981\n",
       "          replicate2 AAP1-GFP APE2-DELTA  83.056090"
      ]
     },
     "execution_count": 39,
     "metadata": {},
     "output_type": "execute_result"
    }
   ],
   "source": [
    "aggregated_abundance.head()"
   ]
  },
  {
   "cell_type": "code",
   "execution_count": 128,
   "metadata": {},
   "outputs": [],
   "source": [
    "aggregated_abundance.to_csv('../results/protein_abundance.csv')"
   ]
  },
  {
   "cell_type": "markdown",
   "metadata": {},
   "source": [
    "### Standardize abundance by replicate mean and std"
   ]
  },
  {
   "cell_type": "markdown",
   "metadata": {},
   "source": [
    "Aggregate per-replicate abundance sum and cell counts to obtain the mean and std "
   ]
  },
  {
   "cell_type": "code",
   "execution_count": 40,
   "metadata": {},
   "outputs": [],
   "source": [
    "def standardize_abundance():\n",
    "    metainfo = pd.read_csv('../data/meta/metainfo.csv', sep=',', index_col=0, dtype={'URL': object}).reset_index()\n",
    "\n",
    "    abundances = [pd.read_csv(f'../data/meta/metainfo_replicate*_{pair}.csv').loc[:, [\"replicate\", \"abundance\"]] \n",
    "                  for pair in tqdm(np.unique(metainfo.pairs)) if pair != \"control\"]    \n",
    "    abundances = pd.concat(abundances)\n",
    "    abundance_statistics = abundances.groupby(\"replicate\").agg([\"mean\", \"std\"])\n",
    "    \n",
    "    for pair in tqdm(np.unique(metainfo.pairs)):\n",
    "        if pair == \"control\":\n",
    "            continue\n",
    "\n",
    "        fn = f\"../data/meta/metainfo_replicate*_{pair}.csv\"\n",
    "        metainfo_pair = pd.read_csv(fn, index_col=0)\n",
    "        for replicate_id in range(1, 4):\n",
    "            replicate = f\"replicate{replicate_id}\"\n",
    "            mu = abundance_statistics.loc[replicate, \"abundance\"][\"mean\"]\n",
    "            std = abundance_statistics.loc[replicate, \"abundance\"][\"std\"]\n",
    "\n",
    "            abundance_repl_std = (metainfo_pair.loc[metainfo_pair.replicate == replicate, \"abundance\"] - mu) / std\n",
    "            metainfo_pair.loc[metainfo_pair.replicate == replicate, \"abundance_repl_std\"] = abundance_repl_std\n",
    "\n",
    "        metainfo_pair.to_csv(fn)\n",
    "    \n",
    "    return abundance_statistics"
   ]
  },
  {
   "cell_type": "code",
   "execution_count": 41,
   "metadata": {},
   "outputs": [
    {
     "data": {
      "application/vnd.jupyter.widget-view+json": {
       "model_id": "a696dda35c864ea68750837f01cc33be",
       "version_major": 2,
       "version_minor": 0
      },
      "text/plain": [
       "  0%|          | 0/92 [00:00<?, ?it/s]"
      ]
     },
     "metadata": {},
     "output_type": "display_data"
    },
    {
     "data": {
      "application/vnd.jupyter.widget-view+json": {
       "model_id": "fdd58cc60efe4172bab3cb290b042383",
       "version_major": 2,
       "version_minor": 0
      },
      "text/plain": [
       "  0%|          | 0/92 [00:00<?, ?it/s]"
      ]
     },
     "metadata": {},
     "output_type": "display_data"
    },
    {
     "data": {
      "text/html": [
       "<div>\n",
       "<style scoped>\n",
       "    .dataframe tbody tr th:only-of-type {\n",
       "        vertical-align: middle;\n",
       "    }\n",
       "\n",
       "    .dataframe tbody tr th {\n",
       "        vertical-align: top;\n",
       "    }\n",
       "\n",
       "    .dataframe thead tr th {\n",
       "        text-align: left;\n",
       "    }\n",
       "\n",
       "    .dataframe thead tr:last-of-type th {\n",
       "        text-align: right;\n",
       "    }\n",
       "</style>\n",
       "<table border=\"1\" class=\"dataframe\">\n",
       "  <thead>\n",
       "    <tr>\n",
       "      <th></th>\n",
       "      <th colspan=\"2\" halign=\"left\">abundance</th>\n",
       "    </tr>\n",
       "    <tr>\n",
       "      <th></th>\n",
       "      <th>mean</th>\n",
       "      <th>std</th>\n",
       "    </tr>\n",
       "    <tr>\n",
       "      <th>replicate</th>\n",
       "      <th></th>\n",
       "      <th></th>\n",
       "    </tr>\n",
       "  </thead>\n",
       "  <tbody>\n",
       "    <tr>\n",
       "      <th>replicate1</th>\n",
       "      <td>31.560045</td>\n",
       "      <td>49.296710</td>\n",
       "    </tr>\n",
       "    <tr>\n",
       "      <th>replicate2</th>\n",
       "      <td>46.543268</td>\n",
       "      <td>95.004610</td>\n",
       "    </tr>\n",
       "    <tr>\n",
       "      <th>replicate3</th>\n",
       "      <td>36.591180</td>\n",
       "      <td>78.319681</td>\n",
       "    </tr>\n",
       "  </tbody>\n",
       "</table>\n",
       "</div>"
      ],
      "text/plain": [
       "            abundance           \n",
       "                 mean        std\n",
       "replicate                       \n",
       "replicate1  31.560045  49.296710\n",
       "replicate2  46.543268  95.004610\n",
       "replicate3  36.591180  78.319681"
      ]
     },
     "execution_count": 41,
     "metadata": {},
     "output_type": "execute_result"
    }
   ],
   "source": [
    "abundance_statistics = standardize_abundance()\n",
    "abundance_statistics"
   ]
  },
  {
   "cell_type": "code",
   "execution_count": 42,
   "metadata": {},
   "outputs": [
    {
     "data": {
      "text/html": [
       "<div>\n",
       "<style scoped>\n",
       "    .dataframe tbody tr th:only-of-type {\n",
       "        vertical-align: middle;\n",
       "    }\n",
       "\n",
       "    .dataframe tbody tr th {\n",
       "        vertical-align: top;\n",
       "    }\n",
       "\n",
       "    .dataframe thead th {\n",
       "        text-align: right;\n",
       "    }\n",
       "</style>\n",
       "<table border=\"1\" class=\"dataframe\">\n",
       "  <thead>\n",
       "    <tr style=\"text-align: right;\">\n",
       "      <th></th>\n",
       "      <th>URL</th>\n",
       "      <th>replicate</th>\n",
       "      <th>cell_id</th>\n",
       "      <th>file</th>\n",
       "      <th>Row</th>\n",
       "      <th>Column</th>\n",
       "      <th>Field</th>\n",
       "      <th>R-C</th>\n",
       "      <th>GFP</th>\n",
       "      <th>natMX4</th>\n",
       "      <th>pairs</th>\n",
       "      <th>label</th>\n",
       "      <th>class</th>\n",
       "      <th>abundance</th>\n",
       "      <th>abundance_repl_std</th>\n",
       "    </tr>\n",
       "  </thead>\n",
       "  <tbody>\n",
       "    <tr>\n",
       "      <th>0</th>\n",
       "      <td>5019001</td>\n",
       "      <td>replicate1</td>\n",
       "      <td>0000.npy</td>\n",
       "      <td>../data/frames/replicate1/005019001/0000.npy</td>\n",
       "      <td>5</td>\n",
       "      <td>19</td>\n",
       "      <td>1</td>\n",
       "      <td>5-19</td>\n",
       "      <td>AAP1</td>\n",
       "      <td>NaN</td>\n",
       "      <td>AAP1-APE2</td>\n",
       "      <td>AAP1-GFP APE2-WT</td>\n",
       "      <td>0</td>\n",
       "      <td>31.602539</td>\n",
       "      <td>0.000862</td>\n",
       "    </tr>\n",
       "    <tr>\n",
       "      <th>1</th>\n",
       "      <td>5019001</td>\n",
       "      <td>replicate1</td>\n",
       "      <td>0001.npy</td>\n",
       "      <td>../data/frames/replicate1/005019001/0001.npy</td>\n",
       "      <td>5</td>\n",
       "      <td>19</td>\n",
       "      <td>1</td>\n",
       "      <td>5-19</td>\n",
       "      <td>AAP1</td>\n",
       "      <td>NaN</td>\n",
       "      <td>AAP1-APE2</td>\n",
       "      <td>AAP1-GFP APE2-WT</td>\n",
       "      <td>0</td>\n",
       "      <td>41.653809</td>\n",
       "      <td>0.204755</td>\n",
       "    </tr>\n",
       "    <tr>\n",
       "      <th>2</th>\n",
       "      <td>5019001</td>\n",
       "      <td>replicate1</td>\n",
       "      <td>0002.npy</td>\n",
       "      <td>../data/frames/replicate1/005019001/0002.npy</td>\n",
       "      <td>5</td>\n",
       "      <td>19</td>\n",
       "      <td>1</td>\n",
       "      <td>5-19</td>\n",
       "      <td>AAP1</td>\n",
       "      <td>NaN</td>\n",
       "      <td>AAP1-APE2</td>\n",
       "      <td>AAP1-GFP APE2-WT</td>\n",
       "      <td>0</td>\n",
       "      <td>54.278564</td>\n",
       "      <td>0.460853</td>\n",
       "    </tr>\n",
       "    <tr>\n",
       "      <th>3</th>\n",
       "      <td>5019001</td>\n",
       "      <td>replicate1</td>\n",
       "      <td>0003.npy</td>\n",
       "      <td>../data/frames/replicate1/005019001/0003.npy</td>\n",
       "      <td>5</td>\n",
       "      <td>19</td>\n",
       "      <td>1</td>\n",
       "      <td>5-19</td>\n",
       "      <td>AAP1</td>\n",
       "      <td>NaN</td>\n",
       "      <td>AAP1-APE2</td>\n",
       "      <td>AAP1-GFP APE2-WT</td>\n",
       "      <td>0</td>\n",
       "      <td>53.708496</td>\n",
       "      <td>0.449289</td>\n",
       "    </tr>\n",
       "    <tr>\n",
       "      <th>4</th>\n",
       "      <td>5019001</td>\n",
       "      <td>replicate1</td>\n",
       "      <td>0004.npy</td>\n",
       "      <td>../data/frames/replicate1/005019001/0004.npy</td>\n",
       "      <td>5</td>\n",
       "      <td>19</td>\n",
       "      <td>1</td>\n",
       "      <td>5-19</td>\n",
       "      <td>AAP1</td>\n",
       "      <td>NaN</td>\n",
       "      <td>AAP1-APE2</td>\n",
       "      <td>AAP1-GFP APE2-WT</td>\n",
       "      <td>0</td>\n",
       "      <td>67.809082</td>\n",
       "      <td>0.735324</td>\n",
       "    </tr>\n",
       "  </tbody>\n",
       "</table>\n",
       "</div>"
      ],
      "text/plain": [
       "       URL   replicate   cell_id  \\\n",
       "0  5019001  replicate1  0000.npy   \n",
       "1  5019001  replicate1  0001.npy   \n",
       "2  5019001  replicate1  0002.npy   \n",
       "3  5019001  replicate1  0003.npy   \n",
       "4  5019001  replicate1  0004.npy   \n",
       "\n",
       "                                           file  Row  Column  Field   R-C  \\\n",
       "0  ../data/frames/replicate1/005019001/0000.npy    5      19      1  5-19   \n",
       "1  ../data/frames/replicate1/005019001/0001.npy    5      19      1  5-19   \n",
       "2  ../data/frames/replicate1/005019001/0002.npy    5      19      1  5-19   \n",
       "3  ../data/frames/replicate1/005019001/0003.npy    5      19      1  5-19   \n",
       "4  ../data/frames/replicate1/005019001/0004.npy    5      19      1  5-19   \n",
       "\n",
       "    GFP natMX4      pairs             label  class  abundance  \\\n",
       "0  AAP1    NaN  AAP1-APE2  AAP1-GFP APE2-WT      0  31.602539   \n",
       "1  AAP1    NaN  AAP1-APE2  AAP1-GFP APE2-WT      0  41.653809   \n",
       "2  AAP1    NaN  AAP1-APE2  AAP1-GFP APE2-WT      0  54.278564   \n",
       "3  AAP1    NaN  AAP1-APE2  AAP1-GFP APE2-WT      0  53.708496   \n",
       "4  AAP1    NaN  AAP1-APE2  AAP1-GFP APE2-WT      0  67.809082   \n",
       "\n",
       "   abundance_repl_std  \n",
       "0            0.000862  \n",
       "1            0.204755  \n",
       "2            0.460853  \n",
       "3            0.449289  \n",
       "4            0.735324  "
      ]
     },
     "execution_count": 42,
     "metadata": {},
     "output_type": "execute_result"
    }
   ],
   "source": [
    "metainfo_pair = pd.read_csv(f'../data/meta/metainfo_replicate*_{pair}.csv', index_col=0)\n",
    "metainfo_pair.head()"
   ]
  },
  {
   "cell_type": "markdown",
   "metadata": {},
   "source": [
    "Compare boxplots before and after normalization"
   ]
  },
  {
   "cell_type": "code",
   "execution_count": 101,
   "metadata": {},
   "outputs": [
    {
     "data": {
      "image/png": "[encoded data removed]",
      "text/plain": [
       "<Figure size 864x288 with 2 Axes>"
      ]
     },
     "metadata": {
      "needs_background": "light"
     },
     "output_type": "display_data"
    }
   ],
   "source": [
    "plot_abundance_boxplots(metainfo_pair)"
   ]
  },
  {
   "cell_type": "code",
   "execution_count": 48,
   "metadata": {},
   "outputs": [
    {
     "data": {
      "image/png": "[encoded data removed]",
      "text/plain": [
       "<Figure size 864x288 with 2 Axes>"
      ]
     },
     "metadata": {
      "needs_background": "light"
     },
     "output_type": "display_data"
    }
   ],
   "source": [
    "plot_abundance_boxplots(metainfo_pair, y=\"abundance_repl_std\", logscale=False)"
   ]
  },
  {
   "cell_type": "markdown",
   "metadata": {},
   "source": [
    "Aggregate standardized abundance"
   ]
  },
  {
   "cell_type": "code",
   "execution_count": 49,
   "metadata": {},
   "outputs": [
    {
     "data": {
      "application/vnd.jupyter.widget-view+json": {
       "model_id": "60d93a551256495aac4fb7bdc8017749",
       "version_major": 2,
       "version_minor": 0
      },
      "text/plain": [
       "  0%|          | 0/92 [00:00<?, ?it/s]"
      ]
     },
     "metadata": {},
     "output_type": "display_data"
    }
   ],
   "source": [
    "aggregated_abundance_std = aggregate_protein_abundance(agg_column='abundance_repl_std')"
   ]
  },
  {
   "cell_type": "code",
   "execution_count": 50,
   "metadata": {},
   "outputs": [
    {
     "data": {
      "text/html": [
       "<div>\n",
       "<style scoped>\n",
       "    .dataframe tbody tr th:only-of-type {\n",
       "        vertical-align: middle;\n",
       "    }\n",
       "\n",
       "    .dataframe tbody tr th {\n",
       "        vertical-align: top;\n",
       "    }\n",
       "\n",
       "    .dataframe thead th {\n",
       "        text-align: right;\n",
       "    }\n",
       "</style>\n",
       "<table border=\"1\" class=\"dataframe\">\n",
       "  <thead>\n",
       "    <tr style=\"text-align: right;\">\n",
       "      <th></th>\n",
       "      <th></th>\n",
       "      <th></th>\n",
       "      <th>abundance_repl_std</th>\n",
       "    </tr>\n",
       "    <tr>\n",
       "      <th>pairs</th>\n",
       "      <th>replicate</th>\n",
       "      <th>label</th>\n",
       "      <th></th>\n",
       "    </tr>\n",
       "  </thead>\n",
       "  <tbody>\n",
       "    <tr>\n",
       "      <th rowspan=\"5\" valign=\"top\">AAP1-APE2</th>\n",
       "      <th rowspan=\"4\" valign=\"top\">replicate1</th>\n",
       "      <th>AAP1-GFP APE2-DELTA</th>\n",
       "      <td>0.678625</td>\n",
       "    </tr>\n",
       "    <tr>\n",
       "      <th>AAP1-GFP APE2-WT</th>\n",
       "      <td>0.576034</td>\n",
       "    </tr>\n",
       "    <tr>\n",
       "      <th>APE2-GFP AAP1-DELTA</th>\n",
       "      <td>-0.026532</td>\n",
       "    </tr>\n",
       "    <tr>\n",
       "      <th>APE2-GFP AAP1-WT</th>\n",
       "      <td>-0.023269</td>\n",
       "    </tr>\n",
       "    <tr>\n",
       "      <th>replicate2</th>\n",
       "      <th>AAP1-GFP APE2-DELTA</th>\n",
       "      <td>0.384327</td>\n",
       "    </tr>\n",
       "  </tbody>\n",
       "</table>\n",
       "</div>"
      ],
      "text/plain": [
       "                                          abundance_repl_std\n",
       "pairs     replicate  label                                  \n",
       "AAP1-APE2 replicate1 AAP1-GFP APE2-DELTA            0.678625\n",
       "                     AAP1-GFP APE2-WT               0.576034\n",
       "                     APE2-GFP AAP1-DELTA           -0.026532\n",
       "                     APE2-GFP AAP1-WT              -0.023269\n",
       "          replicate2 AAP1-GFP APE2-DELTA            0.384327"
      ]
     },
     "execution_count": 50,
     "metadata": {},
     "output_type": "execute_result"
    }
   ],
   "source": [
    "aggregated_abundance_std.head()"
   ]
  },
  {
   "cell_type": "code",
   "execution_count": 51,
   "metadata": {},
   "outputs": [],
   "source": [
    "aggregated_abundance.to_csv('../results/protein_abundance_std.csv')"
   ]
  },
  {
   "cell_type": "markdown",
   "metadata": {},
   "source": [
    "### Correlation between protein abundance and PCA of NN-extracted features "
   ]
  },
  {
   "cell_type": "markdown",
   "metadata": {},
   "source": [
    "#### Features "
   ]
  },
  {
   "cell_type": "code",
   "execution_count": 52,
   "metadata": {},
   "outputs": [
    {
     "data": {
      "text/html": [
       "<div>\n",
       "<style scoped>\n",
       "    .dataframe tbody tr th:only-of-type {\n",
       "        vertical-align: middle;\n",
       "    }\n",
       "\n",
       "    .dataframe tbody tr th {\n",
       "        vertical-align: top;\n",
       "    }\n",
       "\n",
       "    .dataframe thead th {\n",
       "        text-align: right;\n",
       "    }\n",
       "</style>\n",
       "<table border=\"1\" class=\"dataframe\">\n",
       "  <thead>\n",
       "    <tr style=\"text-align: right;\">\n",
       "      <th></th>\n",
       "      <th>0</th>\n",
       "      <th>1</th>\n",
       "      <th>2</th>\n",
       "      <th>3</th>\n",
       "      <th>4</th>\n",
       "      <th>5</th>\n",
       "      <th>6</th>\n",
       "      <th>7</th>\n",
       "      <th>8</th>\n",
       "      <th>9</th>\n",
       "      <th>...</th>\n",
       "      <th>118</th>\n",
       "      <th>119</th>\n",
       "      <th>120</th>\n",
       "      <th>121</th>\n",
       "      <th>122</th>\n",
       "      <th>123</th>\n",
       "      <th>124</th>\n",
       "      <th>125</th>\n",
       "      <th>126</th>\n",
       "      <th>127</th>\n",
       "    </tr>\n",
       "  </thead>\n",
       "  <tbody>\n",
       "    <tr>\n",
       "      <th>0</th>\n",
       "      <td>0.803845</td>\n",
       "      <td>-1.063626</td>\n",
       "      <td>-0.470264</td>\n",
       "      <td>-0.417291</td>\n",
       "      <td>0.159868</td>\n",
       "      <td>2.193857</td>\n",
       "      <td>0.355372</td>\n",
       "      <td>1.783669</td>\n",
       "      <td>-1.028136</td>\n",
       "      <td>0.786052</td>\n",
       "      <td>...</td>\n",
       "      <td>-0.060393</td>\n",
       "      <td>-0.762097</td>\n",
       "      <td>-0.330148</td>\n",
       "      <td>-0.705988</td>\n",
       "      <td>0.853672</td>\n",
       "      <td>1.299046</td>\n",
       "      <td>-0.019354</td>\n",
       "      <td>1.945260</td>\n",
       "      <td>-2.430594</td>\n",
       "      <td>-0.955674</td>\n",
       "    </tr>\n",
       "    <tr>\n",
       "      <th>1</th>\n",
       "      <td>0.269529</td>\n",
       "      <td>0.833618</td>\n",
       "      <td>-0.303484</td>\n",
       "      <td>-1.288153</td>\n",
       "      <td>-0.186532</td>\n",
       "      <td>0.899072</td>\n",
       "      <td>0.059809</td>\n",
       "      <td>0.414781</td>\n",
       "      <td>1.090755</td>\n",
       "      <td>0.867908</td>\n",
       "      <td>...</td>\n",
       "      <td>-0.397714</td>\n",
       "      <td>0.050640</td>\n",
       "      <td>0.527787</td>\n",
       "      <td>-0.249515</td>\n",
       "      <td>1.403761</td>\n",
       "      <td>0.753299</td>\n",
       "      <td>-2.241924</td>\n",
       "      <td>1.653790</td>\n",
       "      <td>-3.107253</td>\n",
       "      <td>-0.534687</td>\n",
       "    </tr>\n",
       "    <tr>\n",
       "      <th>2</th>\n",
       "      <td>-0.098850</td>\n",
       "      <td>1.509408</td>\n",
       "      <td>-0.802964</td>\n",
       "      <td>-0.830278</td>\n",
       "      <td>0.268753</td>\n",
       "      <td>-0.088368</td>\n",
       "      <td>0.798738</td>\n",
       "      <td>-0.192084</td>\n",
       "      <td>0.423347</td>\n",
       "      <td>0.029683</td>\n",
       "      <td>...</td>\n",
       "      <td>0.442849</td>\n",
       "      <td>-1.129825</td>\n",
       "      <td>-0.701527</td>\n",
       "      <td>-0.071731</td>\n",
       "      <td>0.516035</td>\n",
       "      <td>0.347986</td>\n",
       "      <td>-1.344414</td>\n",
       "      <td>0.071652</td>\n",
       "      <td>-3.597669</td>\n",
       "      <td>-1.485204</td>\n",
       "    </tr>\n",
       "    <tr>\n",
       "      <th>3</th>\n",
       "      <td>-0.398464</td>\n",
       "      <td>2.762806</td>\n",
       "      <td>0.136945</td>\n",
       "      <td>-0.086150</td>\n",
       "      <td>1.020314</td>\n",
       "      <td>0.597819</td>\n",
       "      <td>0.216370</td>\n",
       "      <td>1.089388</td>\n",
       "      <td>1.064613</td>\n",
       "      <td>0.048474</td>\n",
       "      <td>...</td>\n",
       "      <td>0.489981</td>\n",
       "      <td>-1.513579</td>\n",
       "      <td>-0.650922</td>\n",
       "      <td>0.107981</td>\n",
       "      <td>1.440051</td>\n",
       "      <td>0.250051</td>\n",
       "      <td>-2.107182</td>\n",
       "      <td>0.494131</td>\n",
       "      <td>-2.395733</td>\n",
       "      <td>-0.439831</td>\n",
       "    </tr>\n",
       "    <tr>\n",
       "      <th>4</th>\n",
       "      <td>-0.991266</td>\n",
       "      <td>1.167365</td>\n",
       "      <td>-0.900481</td>\n",
       "      <td>-1.257962</td>\n",
       "      <td>0.600498</td>\n",
       "      <td>0.264937</td>\n",
       "      <td>0.808625</td>\n",
       "      <td>-0.103103</td>\n",
       "      <td>0.880270</td>\n",
       "      <td>1.139972</td>\n",
       "      <td>...</td>\n",
       "      <td>0.481216</td>\n",
       "      <td>-0.822856</td>\n",
       "      <td>-1.715647</td>\n",
       "      <td>-0.719808</td>\n",
       "      <td>0.434213</td>\n",
       "      <td>0.720799</td>\n",
       "      <td>-1.872080</td>\n",
       "      <td>0.631717</td>\n",
       "      <td>-3.907800</td>\n",
       "      <td>-1.689479</td>\n",
       "    </tr>\n",
       "  </tbody>\n",
       "</table>\n",
       "<p>5 rows × 128 columns</p>\n",
       "</div>"
      ],
      "text/plain": [
       "          0         1         2         3         4         5         6  \\\n",
       "0  0.803845 -1.063626 -0.470264 -0.417291  0.159868  2.193857  0.355372   \n",
       "1  0.269529  0.833618 -0.303484 -1.288153 -0.186532  0.899072  0.059809   \n",
       "2 -0.098850  1.509408 -0.802964 -0.830278  0.268753 -0.088368  0.798738   \n",
       "3 -0.398464  2.762806  0.136945 -0.086150  1.020314  0.597819  0.216370   \n",
       "4 -0.991266  1.167365 -0.900481 -1.257962  0.600498  0.264937  0.808625   \n",
       "\n",
       "          7         8         9  ...       118       119       120       121  \\\n",
       "0  1.783669 -1.028136  0.786052  ... -0.060393 -0.762097 -0.330148 -0.705988   \n",
       "1  0.414781  1.090755  0.867908  ... -0.397714  0.050640  0.527787 -0.249515   \n",
       "2 -0.192084  0.423347  0.029683  ...  0.442849 -1.129825 -0.701527 -0.071731   \n",
       "3  1.089388  1.064613  0.048474  ...  0.489981 -1.513579 -0.650922  0.107981   \n",
       "4 -0.103103  0.880270  1.139972  ...  0.481216 -0.822856 -1.715647 -0.719808   \n",
       "\n",
       "        122       123       124       125       126       127  \n",
       "0  0.853672  1.299046 -0.019354  1.945260 -2.430594 -0.955674  \n",
       "1  1.403761  0.753299 -2.241924  1.653790 -3.107253 -0.534687  \n",
       "2  0.516035  0.347986 -1.344414  0.071652 -3.597669 -1.485204  \n",
       "3  1.440051  0.250051 -2.107182  0.494131 -2.395733 -0.439831  \n",
       "4  0.434213  0.720799 -1.872080  0.631717 -3.907800 -1.689479  \n",
       "\n",
       "[5 rows x 128 columns]"
      ]
     },
     "execution_count": 52,
     "metadata": {},
     "output_type": "execute_result"
    }
   ],
   "source": [
    "features_pair = pd.read_csv(f'../results/predictions-arc/{pair}-features.csv', index_col=0).drop('label', axis=1)\n",
    "features_pair.head()"
   ]
  },
  {
   "cell_type": "code",
   "execution_count": 53,
   "metadata": {},
   "outputs": [],
   "source": [
    "def calculate_pca_abundance_correlation(pair, split=True, abundance_col=\"abundance\"):\n",
    "    features_pair = pd.read_csv(f'../results/predictions-arc/{pair}-features.csv', index_col=0).drop('label', axis=1)\n",
    "    metainfo_pair = pd.read_csv(f'../data/meta/metainfo_replicate*_{pair}.csv', index_col=0)\n",
    "    \n",
    "    results = []\n",
    "    if split:\n",
    "        for gene in metainfo_pair.GFP.unique():\n",
    "            mask = metainfo_pair.GFP == gene\n",
    "            pc0 = PCA(n_components=1).fit_transform(features_pair[mask]).flatten()\n",
    "            r, p = pearsonr(metainfo_pair[abundance_col][mask], pc0)\n",
    "            results.append({'pair': pair, 'gene': gene, 'n': mask.sum(), 'r': r, 'p': p, 'rabs': np.abs(r)})\n",
    "    else:\n",
    "        pc0 = PCA(n_components=1).fit_transform(features_pair).flatten()\n",
    "        r, p = pearsonr(metainfo_pair.abundance, pc0)\n",
    "        results.append({'pair': pair, 'r': r, 'n': len(pc0), 'p': p, 'rabs': np.abs(r)})\n",
    "    return results"
   ]
  },
  {
   "cell_type": "code",
   "execution_count": 56,
   "metadata": {},
   "outputs": [],
   "source": [
    "res = calculate_pca_abundance_correlation(pair, split=True)"
   ]
  },
  {
   "cell_type": "code",
   "execution_count": 59,
   "metadata": {},
   "outputs": [],
   "source": [
    "def calculate_pca_abundance_correlation_all_pairs(abundance_col=\"abundance\"):\n",
    "    metainfo = pd.read_csv('../data/meta/metainfo.csv', sep=',', index_col=0, dtype={'URL': object}).reset_index()\n",
    "    results = []\n",
    "    for pair in tqdm(np.unique(metainfo.pairs)):\n",
    "        if pair.startswith('control'):\n",
    "            continue\n",
    "        res = calculate_pca_abundance_correlation(pair, abundance_col=abundance_col)\n",
    "        results.extend(res)\n",
    "    return pd.DataFrame(results)"
   ]
  },
  {
   "cell_type": "code",
   "execution_count": 58,
   "metadata": {},
   "outputs": [
    {
     "data": {
      "application/vnd.jupyter.widget-view+json": {
       "model_id": "b1ffe6d2094042499b53ca14372e6738",
       "version_major": 2,
       "version_minor": 0
      },
      "text/plain": [
       "  0%|          | 0/92 [00:00<?, ?it/s]"
      ]
     },
     "metadata": {},
     "output_type": "display_data"
    }
   ],
   "source": [
    "pca_abundance_correlation = calculate_pca_abundance_correlation_all_pairs()"
   ]
  },
  {
   "cell_type": "code",
   "execution_count": 64,
   "metadata": {},
   "outputs": [
    {
     "data": {
      "text/html": [
       "<div>\n",
       "<style scoped>\n",
       "    .dataframe tbody tr th:only-of-type {\n",
       "        vertical-align: middle;\n",
       "    }\n",
       "\n",
       "    .dataframe tbody tr th {\n",
       "        vertical-align: top;\n",
       "    }\n",
       "\n",
       "    .dataframe thead th {\n",
       "        text-align: right;\n",
       "    }\n",
       "</style>\n",
       "<table border=\"1\" class=\"dataframe\">\n",
       "  <thead>\n",
       "    <tr style=\"text-align: right;\">\n",
       "      <th></th>\n",
       "      <th>pair</th>\n",
       "      <th>gene</th>\n",
       "      <th>n</th>\n",
       "      <th>r</th>\n",
       "      <th>p</th>\n",
       "      <th>rabs</th>\n",
       "    </tr>\n",
       "  </thead>\n",
       "  <tbody>\n",
       "    <tr>\n",
       "      <th>118</th>\n",
       "      <td>RGI1-RGI2</td>\n",
       "      <td>RGI1</td>\n",
       "      <td>6300</td>\n",
       "      <td>0.781621</td>\n",
       "      <td>0.000000e+00</td>\n",
       "      <td>0.781621</td>\n",
       "    </tr>\n",
       "    <tr>\n",
       "      <th>112</th>\n",
       "      <td>POR2-POR1</td>\n",
       "      <td>POR2</td>\n",
       "      <td>6192</td>\n",
       "      <td>0.703069</td>\n",
       "      <td>0.000000e+00</td>\n",
       "      <td>0.703069</td>\n",
       "    </tr>\n",
       "    <tr>\n",
       "      <th>152</th>\n",
       "      <td>URA5-URA10</td>\n",
       "      <td>URA5</td>\n",
       "      <td>5100</td>\n",
       "      <td>-0.702307</td>\n",
       "      <td>0.000000e+00</td>\n",
       "      <td>0.702307</td>\n",
       "    </tr>\n",
       "    <tr>\n",
       "      <th>25</th>\n",
       "      <td>CUE1-CUE4</td>\n",
       "      <td>CUE4</td>\n",
       "      <td>3307</td>\n",
       "      <td>-0.699803</td>\n",
       "      <td>0.000000e+00</td>\n",
       "      <td>0.699803</td>\n",
       "    </tr>\n",
       "    <tr>\n",
       "      <th>68</th>\n",
       "      <td>HTA2-HTA1</td>\n",
       "      <td>HTA2</td>\n",
       "      <td>1981</td>\n",
       "      <td>-0.699659</td>\n",
       "      <td>2.828769e-291</td>\n",
       "      <td>0.699659</td>\n",
       "    </tr>\n",
       "    <tr>\n",
       "      <th>...</th>\n",
       "      <td>...</td>\n",
       "      <td>...</td>\n",
       "      <td>...</td>\n",
       "      <td>...</td>\n",
       "      <td>...</td>\n",
       "      <td>...</td>\n",
       "    </tr>\n",
       "    <tr>\n",
       "      <th>78</th>\n",
       "      <td>KCC4-GIN4</td>\n",
       "      <td>KCC4</td>\n",
       "      <td>1218</td>\n",
       "      <td>0.010451</td>\n",
       "      <td>7.155826e-01</td>\n",
       "      <td>0.010451</td>\n",
       "    </tr>\n",
       "    <tr>\n",
       "      <th>67</th>\n",
       "      <td>HER1-GIP3</td>\n",
       "      <td>GIP3</td>\n",
       "      <td>5220</td>\n",
       "      <td>-0.003936</td>\n",
       "      <td>7.761811e-01</td>\n",
       "      <td>0.003936</td>\n",
       "    </tr>\n",
       "    <tr>\n",
       "      <th>66</th>\n",
       "      <td>HER1-GIP3</td>\n",
       "      <td>HER1</td>\n",
       "      <td>2678</td>\n",
       "      <td>-0.002968</td>\n",
       "      <td>8.780002e-01</td>\n",
       "      <td>0.002968</td>\n",
       "    </tr>\n",
       "    <tr>\n",
       "      <th>110</th>\n",
       "      <td>PHO87-PHO90</td>\n",
       "      <td>PHO87</td>\n",
       "      <td>1850</td>\n",
       "      <td>0.001516</td>\n",
       "      <td>9.480409e-01</td>\n",
       "      <td>0.001516</td>\n",
       "    </tr>\n",
       "    <tr>\n",
       "      <th>162</th>\n",
       "      <td>YEH1-YEH2</td>\n",
       "      <td>YEH1</td>\n",
       "      <td>2463</td>\n",
       "      <td>-0.000155</td>\n",
       "      <td>9.938595e-01</td>\n",
       "      <td>0.000155</td>\n",
       "    </tr>\n",
       "  </tbody>\n",
       "</table>\n",
       "<p>182 rows × 6 columns</p>\n",
       "</div>"
      ],
      "text/plain": [
       "            pair   gene     n         r              p      rabs\n",
       "118    RGI1-RGI2   RGI1  6300  0.781621   0.000000e+00  0.781621\n",
       "112    POR2-POR1   POR2  6192  0.703069   0.000000e+00  0.703069\n",
       "152   URA5-URA10   URA5  5100 -0.702307   0.000000e+00  0.702307\n",
       "25     CUE1-CUE4   CUE4  3307 -0.699803   0.000000e+00  0.699803\n",
       "68     HTA2-HTA1   HTA2  1981 -0.699659  2.828769e-291  0.699659\n",
       "..           ...    ...   ...       ...            ...       ...\n",
       "78     KCC4-GIN4   KCC4  1218  0.010451   7.155826e-01  0.010451\n",
       "67     HER1-GIP3   GIP3  5220 -0.003936   7.761811e-01  0.003936\n",
       "66     HER1-GIP3   HER1  2678 -0.002968   8.780002e-01  0.002968\n",
       "110  PHO87-PHO90  PHO87  1850  0.001516   9.480409e-01  0.001516\n",
       "162    YEH1-YEH2   YEH1  2463 -0.000155   9.938595e-01  0.000155\n",
       "\n",
       "[182 rows x 6 columns]"
      ]
     },
     "execution_count": 64,
     "metadata": {},
     "output_type": "execute_result"
    }
   ],
   "source": [
    "pca_abundance_correlation.sort_values('rabs', ascending=False)"
   ]
  },
  {
   "cell_type": "code",
   "execution_count": 67,
   "metadata": {},
   "outputs": [],
   "source": [
    "pca_abundance_correlation.to_csv('../results/pca_abundance_correlation_by_gene.csv')"
   ]
  },
  {
   "cell_type": "markdown",
   "metadata": {},
   "source": [
    "Same but for standardized values"
   ]
  },
  {
   "cell_type": "code",
   "execution_count": 61,
   "metadata": {},
   "outputs": [
    {
     "data": {
      "application/vnd.jupyter.widget-view+json": {
       "model_id": "d9a6a5e7b6f046be93b26d6a909cb357",
       "version_major": 2,
       "version_minor": 0
      },
      "text/plain": [
       "  0%|          | 0/92 [00:00<?, ?it/s]"
      ]
     },
     "metadata": {},
     "output_type": "display_data"
    }
   ],
   "source": [
    "pca_abundance_correlation_std = calculate_pca_abundance_correlation_all_pairs(\"abundance_repl_std\")"
   ]
  },
  {
   "cell_type": "code",
   "execution_count": 62,
   "metadata": {},
   "outputs": [
    {
     "data": {
      "text/html": [
       "<div>\n",
       "<style scoped>\n",
       "    .dataframe tbody tr th:only-of-type {\n",
       "        vertical-align: middle;\n",
       "    }\n",
       "\n",
       "    .dataframe tbody tr th {\n",
       "        vertical-align: top;\n",
       "    }\n",
       "\n",
       "    .dataframe thead th {\n",
       "        text-align: right;\n",
       "    }\n",
       "</style>\n",
       "<table border=\"1\" class=\"dataframe\">\n",
       "  <thead>\n",
       "    <tr style=\"text-align: right;\">\n",
       "      <th></th>\n",
       "      <th>pair</th>\n",
       "      <th>gene</th>\n",
       "      <th>n</th>\n",
       "      <th>r</th>\n",
       "      <th>p</th>\n",
       "      <th>rabs</th>\n",
       "    </tr>\n",
       "  </thead>\n",
       "  <tbody>\n",
       "    <tr>\n",
       "      <th>118</th>\n",
       "      <td>RGI1-RGI2</td>\n",
       "      <td>RGI1</td>\n",
       "      <td>6300</td>\n",
       "      <td>0.770112</td>\n",
       "      <td>0.000000e+00</td>\n",
       "      <td>0.770112</td>\n",
       "    </tr>\n",
       "    <tr>\n",
       "      <th>36</th>\n",
       "      <td>EDC2-EDC1</td>\n",
       "      <td>EDC2</td>\n",
       "      <td>2042</td>\n",
       "      <td>0.744323</td>\n",
       "      <td>0.000000e+00</td>\n",
       "      <td>0.744323</td>\n",
       "    </tr>\n",
       "    <tr>\n",
       "      <th>152</th>\n",
       "      <td>URA5-URA10</td>\n",
       "      <td>URA5</td>\n",
       "      <td>5100</td>\n",
       "      <td>-0.727996</td>\n",
       "      <td>0.000000e+00</td>\n",
       "      <td>0.727996</td>\n",
       "    </tr>\n",
       "    <tr>\n",
       "      <th>25</th>\n",
       "      <td>CUE1-CUE4</td>\n",
       "      <td>CUE4</td>\n",
       "      <td>3307</td>\n",
       "      <td>-0.722076</td>\n",
       "      <td>0.000000e+00</td>\n",
       "      <td>0.722076</td>\n",
       "    </tr>\n",
       "    <tr>\n",
       "      <th>68</th>\n",
       "      <td>HTA2-HTA1</td>\n",
       "      <td>HTA2</td>\n",
       "      <td>1981</td>\n",
       "      <td>-0.705974</td>\n",
       "      <td>8.110134e-299</td>\n",
       "      <td>0.705974</td>\n",
       "    </tr>\n",
       "    <tr>\n",
       "      <th>...</th>\n",
       "      <td>...</td>\n",
       "      <td>...</td>\n",
       "      <td>...</td>\n",
       "      <td>...</td>\n",
       "      <td>...</td>\n",
       "      <td>...</td>\n",
       "    </tr>\n",
       "    <tr>\n",
       "      <th>24</th>\n",
       "      <td>CUE1-CUE4</td>\n",
       "      <td>CUE1</td>\n",
       "      <td>3958</td>\n",
       "      <td>-0.010264</td>\n",
       "      <td>5.185799e-01</td>\n",
       "      <td>0.010264</td>\n",
       "    </tr>\n",
       "    <tr>\n",
       "      <th>56</th>\n",
       "      <td>GPB2-GPB1</td>\n",
       "      <td>GPB2</td>\n",
       "      <td>1233</td>\n",
       "      <td>-0.008157</td>\n",
       "      <td>7.747577e-01</td>\n",
       "      <td>0.008157</td>\n",
       "    </tr>\n",
       "    <tr>\n",
       "      <th>115</th>\n",
       "      <td>RCR1-RCR2</td>\n",
       "      <td>RCR2</td>\n",
       "      <td>3531</td>\n",
       "      <td>-0.003561</td>\n",
       "      <td>8.324896e-01</td>\n",
       "      <td>0.003561</td>\n",
       "    </tr>\n",
       "    <tr>\n",
       "      <th>26</th>\n",
       "      <td>CUP2-HAA1</td>\n",
       "      <td>CUP2</td>\n",
       "      <td>2912</td>\n",
       "      <td>0.002091</td>\n",
       "      <td>9.101948e-01</td>\n",
       "      <td>0.002091</td>\n",
       "    </tr>\n",
       "    <tr>\n",
       "      <th>65</th>\n",
       "      <td>HBS1-SKI7</td>\n",
       "      <td>SKI7</td>\n",
       "      <td>5015</td>\n",
       "      <td>0.001326</td>\n",
       "      <td>9.252141e-01</td>\n",
       "      <td>0.001326</td>\n",
       "    </tr>\n",
       "  </tbody>\n",
       "</table>\n",
       "<p>182 rows × 6 columns</p>\n",
       "</div>"
      ],
      "text/plain": [
       "           pair  gene     n         r              p      rabs\n",
       "118   RGI1-RGI2  RGI1  6300  0.770112   0.000000e+00  0.770112\n",
       "36    EDC2-EDC1  EDC2  2042  0.744323   0.000000e+00  0.744323\n",
       "152  URA5-URA10  URA5  5100 -0.727996   0.000000e+00  0.727996\n",
       "25    CUE1-CUE4  CUE4  3307 -0.722076   0.000000e+00  0.722076\n",
       "68    HTA2-HTA1  HTA2  1981 -0.705974  8.110134e-299  0.705974\n",
       "..          ...   ...   ...       ...            ...       ...\n",
       "24    CUE1-CUE4  CUE1  3958 -0.010264   5.185799e-01  0.010264\n",
       "56    GPB2-GPB1  GPB2  1233 -0.008157   7.747577e-01  0.008157\n",
       "115   RCR1-RCR2  RCR2  3531 -0.003561   8.324896e-01  0.003561\n",
       "26    CUP2-HAA1  CUP2  2912  0.002091   9.101948e-01  0.002091\n",
       "65    HBS1-SKI7  SKI7  5015  0.001326   9.252141e-01  0.001326\n",
       "\n",
       "[182 rows x 6 columns]"
      ]
     },
     "execution_count": 62,
     "metadata": {},
     "output_type": "execute_result"
    }
   ],
   "source": [
    "pca_abundance_correlation_std.sort_values('rabs', ascending=False)"
   ]
  },
  {
   "cell_type": "code",
   "execution_count": 63,
   "metadata": {},
   "outputs": [],
   "source": [
    "pca_abundance_correlation_std.to_csv('../results/pca_abundance_correlation_by_gene_std.csv')"
   ]
  },
  {
   "cell_type": "markdown",
   "metadata": {},
   "source": [
    "### Relative changes"
   ]
  },
  {
   "cell_type": "code",
   "execution_count": 64,
   "metadata": {
    "scrolled": true
   },
   "outputs": [
    {
     "data": {
      "text/plain": [
       "array(['replicate1', 'replicate2', 'replicate3'], dtype=object)"
      ]
     },
     "execution_count": 64,
     "metadata": {},
     "output_type": "execute_result"
    }
   ],
   "source": [
    "aggregated_abundance.reset_index().replicate.unique()"
   ]
  },
  {
   "cell_type": "code",
   "execution_count": 65,
   "metadata": {},
   "outputs": [
    {
     "data": {
      "text/html": [
       "<div>\n",
       "<style scoped>\n",
       "    .dataframe tbody tr th:only-of-type {\n",
       "        vertical-align: middle;\n",
       "    }\n",
       "\n",
       "    .dataframe tbody tr th {\n",
       "        vertical-align: top;\n",
       "    }\n",
       "\n",
       "    .dataframe thead th {\n",
       "        text-align: right;\n",
       "    }\n",
       "</style>\n",
       "<table border=\"1\" class=\"dataframe\">\n",
       "  <thead>\n",
       "    <tr style=\"text-align: right;\">\n",
       "      <th></th>\n",
       "      <th></th>\n",
       "      <th></th>\n",
       "      <th>abundance</th>\n",
       "    </tr>\n",
       "    <tr>\n",
       "      <th>pairs</th>\n",
       "      <th>replicate</th>\n",
       "      <th>label</th>\n",
       "      <th></th>\n",
       "    </tr>\n",
       "  </thead>\n",
       "  <tbody>\n",
       "    <tr>\n",
       "      <th rowspan=\"5\" valign=\"top\">AAP1-APE2</th>\n",
       "      <th rowspan=\"4\" valign=\"top\">replicate1</th>\n",
       "      <th>AAP1-GFP APE2-DELTA</th>\n",
       "      <td>65.014016</td>\n",
       "    </tr>\n",
       "    <tr>\n",
       "      <th>AAP1-GFP APE2-WT</th>\n",
       "      <td>59.956622</td>\n",
       "    </tr>\n",
       "    <tr>\n",
       "      <th>APE2-GFP AAP1-DELTA</th>\n",
       "      <td>30.252105</td>\n",
       "    </tr>\n",
       "    <tr>\n",
       "      <th>APE2-GFP AAP1-WT</th>\n",
       "      <td>30.412981</td>\n",
       "    </tr>\n",
       "    <tr>\n",
       "      <th>replicate2</th>\n",
       "      <th>AAP1-GFP APE2-DELTA</th>\n",
       "      <td>83.056090</td>\n",
       "    </tr>\n",
       "  </tbody>\n",
       "</table>\n",
       "</div>"
      ],
      "text/plain": [
       "                                          abundance\n",
       "pairs     replicate  label                         \n",
       "AAP1-APE2 replicate1 AAP1-GFP APE2-DELTA  65.014016\n",
       "                     AAP1-GFP APE2-WT     59.956622\n",
       "                     APE2-GFP AAP1-DELTA  30.252105\n",
       "                     APE2-GFP AAP1-WT     30.412981\n",
       "          replicate2 AAP1-GFP APE2-DELTA  83.056090"
      ]
     },
     "execution_count": 65,
     "metadata": {},
     "output_type": "execute_result"
    }
   ],
   "source": [
    "aggregated_abundance.head()"
   ]
  },
  {
   "cell_type": "code",
   "execution_count": 70,
   "metadata": {},
   "outputs": [],
   "source": [
    "def calculate_relative_changes(aggregated_abundance, abundance_col='abundance'):\n",
    "    relative_changes = []\n",
    "    for (pair, replicate), df in tqdm(aggregated_abundance.reset_index().groupby(['pairs', 'replicate'])):\n",
    "        df = df.reset_index()[['label', abundance_col]]\n",
    "        df['GFP'] = df['label'].apply(lambda x: x.split('-')[0])\n",
    "        for gene, group in df.groupby('GFP'):\n",
    "            if len(group) == 2:\n",
    "                # Calculate delta / wt intensity ratio\n",
    "                abundance = group[abundance_col].tolist()\n",
    "                ratio = abundance[0] / abundance[1]\n",
    "                relative_changes.append({\n",
    "                    'GFP': gene,\n",
    "                    'pair': pair,\n",
    "                    'replicate': replicate,\n",
    "                    'ratio': ratio\n",
    "                })\n",
    "\n",
    "    return pd.DataFrame(relative_changes)"
   ]
  },
  {
   "cell_type": "code",
   "execution_count": 77,
   "metadata": {},
   "outputs": [
    {
     "data": {
      "application/vnd.jupyter.widget-view+json": {
       "model_id": "34687b8c69b249c59f50dfb2ccf9dcf2",
       "version_major": 2,
       "version_minor": 0
      },
      "text/plain": [
       "  0%|          | 0/282 [00:00<?, ?it/s]"
      ]
     },
     "metadata": {},
     "output_type": "display_data"
    },
    {
     "data": {
      "text/html": [
       "<div>\n",
       "<style scoped>\n",
       "    .dataframe tbody tr th:only-of-type {\n",
       "        vertical-align: middle;\n",
       "    }\n",
       "\n",
       "    .dataframe tbody tr th {\n",
       "        vertical-align: top;\n",
       "    }\n",
       "\n",
       "    .dataframe thead th {\n",
       "        text-align: right;\n",
       "    }\n",
       "</style>\n",
       "<table border=\"1\" class=\"dataframe\">\n",
       "  <thead>\n",
       "    <tr style=\"text-align: right;\">\n",
       "      <th></th>\n",
       "      <th>GFP</th>\n",
       "      <th>pair</th>\n",
       "      <th>replicate</th>\n",
       "      <th>ratio</th>\n",
       "    </tr>\n",
       "  </thead>\n",
       "  <tbody>\n",
       "    <tr>\n",
       "      <th>0</th>\n",
       "      <td>AAP1</td>\n",
       "      <td>AAP1-APE2</td>\n",
       "      <td>replicate1</td>\n",
       "      <td>1.084351</td>\n",
       "    </tr>\n",
       "    <tr>\n",
       "      <th>1</th>\n",
       "      <td>APE2</td>\n",
       "      <td>AAP1-APE2</td>\n",
       "      <td>replicate1</td>\n",
       "      <td>0.994710</td>\n",
       "    </tr>\n",
       "    <tr>\n",
       "      <th>2</th>\n",
       "      <td>AAP1</td>\n",
       "      <td>AAP1-APE2</td>\n",
       "      <td>replicate2</td>\n",
       "      <td>1.038387</td>\n",
       "    </tr>\n",
       "    <tr>\n",
       "      <th>3</th>\n",
       "      <td>APE2</td>\n",
       "      <td>AAP1-APE2</td>\n",
       "      <td>replicate2</td>\n",
       "      <td>1.271363</td>\n",
       "    </tr>\n",
       "    <tr>\n",
       "      <th>4</th>\n",
       "      <td>AAP1</td>\n",
       "      <td>AAP1-APE2</td>\n",
       "      <td>replicate3</td>\n",
       "      <td>1.017135</td>\n",
       "    </tr>\n",
       "  </tbody>\n",
       "</table>\n",
       "</div>"
      ],
      "text/plain": [
       "    GFP       pair   replicate     ratio\n",
       "0  AAP1  AAP1-APE2  replicate1  1.084351\n",
       "1  APE2  AAP1-APE2  replicate1  0.994710\n",
       "2  AAP1  AAP1-APE2  replicate2  1.038387\n",
       "3  APE2  AAP1-APE2  replicate2  1.271363\n",
       "4  AAP1  AAP1-APE2  replicate3  1.017135"
      ]
     },
     "execution_count": 77,
     "metadata": {},
     "output_type": "execute_result"
    }
   ],
   "source": [
    "relative_changes = calculate_relative_changes(aggregated_abundance)\n",
    "relative_changes.head()"
   ]
  },
  {
   "cell_type": "code",
   "execution_count": 170,
   "metadata": {},
   "outputs": [],
   "source": [
    "relative_changes.to_csv('../results/relative_changes.csv')"
   ]
  },
  {
   "cell_type": "code",
   "execution_count": 78,
   "metadata": {},
   "outputs": [
    {
     "data": {
      "application/vnd.jupyter.widget-view+json": {
       "model_id": "6b8f87a528dd4547a9cfd3c1765ddc1a",
       "version_major": 2,
       "version_minor": 0
      },
      "text/plain": [
       "  0%|          | 0/282 [00:00<?, ?it/s]"
      ]
     },
     "metadata": {},
     "output_type": "display_data"
    },
    {
     "data": {
      "text/html": [
       "<div>\n",
       "<style scoped>\n",
       "    .dataframe tbody tr th:only-of-type {\n",
       "        vertical-align: middle;\n",
       "    }\n",
       "\n",
       "    .dataframe tbody tr th {\n",
       "        vertical-align: top;\n",
       "    }\n",
       "\n",
       "    .dataframe thead th {\n",
       "        text-align: right;\n",
       "    }\n",
       "</style>\n",
       "<table border=\"1\" class=\"dataframe\">\n",
       "  <thead>\n",
       "    <tr style=\"text-align: right;\">\n",
       "      <th></th>\n",
       "      <th>GFP</th>\n",
       "      <th>pair</th>\n",
       "      <th>replicate</th>\n",
       "      <th>ratio</th>\n",
       "    </tr>\n",
       "  </thead>\n",
       "  <tbody>\n",
       "    <tr>\n",
       "      <th>0</th>\n",
       "      <td>AAP1</td>\n",
       "      <td>AAP1-APE2</td>\n",
       "      <td>replicate1</td>\n",
       "      <td>1.178099</td>\n",
       "    </tr>\n",
       "    <tr>\n",
       "      <th>1</th>\n",
       "      <td>APE2</td>\n",
       "      <td>AAP1-APE2</td>\n",
       "      <td>replicate1</td>\n",
       "      <td>1.140250</td>\n",
       "    </tr>\n",
       "    <tr>\n",
       "      <th>2</th>\n",
       "      <td>AAP1</td>\n",
       "      <td>AAP1-APE2</td>\n",
       "      <td>replicate2</td>\n",
       "      <td>1.091811</td>\n",
       "    </tr>\n",
       "    <tr>\n",
       "      <th>3</th>\n",
       "      <td>APE2</td>\n",
       "      <td>AAP1-APE2</td>\n",
       "      <td>replicate2</td>\n",
       "      <td>0.365769</td>\n",
       "    </tr>\n",
       "    <tr>\n",
       "      <th>4</th>\n",
       "      <td>AAP1</td>\n",
       "      <td>AAP1-APE2</td>\n",
       "      <td>replicate3</td>\n",
       "      <td>1.044514</td>\n",
       "    </tr>\n",
       "  </tbody>\n",
       "</table>\n",
       "</div>"
      ],
      "text/plain": [
       "    GFP       pair   replicate     ratio\n",
       "0  AAP1  AAP1-APE2  replicate1  1.178099\n",
       "1  APE2  AAP1-APE2  replicate1  1.140250\n",
       "2  AAP1  AAP1-APE2  replicate2  1.091811\n",
       "3  APE2  AAP1-APE2  replicate2  0.365769\n",
       "4  AAP1  AAP1-APE2  replicate3  1.044514"
      ]
     },
     "execution_count": 78,
     "metadata": {},
     "output_type": "execute_result"
    }
   ],
   "source": [
    "relative_changes_std = calculate_relative_changes(aggregated_abundance_std, \"abundance_repl_std\")\n",
    "relative_changes_std.head()"
   ]
  },
  {
   "cell_type": "code",
   "execution_count": 79,
   "metadata": {},
   "outputs": [],
   "source": [
    "relative_changes_std.to_csv('../results/relative_changes_std.csv')"
   ]
  },
  {
   "cell_type": "code",
   "execution_count": 83,
   "metadata": {},
   "outputs": [],
   "source": [
    "def plot_relative_changes(relative_changes, eps=1e-7):\n",
    "    fig, ax = plt.subplots(figsize=(15, 5))\n",
    "    relative_changes = relative_changes.dropna()\n",
    "    coords = np.log(relative_changes['ratio'] + eps)\n",
    "    # coords = np.log(relative_changes.Avg_intensity_by_area)\n",
    "    sns.stripplot(x=coords, linewidth=1, ax=ax, jitter=0.2)\n",
    "    sns.boxplot(x=coords, fliersize=0, whis=3, boxprops=dict(alpha=0.2))\n",
    "\n",
    "    interesting = []\n",
    "    for c in ax.collections:\n",
    "        for name, replicate, of in zip(relative_changes.GFP.tolist(), relative_changes.replicate.tolist(), c.get_offsets()):\n",
    "            if of[0] < -1 or of[0] > 1:\n",
    "                name = f'{name} (R{replicate[-1]})'\n",
    "                ax.annotate(name, of)\n",
    "                interesting.append(name)\n",
    "\n",
    "    plt.tight_layout()\n",
    "    ax.set_xlabel('log relative intensity (delta / WT)')\n",
    "    plt.show()"
   ]
  },
  {
   "cell_type": "code",
   "execution_count": 84,
   "metadata": {},
   "outputs": [
    {
     "data": {
      "image/png": "[encoded data removed]",
      "text/plain": [
       "<Figure size 1080x360 with 1 Axes>"
      ]
     },
     "metadata": {
      "needs_background": "light"
     },
     "output_type": "display_data"
    }
   ],
   "source": [
    "plot_relative_changes(relative_changes)"
   ]
  },
  {
   "cell_type": "code",
   "execution_count": 85,
   "metadata": {},
   "outputs": [
    {
     "name": "stderr",
     "output_type": "stream",
     "text": [
      "/gpfs/space/home/papkov/.local/lib/python3.7/site-packages/pandas/core/arraylike.py:364: RuntimeWarning: invalid value encountered in log\n",
      "  result = getattr(ufunc, method)(*inputs, **kwargs)\n"
     ]
    },
    {
     "data": {
      "image/png": "[encoded data removed]",
      "text/plain": [
       "<Figure size 1080x360 with 1 Axes>"
      ]
     },
     "metadata": {
      "needs_background": "light"
     },
     "output_type": "display_data"
    }
   ],
   "source": [
    "plot_relative_changes(relative_changes_std)"
   ]
  },
  {
   "cell_type": "code",
   "execution_count": null,
   "metadata": {},
   "outputs": [],
   "source": []
  }
 ],
 "metadata": {
  "kernelspec": {
   "display_name": "peenv (conda)",
   "language": "python",
   "name": "peenv36"
  },
  "language_info": {
   "codemirror_mode": {
    "name": "ipython",
    "version": 3
   },
   "file_extension": ".py",
   "mimetype": "text/x-python",
   "name": "python",
   "nbconvert_exporter": "python",
   "pygments_lexer": "ipython3",
   "version": "3.7.4"
  }
 },
 "nbformat": 4,
 "nbformat_minor": 2
}
